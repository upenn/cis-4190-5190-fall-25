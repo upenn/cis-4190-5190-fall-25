{
 "cells": [
  {
   "cell_type": "markdown",
   "metadata": {
    "id": "ncDh8NUMEqS5"
   },
   "source": [
    "#CIS 519\n",
    "# **K Nearest Neighbors (KNN)**\n",
    "\n",
    "- **Contributors:** Ty Nguyen, Halley Young, Kyle Vedder, Dan Gallagher, Pratik Kunapuli\n",
    "\n",
    "The objective of this notebook is to walk through a working example of the K Nearest Neighbors (KNN) classification algorithm for the task of\n",
    "handwritten digit classification. The handwritten digits denote number 0-9. We will be using the famous MNIST dataset here.\n",
    "\n"
   ]
  },
  {
   "cell_type": "code",
   "execution_count": null,
   "metadata": {
    "id": "bkLasBQNphiA"
   },
   "outputs": [],
   "source": [
    "# Install packages if necessary\n",
    "# !python -m pip install scikit-learn"
   ]
  },
  {
   "cell_type": "markdown",
   "metadata": {
    "id": "CXfedgmsEtxK"
   },
   "source": [
    "##Import Libraries"
   ]
  },
  {
   "cell_type": "code",
   "execution_count": null,
   "metadata": {
    "id": "BPJG99TGEv93"
   },
   "outputs": [],
   "source": [
    "from skimage import exposure\n",
    "import matplotlib.pyplot as plt\n",
    "import numpy as np\n",
    "import cv2\n",
    "import matplotlib as mpl\n",
    "# Some simple settings to make nice figures\n",
    "mpl.rc('axes', labelsize=14)\n",
    "mpl.rc('xtick', labelsize=14)\n",
    "mpl.rc('ytick', labelsize=14) # y axis's label size\n",
    "mpl.rc('font', size=24) # Fig's title size\n",
    "mpl.rc('legend', fontsize=14) # Legend's fontsize\n",
    "mpl.rc('pdf', fonttype=42) # To avoid font-type-3 issue when importing figures as pdf for paper publication\n",
    "mpl.rc('font', family={'Times','monospace','sans-serif','monospace'}) # Font type priority in this order"
   ]
  },
  {
   "cell_type": "markdown",
   "metadata": {
    "id": "6CjqGOLWE2I2"
   },
   "source": [
    "## Dataset\n",
    "\n",
    "Sklearn has several famous datasets built into the package, including MNIST. All we have to do is load it. After we do so, we can create training, validation, and testing data (for review on this function, refer to the Sklearn material in the coding ptimer).\n"
   ]
  },
  {
   "cell_type": "code",
   "execution_count": null,
   "metadata": {
    "colab": {
     "base_uri": "https://localhost:8080/"
    },
    "executionInfo": {
     "elapsed": 126,
     "status": "ok",
     "timestamp": 1631556350366,
     "user": {
      "displayName": "Pratik Kunapuli",
      "photoUrl": "https://lh3.googleusercontent.com/a/default-user=s64",
      "userId": "06083668107413541378"
     },
     "user_tz": 240
    },
    "id": "HyBiPIM1FCte",
    "outputId": "2e34ab61-72da-41bd-f410-2355ba8e41b8"
   },
   "outputs": [
    {
     "name": "stdout",
     "output_type": "stream",
     "text": [
      "training data points: 1212\n",
      "validation data points: 135\n",
      "testing data points: 450\n",
      "Shape of X_train: (1212, 64)\n",
      "Shape of y_train: (1212,)\n",
      "Learn more about this data\n",
      ": .. _digits_dataset:\n",
      "\n",
      "Optical recognition of handwritten digits dataset\n",
      "--------------------------------------------------\n",
      "\n",
      "**Data Set Characteristics:**\n",
      "\n",
      "    :Number of Instances: 5620\n",
      "    :Number of Attributes: 64\n",
      "    :Attribute Information: 8x8 image of integer pixels in the range 0..16.\n",
      "    :Missing Attribute Values: None\n",
      "    :Creator: E. Alpaydin (alpaydin '@' boun.edu.tr)\n",
      "    :Date: July; 1998\n",
      "\n",
      "This is a copy of the test set of the UCI ML hand-written digits datasets\n",
      "https://archive.ics.uci.edu/ml/datasets/Optical+Recognition+of+Handwritten+Digits\n",
      "\n",
      "The data set contains images of hand-written digits: 10 classes where\n",
      "each class refers to a digit.\n",
      "\n",
      "Preprocessing programs made available by NIST were used to extract\n",
      "normalized bitmaps of handwritten digits from a preprinted form. From a\n",
      "total of 43 people, 30 contributed to the training set and different 13\n",
      "to the test set. 32x32 bitmaps are divided into nonoverlapping blocks of\n",
      "4x4 and the number of on pixels are counted in each block. This generates\n",
      "an input matrix of 8x8 where each element is an integer in the range\n",
      "0..16. This reduces dimensionality and gives invariance to small\n",
      "distortions.\n",
      "\n",
      "For info on NIST preprocessing routines, see M. D. Garris, J. L. Blue, G.\n",
      "T. Candela, D. L. Dimmick, J. Geist, P. J. Grother, S. A. Janet, and C.\n",
      "L. Wilson, NIST Form-Based Handprint Recognition System, NISTIR 5469,\n",
      "1994.\n",
      "\n",
      ".. topic:: References\n",
      "\n",
      "  - C. Kaynak (1995) Methods of Combining Multiple Classifiers and Their\n",
      "    Applications to Handwritten Digit Recognition, MSc Thesis, Institute of\n",
      "    Graduate Studies in Science and Engineering, Bogazici University.\n",
      "  - E. Alpaydin, C. Kaynak (1998) Cascading Classifiers, Kybernetika.\n",
      "  - Ken Tang and Ponnuthurai N. Suganthan and Xi Yao and A. Kai Qin.\n",
      "    Linear dimensionalityreduction using relevance weighted LDA. School of\n",
      "    Electrical and Electronic Engineering Nanyang Technological University.\n",
      "    2005.\n",
      "  - Claudio Gentile. A New Approximate Maximal Margin Classification\n",
      "    Algorithm. NIPS. 2000.\n"
     ]
    }
   ],
   "source": [
    "from sklearn.datasets import load_digits\n",
    "from sklearn.model_selection import train_test_split\n",
    "\n",
    "# load the MNIST digits dataset\n",
    "mnist = load_digits()\n",
    "\"\"\"\n",
    "**Data Set Characteristics:**\n",
    "    :Number of Instances: 5620\n",
    "    :Number of Attributes: 64\n",
    "    :Attribute Information: 8x8 image of integer pixels in the range 0..16.\n",
    "    :Missing Attribute Values: None\n",
    "    :Creator: E. Alpaydin (alpaydin '@' boun.edu.tr)\n",
    "    :Date: July; 1998\n",
    "\"\"\"\n",
    "\n",
    "# take the MNIST data and construct the training and testing split, using 75% of the\n",
    "# data for training and 25% for testing\n",
    "# TODO: Create train, test split. Maybe use the function train_test_split()\n",
    "X_train, X_test, y_train, y_test = train_test_split(np.array(mnist.data),\n",
    "mnist.target, test_size=0.25, random_state=0)\n",
    "\n",
    "# now, let's take 10% of the training data and use that for validation\n",
    "\n",
    "(X_train, X_val, y_train, y_val) = train_test_split(X_train, y_train, test_size=0.1, random_state=42)\n",
    "\n",
    "# show the sizes of each data split\n",
    "\n",
    "print(\"training data points: {}\".format(len(y_train)))\n",
    "print(\"validation data points: {}\".format(len(y_val)))\n",
    "print(\"testing data points: {}\".format(len(y_test)))\n",
    "print(f\"Shape of X_train: {X_train.shape}\")\n",
    "print(f\"Shape of y_train: {y_train.shape}\")\n",
    "\n",
    "# sklearn functions come with a 'DESCR' attribute that gives you documentation on the dataset\n",
    "print(f\"Learn more about this data\\n: {mnist['DESCR']}\")"
   ]
  },
  {
   "cell_type": "markdown",
   "metadata": {
    "id": "cvNmcMA5qOes"
   },
   "source": [
    "## Data Visualization\n",
    "One of the important steps in machine learning & data analysis is to understand the data. Besides the meaning and the range of the value of each attribute in the data, this step often involves data visualization.  \n",
    "\n",
    "**Don't blindly trust the data description. It's not uncommon to have noisy/incorrect data**"
   ]
  },
  {
   "cell_type": "markdown",
   "metadata": {
    "id": "2U_nLKuqvHLU"
   },
   "source": [
    "First, let's just get an idea of how our data is laid out."
   ]
  },
  {
   "cell_type": "code",
   "execution_count": null,
   "metadata": {
    "id": "EN7S6L54vOny"
   },
   "outputs": [],
   "source": [
    "# TODO: Investigate the data layout\n",
    "X_train"
   ]
  },
  {
   "cell_type": "markdown",
   "metadata": {
    "id": "2ZRAttxJwXk7"
   },
   "source": [
    "We can get a pretty good idea of how it looks through arrays, but a Pandas table might make things just a bit clearer. We'll just look at the first 5 rows for simplicity. Pandas DataFrames are very useful object for handling data, especially when working with named columns for specific indexing. In this example we won't use any of these features but this will be coming soon."
   ]
  },
  {
   "cell_type": "code",
   "execution_count": null,
   "metadata": {
    "colab": {
     "base_uri": "https://localhost:8080/",
     "height": 225
    },
    "executionInfo": {
     "elapsed": 266,
     "status": "ok",
     "timestamp": 1631557977967,
     "user": {
      "displayName": "Pratik Kunapuli",
      "photoUrl": "https://lh3.googleusercontent.com/a/default-user=s64",
      "userId": "06083668107413541378"
     },
     "user_tz": 240
    },
    "id": "Yib3R-bIvo8P",
    "outputId": "c6405f4f-806f-480a-e31b-78f4516d9bb5"
   },
   "outputs": [
    {
     "data": {
      "text/html": [
       "<div>\n",
       "<style scoped>\n",
       "    .dataframe tbody tr th:only-of-type {\n",
       "        vertical-align: middle;\n",
       "    }\n",
       "\n",
       "    .dataframe tbody tr th {\n",
       "        vertical-align: top;\n",
       "    }\n",
       "\n",
       "    .dataframe thead th {\n",
       "        text-align: right;\n",
       "    }\n",
       "</style>\n",
       "<table border=\"1\" class=\"dataframe\">\n",
       "  <thead>\n",
       "    <tr style=\"text-align: right;\">\n",
       "      <th></th>\n",
       "      <th>0</th>\n",
       "      <th>1</th>\n",
       "      <th>2</th>\n",
       "      <th>3</th>\n",
       "      <th>4</th>\n",
       "      <th>5</th>\n",
       "      <th>6</th>\n",
       "      <th>7</th>\n",
       "      <th>8</th>\n",
       "      <th>9</th>\n",
       "      <th>10</th>\n",
       "      <th>11</th>\n",
       "      <th>12</th>\n",
       "      <th>13</th>\n",
       "      <th>14</th>\n",
       "      <th>15</th>\n",
       "      <th>16</th>\n",
       "      <th>17</th>\n",
       "      <th>18</th>\n",
       "      <th>19</th>\n",
       "      <th>20</th>\n",
       "      <th>21</th>\n",
       "      <th>22</th>\n",
       "      <th>23</th>\n",
       "      <th>24</th>\n",
       "      <th>25</th>\n",
       "      <th>26</th>\n",
       "      <th>27</th>\n",
       "      <th>28</th>\n",
       "      <th>29</th>\n",
       "      <th>30</th>\n",
       "      <th>31</th>\n",
       "      <th>32</th>\n",
       "      <th>33</th>\n",
       "      <th>34</th>\n",
       "      <th>35</th>\n",
       "      <th>36</th>\n",
       "      <th>37</th>\n",
       "      <th>38</th>\n",
       "      <th>39</th>\n",
       "      <th>40</th>\n",
       "      <th>41</th>\n",
       "      <th>42</th>\n",
       "      <th>43</th>\n",
       "      <th>44</th>\n",
       "      <th>45</th>\n",
       "      <th>46</th>\n",
       "      <th>47</th>\n",
       "      <th>48</th>\n",
       "      <th>49</th>\n",
       "      <th>50</th>\n",
       "      <th>51</th>\n",
       "      <th>52</th>\n",
       "      <th>53</th>\n",
       "      <th>54</th>\n",
       "      <th>55</th>\n",
       "      <th>56</th>\n",
       "      <th>57</th>\n",
       "      <th>58</th>\n",
       "      <th>59</th>\n",
       "      <th>60</th>\n",
       "      <th>61</th>\n",
       "      <th>62</th>\n",
       "      <th>63</th>\n",
       "    </tr>\n",
       "  </thead>\n",
       "  <tbody>\n",
       "    <tr>\n",
       "      <th>0</th>\n",
       "      <td>0.0</td>\n",
       "      <td>0.0</td>\n",
       "      <td>2.0</td>\n",
       "      <td>13.0</td>\n",
       "      <td>8.0</td>\n",
       "      <td>6.0</td>\n",
       "      <td>0.0</td>\n",
       "      <td>0.0</td>\n",
       "      <td>0.0</td>\n",
       "      <td>0.0</td>\n",
       "      <td>7.0</td>\n",
       "      <td>14.0</td>\n",
       "      <td>14.0</td>\n",
       "      <td>16.0</td>\n",
       "      <td>0.0</td>\n",
       "      <td>0.0</td>\n",
       "      <td>0.0</td>\n",
       "      <td>0.0</td>\n",
       "      <td>7.0</td>\n",
       "      <td>9.0</td>\n",
       "      <td>3.0</td>\n",
       "      <td>16.0</td>\n",
       "      <td>4.0</td>\n",
       "      <td>0.0</td>\n",
       "      <td>0.0</td>\n",
       "      <td>0.0</td>\n",
       "      <td>5.0</td>\n",
       "      <td>14.0</td>\n",
       "      <td>15.0</td>\n",
       "      <td>16.0</td>\n",
       "      <td>4.0</td>\n",
       "      <td>0.0</td>\n",
       "      <td>0.0</td>\n",
       "      <td>0.0</td>\n",
       "      <td>0.0</td>\n",
       "      <td>3.0</td>\n",
       "      <td>2.0</td>\n",
       "      <td>13.0</td>\n",
       "      <td>5.0</td>\n",
       "      <td>0.0</td>\n",
       "      <td>0.0</td>\n",
       "      <td>0.0</td>\n",
       "      <td>3.0</td>\n",
       "      <td>0.0</td>\n",
       "      <td>0.0</td>\n",
       "      <td>12.0</td>\n",
       "      <td>6.0</td>\n",
       "      <td>0.0</td>\n",
       "      <td>0.0</td>\n",
       "      <td>1.0</td>\n",
       "      <td>12.0</td>\n",
       "      <td>6.0</td>\n",
       "      <td>0.0</td>\n",
       "      <td>11.0</td>\n",
       "      <td>7.0</td>\n",
       "      <td>0.0</td>\n",
       "      <td>0.0</td>\n",
       "      <td>0.0</td>\n",
       "      <td>3.0</td>\n",
       "      <td>12.0</td>\n",
       "      <td>16.0</td>\n",
       "      <td>16.0</td>\n",
       "      <td>1.0</td>\n",
       "      <td>0.0</td>\n",
       "    </tr>\n",
       "    <tr>\n",
       "      <th>1</th>\n",
       "      <td>0.0</td>\n",
       "      <td>0.0</td>\n",
       "      <td>1.0</td>\n",
       "      <td>15.0</td>\n",
       "      <td>13.0</td>\n",
       "      <td>1.0</td>\n",
       "      <td>0.0</td>\n",
       "      <td>0.0</td>\n",
       "      <td>0.0</td>\n",
       "      <td>0.0</td>\n",
       "      <td>7.0</td>\n",
       "      <td>16.0</td>\n",
       "      <td>14.0</td>\n",
       "      <td>8.0</td>\n",
       "      <td>0.0</td>\n",
       "      <td>0.0</td>\n",
       "      <td>0.0</td>\n",
       "      <td>8.0</td>\n",
       "      <td>12.0</td>\n",
       "      <td>9.0</td>\n",
       "      <td>2.0</td>\n",
       "      <td>13.0</td>\n",
       "      <td>2.0</td>\n",
       "      <td>0.0</td>\n",
       "      <td>0.0</td>\n",
       "      <td>7.0</td>\n",
       "      <td>9.0</td>\n",
       "      <td>1.0</td>\n",
       "      <td>0.0</td>\n",
       "      <td>6.0</td>\n",
       "      <td>6.0</td>\n",
       "      <td>0.0</td>\n",
       "      <td>0.0</td>\n",
       "      <td>5.0</td>\n",
       "      <td>9.0</td>\n",
       "      <td>0.0</td>\n",
       "      <td>0.0</td>\n",
       "      <td>3.0</td>\n",
       "      <td>9.0</td>\n",
       "      <td>0.0</td>\n",
       "      <td>0.0</td>\n",
       "      <td>0.0</td>\n",
       "      <td>15.0</td>\n",
       "      <td>2.0</td>\n",
       "      <td>0.0</td>\n",
       "      <td>8.0</td>\n",
       "      <td>12.0</td>\n",
       "      <td>0.0</td>\n",
       "      <td>0.0</td>\n",
       "      <td>0.0</td>\n",
       "      <td>9.0</td>\n",
       "      <td>15.0</td>\n",
       "      <td>13.0</td>\n",
       "      <td>16.0</td>\n",
       "      <td>6.0</td>\n",
       "      <td>0.0</td>\n",
       "      <td>0.0</td>\n",
       "      <td>0.0</td>\n",
       "      <td>0.0</td>\n",
       "      <td>13.0</td>\n",
       "      <td>14.0</td>\n",
       "      <td>8.0</td>\n",
       "      <td>0.0</td>\n",
       "      <td>0.0</td>\n",
       "    </tr>\n",
       "    <tr>\n",
       "      <th>2</th>\n",
       "      <td>0.0</td>\n",
       "      <td>0.0</td>\n",
       "      <td>4.0</td>\n",
       "      <td>15.0</td>\n",
       "      <td>16.0</td>\n",
       "      <td>12.0</td>\n",
       "      <td>0.0</td>\n",
       "      <td>0.0</td>\n",
       "      <td>0.0</td>\n",
       "      <td>0.0</td>\n",
       "      <td>6.0</td>\n",
       "      <td>9.0</td>\n",
       "      <td>12.0</td>\n",
       "      <td>10.0</td>\n",
       "      <td>0.0</td>\n",
       "      <td>0.0</td>\n",
       "      <td>0.0</td>\n",
       "      <td>0.0</td>\n",
       "      <td>0.0</td>\n",
       "      <td>0.0</td>\n",
       "      <td>10.0</td>\n",
       "      <td>9.0</td>\n",
       "      <td>0.0</td>\n",
       "      <td>0.0</td>\n",
       "      <td>0.0</td>\n",
       "      <td>0.0</td>\n",
       "      <td>2.0</td>\n",
       "      <td>4.0</td>\n",
       "      <td>15.0</td>\n",
       "      <td>10.0</td>\n",
       "      <td>4.0</td>\n",
       "      <td>0.0</td>\n",
       "      <td>0.0</td>\n",
       "      <td>2.0</td>\n",
       "      <td>15.0</td>\n",
       "      <td>16.0</td>\n",
       "      <td>16.0</td>\n",
       "      <td>15.0</td>\n",
       "      <td>7.0</td>\n",
       "      <td>0.0</td>\n",
       "      <td>0.0</td>\n",
       "      <td>0.0</td>\n",
       "      <td>8.0</td>\n",
       "      <td>13.0</td>\n",
       "      <td>9.0</td>\n",
       "      <td>0.0</td>\n",
       "      <td>0.0</td>\n",
       "      <td>0.0</td>\n",
       "      <td>0.0</td>\n",
       "      <td>0.0</td>\n",
       "      <td>1.0</td>\n",
       "      <td>16.0</td>\n",
       "      <td>4.0</td>\n",
       "      <td>0.0</td>\n",
       "      <td>0.0</td>\n",
       "      <td>0.0</td>\n",
       "      <td>0.0</td>\n",
       "      <td>0.0</td>\n",
       "      <td>6.0</td>\n",
       "      <td>13.0</td>\n",
       "      <td>0.0</td>\n",
       "      <td>0.0</td>\n",
       "      <td>0.0</td>\n",
       "      <td>0.0</td>\n",
       "    </tr>\n",
       "    <tr>\n",
       "      <th>3</th>\n",
       "      <td>0.0</td>\n",
       "      <td>0.0</td>\n",
       "      <td>7.0</td>\n",
       "      <td>14.0</td>\n",
       "      <td>11.0</td>\n",
       "      <td>0.0</td>\n",
       "      <td>0.0</td>\n",
       "      <td>0.0</td>\n",
       "      <td>0.0</td>\n",
       "      <td>1.0</td>\n",
       "      <td>16.0</td>\n",
       "      <td>13.0</td>\n",
       "      <td>2.0</td>\n",
       "      <td>2.0</td>\n",
       "      <td>1.0</td>\n",
       "      <td>0.0</td>\n",
       "      <td>0.0</td>\n",
       "      <td>3.0</td>\n",
       "      <td>16.0</td>\n",
       "      <td>9.0</td>\n",
       "      <td>4.0</td>\n",
       "      <td>13.0</td>\n",
       "      <td>4.0</td>\n",
       "      <td>0.0</td>\n",
       "      <td>0.0</td>\n",
       "      <td>0.0</td>\n",
       "      <td>7.0</td>\n",
       "      <td>16.0</td>\n",
       "      <td>16.0</td>\n",
       "      <td>14.0</td>\n",
       "      <td>0.0</td>\n",
       "      <td>0.0</td>\n",
       "      <td>0.0</td>\n",
       "      <td>0.0</td>\n",
       "      <td>11.0</td>\n",
       "      <td>16.0</td>\n",
       "      <td>16.0</td>\n",
       "      <td>9.0</td>\n",
       "      <td>0.0</td>\n",
       "      <td>0.0</td>\n",
       "      <td>0.0</td>\n",
       "      <td>0.0</td>\n",
       "      <td>16.0</td>\n",
       "      <td>9.0</td>\n",
       "      <td>10.0</td>\n",
       "      <td>15.0</td>\n",
       "      <td>0.0</td>\n",
       "      <td>0.0</td>\n",
       "      <td>0.0</td>\n",
       "      <td>1.0</td>\n",
       "      <td>16.0</td>\n",
       "      <td>2.0</td>\n",
       "      <td>5.0</td>\n",
       "      <td>16.0</td>\n",
       "      <td>4.0</td>\n",
       "      <td>0.0</td>\n",
       "      <td>0.0</td>\n",
       "      <td>0.0</td>\n",
       "      <td>7.0</td>\n",
       "      <td>15.0</td>\n",
       "      <td>16.0</td>\n",
       "      <td>16.0</td>\n",
       "      <td>3.0</td>\n",
       "      <td>0.0</td>\n",
       "    </tr>\n",
       "    <tr>\n",
       "      <th>4</th>\n",
       "      <td>0.0</td>\n",
       "      <td>1.0</td>\n",
       "      <td>10.0</td>\n",
       "      <td>16.0</td>\n",
       "      <td>15.0</td>\n",
       "      <td>2.0</td>\n",
       "      <td>0.0</td>\n",
       "      <td>0.0</td>\n",
       "      <td>0.0</td>\n",
       "      <td>1.0</td>\n",
       "      <td>12.0</td>\n",
       "      <td>13.0</td>\n",
       "      <td>16.0</td>\n",
       "      <td>4.0</td>\n",
       "      <td>0.0</td>\n",
       "      <td>0.0</td>\n",
       "      <td>0.0</td>\n",
       "      <td>0.0</td>\n",
       "      <td>0.0</td>\n",
       "      <td>0.0</td>\n",
       "      <td>16.0</td>\n",
       "      <td>8.0</td>\n",
       "      <td>0.0</td>\n",
       "      <td>0.0</td>\n",
       "      <td>0.0</td>\n",
       "      <td>0.0</td>\n",
       "      <td>7.0</td>\n",
       "      <td>11.0</td>\n",
       "      <td>16.0</td>\n",
       "      <td>13.0</td>\n",
       "      <td>8.0</td>\n",
       "      <td>0.0</td>\n",
       "      <td>0.0</td>\n",
       "      <td>8.0</td>\n",
       "      <td>16.0</td>\n",
       "      <td>16.0</td>\n",
       "      <td>16.0</td>\n",
       "      <td>16.0</td>\n",
       "      <td>6.0</td>\n",
       "      <td>0.0</td>\n",
       "      <td>0.0</td>\n",
       "      <td>2.0</td>\n",
       "      <td>10.0</td>\n",
       "      <td>16.0</td>\n",
       "      <td>9.0</td>\n",
       "      <td>0.0</td>\n",
       "      <td>0.0</td>\n",
       "      <td>0.0</td>\n",
       "      <td>0.0</td>\n",
       "      <td>0.0</td>\n",
       "      <td>3.0</td>\n",
       "      <td>16.0</td>\n",
       "      <td>4.0</td>\n",
       "      <td>0.0</td>\n",
       "      <td>0.0</td>\n",
       "      <td>0.0</td>\n",
       "      <td>0.0</td>\n",
       "      <td>0.0</td>\n",
       "      <td>10.0</td>\n",
       "      <td>15.0</td>\n",
       "      <td>2.0</td>\n",
       "      <td>0.0</td>\n",
       "      <td>0.0</td>\n",
       "      <td>0.0</td>\n",
       "    </tr>\n",
       "  </tbody>\n",
       "</table>\n",
       "</div>"
      ],
      "text/plain": [
       "    0    1     2     3     4     5    6   ...   57    58    59    60    61   62   63\n",
       "0  0.0  0.0   2.0  13.0   8.0   6.0  0.0  ...  0.0   3.0  12.0  16.0  16.0  1.0  0.0\n",
       "1  0.0  0.0   1.0  15.0  13.0   1.0  0.0  ...  0.0   0.0  13.0  14.0   8.0  0.0  0.0\n",
       "2  0.0  0.0   4.0  15.0  16.0  12.0  0.0  ...  0.0   6.0  13.0   0.0   0.0  0.0  0.0\n",
       "3  0.0  0.0   7.0  14.0  11.0   0.0  0.0  ...  0.0   7.0  15.0  16.0  16.0  3.0  0.0\n",
       "4  0.0  1.0  10.0  16.0  15.0   2.0  0.0  ...  0.0  10.0  15.0   2.0   0.0  0.0  0.0\n",
       "\n",
       "[5 rows x 64 columns]"
      ]
     },
     "execution_count": 17,
     "metadata": {},
     "output_type": "execute_result"
    }
   ],
   "source": [
    "import pandas as pd\n",
    "# TODO: Convert the data to a Pandas table and re-investigate. The function DataFrame.head() should be useful here.\n",
    "X_train_df = pd.DataFrame(X_train)\n",
    "X_train_df.head()\n"
   ]
  },
  {
   "cell_type": "markdown",
   "metadata": {
    "id": "rz4KYwkbxIGp"
   },
   "source": [
    "As we can see, each image stored in X_train is essentially an array of 64 points, and the y_train is just a single column which holds the corresponding row's label (i.e., which digit is being depicted). However, this is still a bit unintuitive on its own, so let's try rendering the actual image.\n",
    "\n"
   ]
  },
  {
   "cell_type": "markdown",
   "metadata": {
    "id": "xR_M7Q8WwX9-"
   },
   "source": [
    "### Data Point Visualization\n",
    "As we can tell from the data description, our data consists of grayscale pixel maps, where each pixel has an intensity value range from 0 -> 16. Each map should create a gray image of a handwritten digit."
   ]
  },
  {
   "cell_type": "code",
   "execution_count": null,
   "metadata": {
    "id": "yAXMGVhowfKG"
   },
   "outputs": [],
   "source": [
    "# let's plot an example of each digit represented in our dataset\n",
    "\n",
    "# Make one array of zeros to hold the images in 8x8 pixel grids, and one array to track when we have all the digits\n",
    "labels_list = np.zeros(10)\n",
    "imgs_list   = np.zeros([10, 8, 8], dtype=np.uint8)\n",
    "\n",
    "for i in range(len(y_train)):\n",
    "  # For each digit, we'll add one if its maps to the img_list, and set its corresponding value in labels_list to 1.\n",
    "  # When all 10 spots have a value of 1, meaning we've stored a map for all 10 digits, we stop the loop.\n",
    "  if labels_list.sum() == 10:\n",
    "    break\n",
    "  label = int(y_train[i])\n",
    "  labels_list[label] = 1\n",
    "  imgs_list[label] = X_train[i].reshape([8,8])"
   ]
  },
  {
   "cell_type": "code",
   "execution_count": null,
   "metadata": {
    "id": "KND7EWhTurx1"
   },
   "outputs": [],
   "source": [
    "num_imgs = 10\n",
    "num_rows = 2\n",
    "num_cols = 5\n",
    "\n",
    "\n",
    "# plot images\n",
    "fig, axes = plt.subplots(num_rows, num_cols, figsize=(16, 8))\n",
    "for i in range(num_imgs):\n",
    "    ax = axes[i//num_cols, i%num_cols]\n",
    "    ax.imshow(imgs_list[i], cmap='gray')\n",
    "    ax.set_title(f'Label: {i}')\n",
    "plt.tight_layout()\n",
    "plt.show()"
   ]
  },
  {
   "cell_type": "markdown",
   "metadata": {
    "id": "0-3HI7DnsZX5"
   },
   "source": [
    "### Data Distributions\n",
    "To get a better idea of how our pixel values are distributed, we can plot a bar plot of the frequencies of each pixel value. Here we are introducing another library, called Seaborn, for plotting. It works like matplotlib but has some additional features that you may encounter or want to use."
   ]
  },
  {
   "cell_type": "code",
   "execution_count": null,
   "metadata": {
    "id": "9GvN96C8shMk"
   },
   "outputs": [],
   "source": [
    "plt.figure(figsize=(15,6))\n",
    "sns.countplot(x = X_train.flatten()) #  convert N x 64 => (N*64,)\n",
    "plt.xlabel('Pixel values')\n",
    "plt.title('Bar Plot of Pixel Values')\n",
    "plt.show()"
   ]
  },
  {
   "cell_type": "markdown",
   "metadata": {
    "id": "o923Sh7itvpr"
   },
   "source": [
    "It looks like the values are spread out relatively evenly, with the exception of 0 and perhaps 16. We also see that the range of pixel values is 0-16, which is consistent with the data description.\n",
    "\n",
    "Using the grayscale images we produced, why do you think there are so many pixels with a value of 0?"
   ]
  },
  {
   "cell_type": "markdown",
   "metadata": {
    "id": "LOjdaVmIyjNv"
   },
   "source": [
    "### Class Distribution\n",
    "It's also very important to know the distribution of object classes in the dataset to handle a potential class imbalance problem. Class imbalance is a critical issue when some object class has a dominant occurrences in the dataset, causing the trained model to be heavily trained on these classes while having less emphases on the others.\n",
    "\n",
    "Let's use an extreme example to better understand this. Think about what would happen if our dataset consisted of 20,000 \"1\" characters and just 20 of all the other characters. Our algorithm could get an amazing \"accuracy\" simply by classifying every single new digit as a 1, as it will only misclassify the tiny portion of the data that consists of non-1 digits. This, of course, is not much use to us as a classifier, as any digit we feed to it will now be identified as a \"1.\"\n",
    "\n",
    "In practice, this issue, if happens, can be addressed using different methods such as using a weighted loss, and/or resampling."
   ]
  },
  {
   "cell_type": "code",
   "execution_count": null,
   "metadata": {
    "colab": {
     "base_uri": "https://localhost:8080/",
     "height": 516
    },
    "executionInfo": {
     "elapsed": 479,
     "status": "ok",
     "timestamp": 1631557995279,
     "user": {
      "displayName": "Pratik Kunapuli",
      "photoUrl": "https://lh3.googleusercontent.com/a/default-user=s64",
      "userId": "06083668107413541378"
     },
     "user_tz": 240
    },
    "id": "L1p9_kTHzcNO",
    "outputId": "3872ca5a-2a97-490f-9f08-b777fcffd4d9"
   },
   "outputs": [
    {
     "name": "stderr",
     "output_type": "stream",
     "text": [
      "/usr/local/lib/python3.7/dist-packages/seaborn/_decorators.py:43: FutureWarning:\n",
      "\n",
      "Pass the following variable as a keyword arg: x. From version 0.12, the only valid positional argument will be `data`, and passing other arguments without an explicit keyword will result in an error or misinterpretation.\n",
      "\n"
     ]
    },
    {
     "data": {
      "image/png": "[encoded data removed]",
      "text/plain": [
       "<Figure size 1080x432 with 1 Axes>"
      ]
     },
     "metadata": {
      "needs_background": "light"
     },
     "output_type": "display_data"
    }
   ],
   "source": [
    "import seaborn as sns\n",
    "plt.figure(figsize=(15,6))\n",
    "sns.countplot(y_train)\n",
    "plt.xlabel('Class Indices')\n",
    "plt.title('Object Class Distribution')\n",
    "plt.show()\n"
   ]
  },
  {
   "cell_type": "markdown",
   "metadata": {
    "id": "CVcwNb0yz6v5"
   },
   "source": [
    "Lucky for us, this dataset is already well balanced so it should be good to go. We'll look with more depth at addressing imbalanced data later in the course."
   ]
  },
  {
   "cell_type": "markdown",
   "metadata": {
    "id": "yIVwj9lOFJow"
   },
   "source": [
    "##Training\n",
    "\n",
    "We will use sklearn's KNeighborsClassifier for training. Let us use different values of 'k' to gain some insights. It's actually common practice to test multiple hyperparameters for your model, evaluating each on validation sets before evaluating the final model on the test set.\n",
    "\n",
    "**Something to think about:** Why do we test these different hyperparameters on validation sets rather than the testing set?"
   ]
  },
  {
   "cell_type": "code",
   "execution_count": null,
   "metadata": {
    "_cell_guid": "13f6e3e8-d663-40f3-b9e6-f0aa364a53d9",
    "_uuid": "3d093a9bc682ebe45986b3fb5494d9448221e213",
    "colab": {
     "base_uri": "https://localhost:8080/"
    },
    "executionInfo": {
     "elapsed": 3300,
     "status": "ok",
     "timestamp": 1631557039974,
     "user": {
      "displayName": "Pratik Kunapuli",
      "photoUrl": "https://lh3.googleusercontent.com/a/default-user=s64",
      "userId": "06083668107413541378"
     },
     "user_tz": 240
    },
    "id": "_RbHzQ3OEcMz",
    "outputId": "0ddddbcf-3453-4041-afcd-4e6aba5f3cc5"
   },
   "outputs": [
    {
     "name": "stdout",
     "output_type": "stream",
     "text": [
      "[1.0, 0.9900990099009901, 0.9925742574257426, 0.9933993399339934, 0.9917491749174917, 0.9892739273927392, 0.9917491749174917, 0.990924092409241, 0.990924092409241, 0.9843234323432343, 0.9851485148514851, 0.9818481848184818, 0.9834983498349835, 0.9826732673267327]\n"
     ]
    }
   ],
   "source": [
    "from sklearn.neighbors import KNeighborsClassifier\n",
    "train_accuracies = []\n",
    "valid_accuracies = []\n",
    "# initialize the values of k for our k-Nearest Neighbor classifier along with the\n",
    "# list of accuracies for each value of k\n",
    "\n",
    "k_values = range(1, 15, 1)\n",
    "# TODO: loop over various values of `k` for the k-Nearest Neighbor classifier\n",
    "for k in range(1, 15, 1):\n",
    "  # To start, we have to actually tell sklearn what model we're using,\n",
    "  # as well as any relevant parameters for that model.\n",
    "  # Here, we are feeding it k, as well as p, which corresponds to the distance metric\n",
    "  # we want (2 corresponds to L2 (Euclidean) distance, where 1 would be L1 distance).\n",
    "  # Remember to read the documentation for a full list of available parameters!\n",
    "  # TODO: Create a KNN Model\n",
    "  model = KNeighborsClassifier(n_neighbors= k, p = 2)\n",
    "  # Next, we fit the model to the training data, first giving it our data, then the labels\n",
    "  # TODO: Fit the KNN model to the data\n",
    "  model.fit(X_train, y_train)\n",
    "  # Now, we want to see how our model performs on the validations set.\n",
    "  # The score returns the mean accuracy- essentially the proportion of predictions\n",
    "  # that were actually correct\n",
    "  # TODO: Add the validation and training accuracies to the lists created above\n",
    "  train_accuracies.append(model.score(X_train, y_train))\n",
    "  valid_accuracies.append(model.score(X_val, y_val))\n",
    "\n",
    "print(train_accuracies)\n",
    "  # There are many different metrics one could use to score a model, which we'll\n",
    "  # we'll learn more about later in the course"
   ]
  },
  {
   "cell_type": "markdown",
   "metadata": {
    "id": "4wQT1zQFHegp"
   },
   "source": [
    "## Learning Curve\n",
    "\n",
    "Finally, we will plot how different k values fare against our validation set. This will let us see with which k value we might want to proceed for our final model. Here's yet another plotting module that you may encounter or want to use, called Plotly. In this case we are only using Plotly's graph object."
   ]
  },
  {
   "cell_type": "code",
   "execution_count": null,
   "metadata": {
    "colab": {
     "base_uri": "https://localhost:8080/",
     "height": 542
    },
    "executionInfo": {
     "elapsed": 290,
     "status": "ok",
     "timestamp": 1631557042396,
     "user": {
      "displayName": "Pratik Kunapuli",
      "photoUrl": "https://lh3.googleusercontent.com/a/default-user=s64",
      "userId": "06083668107413541378"
     },
     "user_tz": 240
    },
    "id": "RLcTucajHoKh",
    "outputId": "0a2e9e56-c3d2-41d6-c3cf-7e6c4b2c097b"
   },
   "outputs": [
    {
     "data": {
      "text/html": [
       "<html>\n",
       "<head><meta charset=\"utf-8\" /></head>\n",
       "<body>\n",
       "    <div>\n",
       "            <script src=\"https://cdnjs.cloudflare.com/ajax/libs/mathjax/2.7.5/MathJax.js?config=TeX-AMS-MML_SVG\"></script><script type=\"text/javascript\">if (window.MathJax) {MathJax.Hub.Config({SVG: {font: \"STIX-Web\"}});}</script>\n",
       "                <script type=\"text/javascript\">window.PlotlyConfig = {MathJaxConfig: 'local'};</script>\n",
       "        <script src=\"https://cdn.plot.ly/plotly-latest.min.js\"></script>    \n",
       "            <div id=\"5bef5818-d011-4416-acab-1ef64d061ae1\" class=\"plotly-graph-div\" style=\"height:525px; width:100%;\"></div>\n",
       "            <script type=\"text/javascript\">\n",
       "                \n",
       "                    window.PLOTLYENV=window.PLOTLYENV || {};\n",
       "                    \n",
       "                if (document.getElementById(\"5bef5818-d011-4416-acab-1ef64d061ae1\")) {\n",
       "                    Plotly.newPlot(\n",
       "                        '5bef5818-d011-4416-acab-1ef64d061ae1',\n",
       "                        [{\"mode\": \"lines\", \"name\": \"Validation Accuracy\", \"type\": \"scatter\", \"x\": [1, 2, 3, 4, 5, 6, 7, 8, 9, 10, 11, 12, 13, 14], \"y\": [0.9851851851851852, 0.9777777777777777, 0.9777777777777777, 0.9851851851851852, 0.9851851851851852, 0.9703703703703703, 0.9777777777777777, 0.9777777777777777, 0.9777777777777777, 0.9703703703703703, 0.9703703703703703, 0.9629629629629629, 0.9629629629629629, 0.9629629629629629]}, {\"mode\": \"lines\", \"name\": \"Training Accuracy\", \"type\": \"scatter\", \"x\": [1, 2, 3, 4, 5, 6, 7, 8, 9, 10, 11, 12, 13, 14], \"y\": [1.0, 0.9900990099009901, 0.9925742574257426, 0.9933993399339934, 0.9917491749174917, 0.9892739273927392, 0.9917491749174917, 0.990924092409241, 0.990924092409241, 0.9843234323432343, 0.9851485148514851, 0.9818481848184818, 0.9834983498349835, 0.9826732673267327]}],\n",
       "                        {\"template\": {\"data\": {\"bar\": [{\"error_x\": {\"color\": \"#2a3f5f\"}, \"error_y\": {\"color\": \"#2a3f5f\"}, \"marker\": {\"line\": {\"color\": \"#E5ECF6\", \"width\": 0.5}}, \"type\": \"bar\"}], \"barpolar\": [{\"marker\": {\"line\": {\"color\": \"#E5ECF6\", \"width\": 0.5}}, \"type\": \"barpolar\"}], \"carpet\": [{\"aaxis\": {\"endlinecolor\": \"#2a3f5f\", \"gridcolor\": \"white\", \"linecolor\": \"white\", \"minorgridcolor\": \"white\", \"startlinecolor\": \"#2a3f5f\"}, \"baxis\": {\"endlinecolor\": \"#2a3f5f\", \"gridcolor\": \"white\", \"linecolor\": \"white\", \"minorgridcolor\": \"white\", \"startlinecolor\": \"#2a3f5f\"}, \"type\": \"carpet\"}], \"choropleth\": [{\"colorbar\": {\"outlinewidth\": 0, \"ticks\": \"\"}, \"type\": \"choropleth\"}], \"contour\": [{\"colorbar\": {\"outlinewidth\": 0, \"ticks\": \"\"}, \"colorscale\": [[0.0, \"#0d0887\"], [0.1111111111111111, \"#46039f\"], [0.2222222222222222, \"#7201a8\"], [0.3333333333333333, \"#9c179e\"], [0.4444444444444444, \"#bd3786\"], [0.5555555555555556, \"#d8576b\"], [0.6666666666666666, \"#ed7953\"], [0.7777777777777778, \"#fb9f3a\"], [0.8888888888888888, \"#fdca26\"], [1.0, \"#f0f921\"]], \"type\": \"contour\"}], \"contourcarpet\": [{\"colorbar\": {\"outlinewidth\": 0, \"ticks\": \"\"}, \"type\": \"contourcarpet\"}], \"heatmap\": [{\"colorbar\": {\"outlinewidth\": 0, \"ticks\": \"\"}, \"colorscale\": [[0.0, \"#0d0887\"], [0.1111111111111111, \"#46039f\"], [0.2222222222222222, \"#7201a8\"], [0.3333333333333333, \"#9c179e\"], [0.4444444444444444, \"#bd3786\"], [0.5555555555555556, \"#d8576b\"], [0.6666666666666666, \"#ed7953\"], [0.7777777777777778, \"#fb9f3a\"], [0.8888888888888888, \"#fdca26\"], [1.0, \"#f0f921\"]], \"type\": \"heatmap\"}], \"heatmapgl\": [{\"colorbar\": {\"outlinewidth\": 0, \"ticks\": \"\"}, \"colorscale\": [[0.0, \"#0d0887\"], [0.1111111111111111, \"#46039f\"], [0.2222222222222222, \"#7201a8\"], [0.3333333333333333, \"#9c179e\"], [0.4444444444444444, \"#bd3786\"], [0.5555555555555556, \"#d8576b\"], [0.6666666666666666, \"#ed7953\"], [0.7777777777777778, \"#fb9f3a\"], [0.8888888888888888, \"#fdca26\"], [1.0, \"#f0f921\"]], \"type\": \"heatmapgl\"}], \"histogram\": [{\"marker\": {\"colorbar\": {\"outlinewidth\": 0, \"ticks\": \"\"}}, \"type\": \"histogram\"}], \"histogram2d\": [{\"colorbar\": {\"outlinewidth\": 0, \"ticks\": \"\"}, \"colorscale\": [[0.0, \"#0d0887\"], [0.1111111111111111, \"#46039f\"], [0.2222222222222222, \"#7201a8\"], [0.3333333333333333, \"#9c179e\"], [0.4444444444444444, \"#bd3786\"], [0.5555555555555556, \"#d8576b\"], [0.6666666666666666, \"#ed7953\"], [0.7777777777777778, \"#fb9f3a\"], [0.8888888888888888, \"#fdca26\"], [1.0, \"#f0f921\"]], \"type\": \"histogram2d\"}], \"histogram2dcontour\": [{\"colorbar\": {\"outlinewidth\": 0, \"ticks\": \"\"}, \"colorscale\": [[0.0, \"#0d0887\"], [0.1111111111111111, \"#46039f\"], [0.2222222222222222, \"#7201a8\"], [0.3333333333333333, \"#9c179e\"], [0.4444444444444444, \"#bd3786\"], [0.5555555555555556, \"#d8576b\"], [0.6666666666666666, \"#ed7953\"], [0.7777777777777778, \"#fb9f3a\"], [0.8888888888888888, \"#fdca26\"], [1.0, \"#f0f921\"]], \"type\": \"histogram2dcontour\"}], \"mesh3d\": [{\"colorbar\": {\"outlinewidth\": 0, \"ticks\": \"\"}, \"type\": \"mesh3d\"}], \"parcoords\": [{\"line\": {\"colorbar\": {\"outlinewidth\": 0, \"ticks\": \"\"}}, \"type\": \"parcoords\"}], \"pie\": [{\"automargin\": true, \"type\": \"pie\"}], \"scatter\": [{\"marker\": {\"colorbar\": {\"outlinewidth\": 0, \"ticks\": \"\"}}, \"type\": \"scatter\"}], \"scatter3d\": [{\"line\": {\"colorbar\": {\"outlinewidth\": 0, \"ticks\": \"\"}}, \"marker\": {\"colorbar\": {\"outlinewidth\": 0, \"ticks\": \"\"}}, \"type\": \"scatter3d\"}], \"scattercarpet\": [{\"marker\": {\"colorbar\": {\"outlinewidth\": 0, \"ticks\": \"\"}}, \"type\": \"scattercarpet\"}], \"scattergeo\": [{\"marker\": {\"colorbar\": {\"outlinewidth\": 0, \"ticks\": \"\"}}, \"type\": \"scattergeo\"}], \"scattergl\": [{\"marker\": {\"colorbar\": {\"outlinewidth\": 0, \"ticks\": \"\"}}, \"type\": \"scattergl\"}], \"scattermapbox\": [{\"marker\": {\"colorbar\": {\"outlinewidth\": 0, \"ticks\": \"\"}}, \"type\": \"scattermapbox\"}], \"scatterpolar\": [{\"marker\": {\"colorbar\": {\"outlinewidth\": 0, \"ticks\": \"\"}}, \"type\": \"scatterpolar\"}], \"scatterpolargl\": [{\"marker\": {\"colorbar\": {\"outlinewidth\": 0, \"ticks\": \"\"}}, \"type\": \"scatterpolargl\"}], \"scatterternary\": [{\"marker\": {\"colorbar\": {\"outlinewidth\": 0, \"ticks\": \"\"}}, \"type\": \"scatterternary\"}], \"surface\": [{\"colorbar\": {\"outlinewidth\": 0, \"ticks\": \"\"}, \"colorscale\": [[0.0, \"#0d0887\"], [0.1111111111111111, \"#46039f\"], [0.2222222222222222, \"#7201a8\"], [0.3333333333333333, \"#9c179e\"], [0.4444444444444444, \"#bd3786\"], [0.5555555555555556, \"#d8576b\"], [0.6666666666666666, \"#ed7953\"], [0.7777777777777778, \"#fb9f3a\"], [0.8888888888888888, \"#fdca26\"], [1.0, \"#f0f921\"]], \"type\": \"surface\"}], \"table\": [{\"cells\": {\"fill\": {\"color\": \"#EBF0F8\"}, \"line\": {\"color\": \"white\"}}, \"header\": {\"fill\": {\"color\": \"#C8D4E3\"}, \"line\": {\"color\": \"white\"}}, \"type\": \"table\"}]}, \"layout\": {\"annotationdefaults\": {\"arrowcolor\": \"#2a3f5f\", \"arrowhead\": 0, \"arrowwidth\": 1}, \"coloraxis\": {\"colorbar\": {\"outlinewidth\": 0, \"ticks\": \"\"}}, \"colorscale\": {\"diverging\": [[0, \"#8e0152\"], [0.1, \"#c51b7d\"], [0.2, \"#de77ae\"], [0.3, \"#f1b6da\"], [0.4, \"#fde0ef\"], [0.5, \"#f7f7f7\"], [0.6, \"#e6f5d0\"], [0.7, \"#b8e186\"], [0.8, \"#7fbc41\"], [0.9, \"#4d9221\"], [1, \"#276419\"]], \"sequential\": [[0.0, \"#0d0887\"], [0.1111111111111111, \"#46039f\"], [0.2222222222222222, \"#7201a8\"], [0.3333333333333333, \"#9c179e\"], [0.4444444444444444, \"#bd3786\"], [0.5555555555555556, \"#d8576b\"], [0.6666666666666666, \"#ed7953\"], [0.7777777777777778, \"#fb9f3a\"], [0.8888888888888888, \"#fdca26\"], [1.0, \"#f0f921\"]], \"sequentialminus\": [[0.0, \"#0d0887\"], [0.1111111111111111, \"#46039f\"], [0.2222222222222222, \"#7201a8\"], [0.3333333333333333, \"#9c179e\"], [0.4444444444444444, \"#bd3786\"], [0.5555555555555556, \"#d8576b\"], [0.6666666666666666, \"#ed7953\"], [0.7777777777777778, \"#fb9f3a\"], [0.8888888888888888, \"#fdca26\"], [1.0, \"#f0f921\"]]}, \"colorway\": [\"#636efa\", \"#EF553B\", \"#00cc96\", \"#ab63fa\", \"#FFA15A\", \"#19d3f3\", \"#FF6692\", \"#B6E880\", \"#FF97FF\", \"#FECB52\"], \"font\": {\"color\": \"#2a3f5f\"}, \"geo\": {\"bgcolor\": \"white\", \"lakecolor\": \"white\", \"landcolor\": \"#E5ECF6\", \"showlakes\": true, \"showland\": true, \"subunitcolor\": \"white\"}, \"hoverlabel\": {\"align\": \"left\"}, \"hovermode\": \"closest\", \"mapbox\": {\"style\": \"light\"}, \"paper_bgcolor\": \"white\", \"plot_bgcolor\": \"#E5ECF6\", \"polar\": {\"angularaxis\": {\"gridcolor\": \"white\", \"linecolor\": \"white\", \"ticks\": \"\"}, \"bgcolor\": \"#E5ECF6\", \"radialaxis\": {\"gridcolor\": \"white\", \"linecolor\": \"white\", \"ticks\": \"\"}}, \"scene\": {\"xaxis\": {\"backgroundcolor\": \"#E5ECF6\", \"gridcolor\": \"white\", \"gridwidth\": 2, \"linecolor\": \"white\", \"showbackground\": true, \"ticks\": \"\", \"zerolinecolor\": \"white\"}, \"yaxis\": {\"backgroundcolor\": \"#E5ECF6\", \"gridcolor\": \"white\", \"gridwidth\": 2, \"linecolor\": \"white\", \"showbackground\": true, \"ticks\": \"\", \"zerolinecolor\": \"white\"}, \"zaxis\": {\"backgroundcolor\": \"#E5ECF6\", \"gridcolor\": \"white\", \"gridwidth\": 2, \"linecolor\": \"white\", \"showbackground\": true, \"ticks\": \"\", \"zerolinecolor\": \"white\"}}, \"shapedefaults\": {\"line\": {\"color\": \"#2a3f5f\"}}, \"ternary\": {\"aaxis\": {\"gridcolor\": \"white\", \"linecolor\": \"white\", \"ticks\": \"\"}, \"baxis\": {\"gridcolor\": \"white\", \"linecolor\": \"white\", \"ticks\": \"\"}, \"bgcolor\": \"#E5ECF6\", \"caxis\": {\"gridcolor\": \"white\", \"linecolor\": \"white\", \"ticks\": \"\"}}, \"title\": {\"x\": 0.05}, \"xaxis\": {\"automargin\": true, \"gridcolor\": \"white\", \"linecolor\": \"white\", \"ticks\": \"\", \"title\": {\"standoff\": 15}, \"zerolinecolor\": \"white\", \"zerolinewidth\": 2}, \"yaxis\": {\"automargin\": true, \"gridcolor\": \"white\", \"linecolor\": \"white\", \"ticks\": \"\", \"title\": {\"standoff\": 15}, \"zerolinecolor\": \"white\", \"zerolinewidth\": 2}}}, \"title\": {\"text\": \"Validation Accuracy v.s. K Values\"}, \"xaxis\": {\"title\": {\"text\": \"K Values\"}}, \"yaxis\": {\"title\": {\"text\": \"Validation Accuracy\"}}},\n",
       "                        {\"responsive\": true}\n",
       "                    ).then(function(){\n",
       "                            \n",
       "var gd = document.getElementById('5bef5818-d011-4416-acab-1ef64d061ae1');\n",
       "var x = new MutationObserver(function (mutations, observer) {{\n",
       "        var display = window.getComputedStyle(gd).display;\n",
       "        if (!display || display === 'none') {{\n",
       "            console.log([gd, 'removed!']);\n",
       "            Plotly.purge(gd);\n",
       "            observer.disconnect();\n",
       "        }}\n",
       "}});\n",
       "\n",
       "// Listen for the removal of the full notebook cells\n",
       "var notebookContainer = gd.closest('#notebook-container');\n",
       "if (notebookContainer) {{\n",
       "    x.observe(notebookContainer, {childList: true});\n",
       "}}\n",
       "\n",
       "// Listen for the clearing of the current output cell\n",
       "var outputEl = gd.closest('.output');\n",
       "if (outputEl) {{\n",
       "    x.observe(outputEl, {childList: true});\n",
       "}}\n",
       "\n",
       "                        })\n",
       "                };\n",
       "                \n",
       "            </script>\n",
       "        </div>\n",
       "</body>\n",
       "</html>"
      ]
     },
     "metadata": {},
     "output_type": "display_data"
    }
   ],
   "source": [
    "import plotly.graph_objects as go\n",
    "fig = go.Figure()\n",
    "fig.add_trace(go.Scatter(x = list(k_values),\n",
    "                        y = valid_accuracies,\n",
    "                        mode='lines',\n",
    "                        name='Validation Accuracy'))\n",
    "fig.add_trace(go.Scatter(x = list(k_values),\n",
    "                        y = train_accuracies,\n",
    "                        mode='lines',\n",
    "                        name='Training Accuracy'))\n",
    "fig.update_layout(title='Validation Accuracy v.s. K Values',\n",
    "                  yaxis_title='Validation Accuracy',\n",
    "                  xaxis_title='K Values'\n",
    "                  )\n",
    "fig.show()"
   ]
  },
  {
   "cell_type": "markdown",
   "metadata": {
    "id": "oIWWFEVkIVta"
   },
   "source": [
    "- Can you explain the trend in the plot?\n",
    "\n",
    "- What do you think happens when k=1 or when k takes larger values? Why do these trends occur?\n",
    "\n",
    "- Which optimal value of k should be chosen?"
   ]
  },
  {
   "cell_type": "markdown",
   "metadata": {
    "id": "DLFocic8UNa2"
   },
   "source": [
    "## Evaluation\n",
    "Retraining with our chosen value of k, we can reevaluate the selected classifier.\n",
    "\n",
    "We'll start with a classification report, which will give us various performance\n",
    "metrics for our model on our evaluation data"
   ]
  },
  {
   "cell_type": "code",
   "execution_count": null,
   "metadata": {
    "colab": {
     "base_uri": "https://localhost:8080/"
    },
    "executionInfo": {
     "elapsed": 252,
     "status": "ok",
     "timestamp": 1631557472716,
     "user": {
      "displayName": "Pratik Kunapuli",
      "photoUrl": "https://lh3.googleusercontent.com/a/default-user=s64",
      "userId": "06083668107413541378"
     },
     "user_tz": 240
    },
    "id": "CGP0X7DEFal5",
    "outputId": "d5b50743-fbd7-41cc-8eec-d61f069543fe"
   },
   "outputs": [
    {
     "name": "stdout",
     "output_type": "stream",
     "text": [
      "EVALUATION ON TESTING DATA\n",
      "              precision    recall  f1-score   support\n",
      "\n",
      "           0       1.00      1.00      1.00        37\n",
      "           1       0.98      0.98      0.98        43\n",
      "           2       1.00      0.98      0.99        44\n",
      "           3       0.96      1.00      0.98        45\n",
      "           4       1.00      0.97      0.99        38\n",
      "           5       0.96      0.98      0.97        48\n",
      "           6       0.98      1.00      0.99        52\n",
      "           7       0.96      1.00      0.98        48\n",
      "           8       1.00      0.92      0.96        48\n",
      "           9       0.98      0.98      0.98        47\n",
      "\n",
      "    accuracy                           0.98       450\n",
      "   macro avg       0.98      0.98      0.98       450\n",
      "weighted avg       0.98      0.98      0.98       450\n",
      "\n"
     ]
    }
   ],
   "source": [
    "from sklearn.metrics import classification_report\n",
    "# re-train our classifier using  k = 5 and predict the labels of the test data\n",
    "# TODO: train classifier with k=5\n",
    "model = KNeighborsClassifier(n_neighbors=5, p=2)\n",
    "model.fit(X_train, y_train)\n",
    "\n",
    "# show a final classification report demonstrating the accuracy of the classifier\n",
    "# for each of the digits\n",
    "# TODO: generate classification report. The function imported here will be useful.\n",
    "report = classification_report(y_test, model.predict(X_test))\n",
    "\n",
    "print(\"EVALUATION ON TESTING DATA\")\n",
    "print(report)"
   ]
  },
  {
   "cell_type": "markdown",
   "metadata": {
    "id": "Ed6etLBGCoMb"
   },
   "source": [
    "To see which specific classes were predicted correctly or incorrectly, we can use a confusion matrix"
   ]
  },
  {
   "cell_type": "code",
   "execution_count": null,
   "metadata": {
    "colab": {
     "base_uri": "https://localhost:8080/"
    },
    "executionInfo": {
     "elapsed": 433,
     "status": "ok",
     "timestamp": 1631557652104,
     "user": {
      "displayName": "Pratik Kunapuli",
      "photoUrl": "https://lh3.googleusercontent.com/a/default-user=s64",
      "userId": "06083668107413541378"
     },
     "user_tz": 240
    },
    "id": "cF5NlCLADps7",
    "outputId": "31ca2e67-84ee-4619-f848-fa5b0b30aaa4"
   },
   "outputs": [
    {
     "name": "stdout",
     "output_type": "stream",
     "text": [
      "[[37  0  0  0  0  0  0  0  0  0]\n",
      " [ 0 42  0  0  0  1  0  0  0  0]\n",
      " [ 0  0 43  1  0  0  0  0  0  0]\n",
      " [ 0  0  0 45  0  0  0  0  0  0]\n",
      " [ 0  0  0  0 37  0  0  1  0  0]\n",
      " [ 0  0  0  0  0 47  0  0  0  1]\n",
      " [ 0  0  0  0  0  0 52  0  0  0]\n",
      " [ 0  0  0  0  0  0  0 48  0  0]\n",
      " [ 0  1  0  1  0  0  1  1 44  0]\n",
      " [ 0  0  0  0  0  1  0  0  0 46]]\n"
     ]
    }
   ],
   "source": [
    "from sklearn.metrics import confusion_matrix\n",
    "# Produce the confusion matrix and print it\n",
    "# TODO: use the confusion_matrix() function to print a confusion matrix for the trained model\n",
    "print(confusion_matrix(y_test, model.predict(X_test), labels=model.classes_))"
   ]
  },
  {
   "cell_type": "markdown",
   "metadata": {
    "id": "EF1eBsfbE1gJ"
   },
   "source": [
    "This is nice for a quick and dirty look, but is rather hard to interpret. Luckily, it's pretty easy to add some labels and make it a bit more interpretable."
   ]
  },
  {
   "cell_type": "code",
   "execution_count": null,
   "metadata": {
    "colab": {
     "base_uri": "https://localhost:8080/",
     "height": 614
    },
    "executionInfo": {
     "elapsed": 966,
     "status": "ok",
     "timestamp": 1631557999913,
     "user": {
      "displayName": "Pratik Kunapuli",
      "photoUrl": "https://lh3.googleusercontent.com/a/default-user=s64",
      "userId": "06083668107413541378"
     },
     "user_tz": 240
    },
    "id": "rc39evtRCXLA",
    "outputId": "a35cbcae-8adf-4b3d-8635-0c5c82a38350"
   },
   "outputs": [
    {
     "data": {
      "image/png": "[encoded data removed]",
      "text/plain": [
       "<Figure size 720x720 with 2 Axes>"
      ]
     },
     "metadata": {
      "needs_background": "light"
     },
     "output_type": "display_data"
    }
   ],
   "source": [
    "def cm_heatmap(y_true, y_predicted, labels, figsize = (10,10)):\n",
    "\n",
    "    # TODO: Create a confusion matrix\n",
    "    cm = confusion_matrix(y_true, y_predicted)\n",
    "    # Convert to dataframe and label the index and column names according to class labels. These will correspond with\n",
    "    # the labels for each row and column in the matrix.\n",
    "    # We can pass in model.classes_ to get a list of the class labels\n",
    "    # TODO: Convert the confusion matrix to a Pandas DataFrame\n",
    "    cm = pd.DataFrame(cm, index=labels, columns=labels)\n",
    "\n",
    "    # Label the index and column axes- this will correspond with our heatmap's x and y axes\n",
    "    cm.index.name = 'Actual'\n",
    "    cm.columns.name = 'Predicted'\n",
    "\n",
    "\n",
    "    # Set the figure size\n",
    "    plt.figure(figsize=figsize)\n",
    "    # Create a heatmap, using our confusion matrix as data, and annotate with the\n",
    "    # confusion matrix to see exact numbers.\n",
    "    sns.heatmap(cm, annot = cm)\n",
    "    plt.show()\n",
    "\n",
    "predictions = model.predict(X_test)\n",
    "cm_heatmap(y_test, predictions, model.classes_)"
   ]
  },
  {
   "cell_type": "markdown",
   "metadata": {
    "id": "rgxDxjnQFNYf"
   },
   "source": [
    "What does this confusion matrix tell you about the performance of our model? Does our model perform equally across all digits?"
   ]
  },
  {
   "cell_type": "code",
   "execution_count": null,
   "metadata": {
    "colab": {
     "base_uri": "https://localhost:8080/",
     "height": 1000
    },
    "executionInfo": {
     "elapsed": 1090,
     "status": "ok",
     "timestamp": 1631558289451,
     "user": {
      "displayName": "Pratik Kunapuli",
      "photoUrl": "https://lh3.googleusercontent.com/a/default-user=s64",
      "userId": "06083668107413541378"
     },
     "user_tz": 240
    },
    "id": "vIqP9jlVCZ07",
    "outputId": "93da384e-279b-41e0-ff6c-00c7c456e4c8"
   },
   "outputs": [
    {
     "name": "stdout",
     "output_type": "stream",
     "text": [
      "Predicted digit :  4\n"
     ]
    },
    {
     "data": {
      "image/png": "[encoded data removed]",
      "text/plain": [
       "<Figure size 432x288 with 1 Axes>"
      ]
     },
     "metadata": {
      "needs_background": "light"
     },
     "output_type": "display_data"
    },
    {
     "name": "stdout",
     "output_type": "stream",
     "text": [
      "Predicted digit :  3\n"
     ]
    },
    {
     "data": {
      "image/png": "[encoded data removed]",
      "text/plain": [
       "<Figure size 432x288 with 1 Axes>"
      ]
     },
     "metadata": {
      "needs_background": "light"
     },
     "output_type": "display_data"
    },
    {
     "name": "stdout",
     "output_type": "stream",
     "text": [
      "Predicted digit :  3\n"
     ]
    },
    {
     "data": {
      "image/png": "[encoded data removed]",
      "text/plain": [
       "<Figure size 432x288 with 1 Axes>"
      ]
     },
     "metadata": {
      "needs_background": "light"
     },
     "output_type": "display_data"
    },
    {
     "name": "stdout",
     "output_type": "stream",
     "text": [
      "Predicted digit :  7\n"
     ]
    },
    {
     "data": {
      "image/png": "[encoded data removed]",
      "text/plain": [
       "<Figure size 432x288 with 1 Axes>"
      ]
     },
     "metadata": {
      "needs_background": "light"
     },
     "output_type": "display_data"
    },
    {
     "name": "stdout",
     "output_type": "stream",
     "text": [
      "Predicted digit :  8\n"
     ]
    },
    {
     "data": {
      "image/png": "[encoded data removed]",
      "text/plain": [
       "<Figure size 432x288 with 1 Axes>"
      ]
     },
     "metadata": {
      "needs_background": "light"
     },
     "output_type": "display_data"
    }
   ],
   "source": [
    "# displaying results for a few digits\n",
    "for i in np.random.randint(0, high=len(y_test), size=(5,)):\n",
    "  # grab the image and classify it\n",
    "  image = X_test[i]\n",
    "  prediction = model.predict([image])[0]\n",
    "  # show the prediction\n",
    "  imgdata = np.array(image, dtype='float')\n",
    "  pixels = imgdata.reshape((8,8))\n",
    "  plt.figure()\n",
    "  plt.imshow(pixels,cmap='gray')\n",
    "  plt.annotate(y_test[i],(3,3),bbox={'facecolor':'white'},fontsize=16)\n",
    "  # show correct or wrong\n",
    "  title = 'Correct' if prediction == y_test[i] else 'wrong!'\n",
    "  plt.title(title)\n",
    "  print(\"Predicted digit : \",prediction)\n",
    "  plt.show()"
   ]
  },
  {
   "cell_type": "markdown",
   "metadata": {
    "id": "Mkf3WH_OAE-A"
   },
   "source": [
    "How did our final model perform? Did this surprise you?"
   ]
  },
  {
   "cell_type": "code",
   "execution_count": null,
   "metadata": {
    "id": "yDpFyDZ9ANhk"
   },
   "outputs": [],
   "source": []
  }
 ],
 "metadata": {
  "colab": {
   "provenance": [
    {
     "file_id": "https://github.com/CIS-519/worksheet-dev/blob/master/module_02_K_Nearest_Neighbors_skeleton.ipynb",
     "timestamp": 1631119887046
    }
   ]
  },
  "kernelspec": {
   "display_name": "Python 3 (ipykernel)",
   "language": "python",
   "name": "python3"
  },
  "language_info": {
   "codemirror_mode": {
    "name": "ipython",
    "version": 3
   },
   "file_extension": ".py",
   "mimetype": "text/x-python",
   "name": "python",
   "nbconvert_exporter": "python",
   "pygments_lexer": "ipython3",
   "version": "3.9.7"
  }
 },
 "nbformat": 4,
 "nbformat_minor": 0
}
