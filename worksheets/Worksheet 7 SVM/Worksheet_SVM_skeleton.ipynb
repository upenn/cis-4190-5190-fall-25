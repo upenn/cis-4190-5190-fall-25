{
 "cells": [
  {
   "cell_type": "markdown",
   "metadata": {
    "id": "bjppR2sWvIPE"
   },
   "source": [
    "#**CIS 419/519**\n",
    "\n",
    "## Support Vector Machines (SVM) worksheet \n",
    "\n",
    "In this notebook, two examples for support vector machines (SVMs) are provided. In the first example, you will use the `sklearn`'s svm module with linear kernel to plot maximum margin hyperplane for a linearly separable data. In the second example, since the data is linearly inseparable, you will explore the use of different kernels to plot decision boundaries for IRIS dataset. More info on SVM functionality in `sklearn` can be found [here](https://scikit-learn.org/stable/modules/svm.html#svm). "
   ]
  },
  {
   "cell_type": "markdown",
   "metadata": {
    "id": "iPyeQEh1vTaz"
   },
   "source": [
    "---\n",
    "## Example 1 - Obtaining the maximum margin separating hyperplane\n",
    "\n",
    "In this example, we use a two-class 2D linearly separable dataset and plot the maximum margin separating hyperplane. The example is adapted from [here](https://scikit-learn.org/stable/auto_examples/svm/plot_separating_hyperplane.html#sphx-glr-auto-examples-svm-plot-separating-hyperplane-py)\n"
   ]
  },
  {
   "cell_type": "markdown",
   "metadata": {
    "id": "63nSzmdDaKai"
   },
   "source": [
    "Let's import the required packages first.\n"
   ]
  },
  {
   "cell_type": "code",
   "execution_count": 1,
   "metadata": {
    "executionInfo": {
     "elapsed": 1591,
     "status": "ok",
     "timestamp": 1633373979742,
     "user": {
      "displayName": "Pratik Kunapuli",
      "photoUrl": "https://lh3.googleusercontent.com/a/default-user=s64",
      "userId": "06083668107413541378"
     },
     "user_tz": 240
    },
    "id": "v0iTydyzZQhA"
   },
   "outputs": [],
   "source": [
    "#Import numpy\n",
    "import numpy as np\n",
    "\n",
    "#Import matplotlib for plotting\n",
    "import matplotlib.pyplot as plt\n",
    "\n",
    "#Import the required sklearn libraries \n",
    "from sklearn.datasets import make_blobs"
   ]
  },
  {
   "cell_type": "markdown",
   "metadata": {
    "id": "EPHiYgiMaw7r"
   },
   "source": [
    "Create an artificial dataset having 40 points equally divided among 2 classes"
   ]
  },
  {
   "cell_type": "code",
   "execution_count": 4,
   "metadata": {
    "colab": {
     "base_uri": "https://localhost:8080/",
     "height": 282
    },
    "executionInfo": {
     "elapsed": 309,
     "status": "ok",
     "timestamp": 1633374074108,
     "user": {
      "displayName": "Pratik Kunapuli",
      "photoUrl": "https://lh3.googleusercontent.com/a/default-user=s64",
      "userId": "06083668107413541378"
     },
     "user_tz": 240
    },
    "id": "jXzvXqy3bPwv",
    "outputId": "6e914f7b-9670-4b3d-894e-3596073b9193"
   },
   "outputs": [
    {
     "data": {
      "text/plain": [
       "<matplotlib.collections.PathCollection at 0x7f018c238c10>"
      ]
     },
     "execution_count": 4,
     "metadata": {},
     "output_type": "execute_result"
    },
    {
     "data": {
      "image/png": "[encoded data removed]",
      "text/plain": [
       "<Figure size 432x288 with 1 Axes>"
      ]
     },
     "metadata": {
      "needs_background": "light"
     },
     "output_type": "display_data"
    }
   ],
   "source": [
    "# we create 40 separable points in 2 groups or \"clusters\" using the make_blobs() function\n",
    "X, y = make_blobs(n_samples=40, centers=2, random_state=6)\n",
    "\n",
    "#Plotting the data\n",
    "plt.scatter(X[:, 0], X[:, 1], c=y, s=30, cmap=plt.cm.Paired)"
   ]
  },
  {
   "cell_type": "markdown",
   "metadata": {
    "id": "uBTPDPvhb_Av"
   },
   "source": [
    "Fit the model with linear kernel and plot the decision boundary. Notice the fit hyperplane has the maximum margin possible, i.e. it is as far as it can be from any datapoints. The support vectors, i.e. points that influence the decision plane's positioning, are circled as well in the plot below."
   ]
  },
  {
   "cell_type": "code",
   "execution_count": 5,
   "metadata": {
    "colab": {
     "base_uri": "https://localhost:8080/",
     "height": 252
    },
    "executionInfo": {
     "elapsed": 312,
     "status": "ok",
     "timestamp": 1633374077180,
     "user": {
      "displayName": "Pratik Kunapuli",
      "photoUrl": "https://lh3.googleusercontent.com/a/default-user=s64",
      "userId": "06083668107413541378"
     },
     "user_tz": 240
    },
    "id": "dTUCFbfAam2A",
    "outputId": "863565bd-66d5-4ddb-ea89-9a15b4bd2e65"
   },
   "outputs": [
    {
     "data": {
      "image/png": "[encoded data removed]",
      "text/plain": [
       "<Figure size 432x288 with 1 Axes>"
      ]
     },
     "metadata": {
      "needs_background": "light"
     },
     "output_type": "display_data"
    }
   ],
   "source": [
    "from sklearn import svm\n",
    "# TODO: fit the model, don't regularize for illustration purposes\n",
    "clf = svm.SVC(kernel='linear')\n",
    "clf.fit(X, y)\n",
    "\n",
    "#plot the data\n",
    "plt.scatter(X[:, 0], X[:, 1], c=y, s=30, cmap=plt.cm.Paired)\n",
    "\n",
    "# plot the decision function\n",
    "ax = plt.gca()\n",
    "xlim = ax.get_xlim()\n",
    "ylim = ax.get_ylim()\n",
    "\n",
    "# create grid to evaluate model\n",
    "xx = np.linspace(xlim[0], xlim[1], 30)\n",
    "yy = np.linspace(ylim[0], ylim[1], 30)\n",
    "YY, XX = np.meshgrid(yy, xx)\n",
    "xy = np.vstack([XX.ravel(), YY.ravel()]).T\n",
    "Z = clf.decision_function(xy).reshape(XX.shape)\n",
    "\n",
    "# plot decision boundary and margins\n",
    "ax.contour(XX, YY, Z, colors='k', levels=[-1, 0, 1], alpha=0.5,\n",
    "           linestyles=['--', '-', '--'])\n",
    "\n",
    "# TODO: plot support vectors - we can get these from the trained clf model\n",
    "ax.scatter(___, ___ , s=100,\n",
    "           linewidth=1, facecolors='none', edgecolors='k')\n",
    "plt.show()"
   ]
  },
  {
   "cell_type": "markdown",
   "metadata": {
    "id": "MayaMzXb0EtP"
   },
   "source": [
    "---\n",
    "## Example 2 - Exploring different kernels for SVMs with `sklearn`\n",
    "\n",
    "In this example, we explore the different types of kernel options available for the `svm.SVC` function within the `sklearn` library, namely `'linear'`, `'poly'` (polynomial) and `'rbf'` (radial basis function, also called the Gaussian kernel). This example is adapted from [here](https://scikit-learn.org/stable/auto_examples/exercises/plot_iris_exercise.html#sphx-glr-auto-examples-exercises-plot-iris-exercise-py).\n",
    "\n",
    "---\n",
    "First, we load the required packages. In particular, we load the `svm` library from `sklearn`."
   ]
  },
  {
   "cell_type": "code",
   "execution_count": null,
   "metadata": {
    "id": "803HhxC00YvS"
   },
   "outputs": [],
   "source": [
    "# Import numpy\n",
    "import numpy as np\n",
    "\n",
    "# Import libraries from sklearn\n",
    "from sklearn import datasets, svm\n",
    "from sklearn.model_selection import train_test_split\n",
    "\n",
    "# Import matplotlib for plotting\n",
    "import matplotlib.pyplot as plt"
   ]
  },
  {
   "cell_type": "markdown",
   "metadata": {
    "id": "9tNnrJIF1DV1"
   },
   "source": [
    "Next, we load the IRIS dataset, perform some pre-processing of the data, and split the data into training and test data."
   ]
  },
  {
   "cell_type": "code",
   "execution_count": null,
   "metadata": {
    "id": "pyWMoHvl0E1j"
   },
   "outputs": [],
   "source": [
    "# Load the iris dataset\n",
    "iris = datasets.load_iris()\n",
    "X = iris.data\n",
    "y = iris.target\n",
    "\n",
    "# Perform some data pre-processing\n",
    "X = X[y != 0, :2]\n",
    "y = y[y != 0]\n",
    "\n",
    "# Split 10% of the data to use as test points and the rest as training\n",
    "X_train, X_test, y_train, y_test = train_test_split(X, y, test_size=0.1, random_state=0)\n"
   ]
  },
  {
   "cell_type": "markdown",
   "metadata": {
    "id": "5MtkxpWt07Pl"
   },
   "source": [
    "Next, we use `svm.SVC` function and three different kernel options (`'linear'`, `'rbf'` and `'poly'`) to fit a SVM model based on the given dataset. For each kernel option, we then plot a scatterplot of datapoints, together with the decision boundaries.\n",
    "\n",
    "Observe that while the rbf kernel is able to fit the training data better than the linear or polynomial kernel, it may lead to overfitting and that may lead to poor performance/accuracy with test data (circled in the scatterplot). One option to know which kernel to pick (or which degree for polynomial kernels) is to use cross-validation."
   ]
  },
  {
   "cell_type": "code",
   "execution_count": null,
   "metadata": {
    "id": "TYZfHr8o07ZP"
   },
   "outputs": [],
   "source": [
    "# Create three different models of SVM with different kernels and plot the decision boundaries on the data\n",
    "for kernel in ('linear', 'poly', 'rbf'):\n",
    "    # TODO: Create and train the SVM with a specific kernel\n",
    "    clf = \n",
    "\n",
    "    # Plot the dataset\n",
    "    plt.figure()\n",
    "    plt.clf()\n",
    "    plt.scatter(X[:, 0], X[:, 1], c=y, zorder=10, cmap=plt.cm.Paired,\n",
    "                edgecolor='k', s=20)\n",
    "\n",
    "    # Circle out the test data\n",
    "    plt.scatter(X_test[:, 0], X_test[:, 1], s=80, facecolors='none',\n",
    "                zorder=10, edgecolor='k')\n",
    "\n",
    "    plt.axis('tight')\n",
    "    x_min = X[:, 0].min()\n",
    "    x_max = X[:, 0].max()\n",
    "    y_min = X[:, 1].min()\n",
    "    y_max = X[:, 1].max()\n",
    "\n",
    "    # Produce a grid for the decision function\n",
    "    XX, YY = np.mgrid[x_min:x_max:200j, y_min:y_max:200j]\n",
    "    Z = clf.decision_function(np.c_[XX.ravel(), YY.ravel()])\n",
    "\n",
    "    # Put the result into a color plot\n",
    "    Z = Z.reshape(XX.shape)\n",
    "    plt.pcolormesh(XX, YY, Z > 0, cmap=plt.cm.Paired)\n",
    "    plt.contour(XX, YY, Z, colors=['k', 'k', 'k'],\n",
    "                linestyles=['--', '-', '--'], levels=[-.5, 0, .5])\n",
    "\n",
    "    plt.title(kernel)\n",
    "plt.show()"
   ]
  }
 ],
 "metadata": {
  "colab": {
   "collapsed_sections": [],
   "name": "module_05_SVM_skeleton.ipynb",
   "provenance": [
    {
     "file_id": "https://github.com/CIS-519/worksheet-dev/blob/master/module_05_SVM_skeleton.ipynb",
     "timestamp": 1633310137403
    }
   ]
  },
  "kernelspec": {
   "display_name": "Python 3 (ipykernel)",
   "language": "python",
   "name": "python3"
  },
  "language_info": {
   "codemirror_mode": {
    "name": "ipython",
    "version": 3
   },
   "file_extension": ".py",
   "mimetype": "text/x-python",
   "name": "python",
   "nbconvert_exporter": "python",
   "pygments_lexer": "ipython3",
   "version": "3.9.7"
  }
 },
 "nbformat": 4,
 "nbformat_minor": 0
}
