{
 "cells": [
  {
   "cell_type": "markdown",
   "metadata": {
    "id": "fKMULwhJ64qR"
   },
   "source": [
    "#**CIS 419/519**\n",
    "\n",
    "## Boosting and Stacking worksheet \n",
    "\n",
    "In this notebook, two examples for ensemble methods are provided. \n",
    "\n",
    "In the first example, you will use `GradientBoostingRegressor` in `sklearn` to generate a model from an ensemble of weak predictive models. More details on this function can be found [here](https://scikit-learn.org/stable/modules/generated/sklearn.ensemble.GradientBoostingRegressor.html#sklearn.ensemble.GradientBoostingRegressor). In the second example, you will explore the usage of `StackingClassifier` in `sklearn` to stack a few base learners, combine it with a meta learner to get a predictive model. More info on the function `StackingClassifier` can be found [here](https://scikit-learn.org/stable/modules/generated/sklearn.ensemble.StackingClassifier.html).\n",
    "\n",
    "Note that more resources on ensemble methods are given at the end of this worksheet."
   ]
  },
  {
   "cell_type": "markdown",
   "metadata": {
    "id": "AwAqMoOtjb1Z"
   },
   "source": [
    "# Gradient Boosting for Regression\n",
    "\n",
    "### **Quick Aside: Decision Tree Regressors**\n",
    "\n",
    "At the beginning of this course, we learned how to use decision trees for classification. These trees used measures like entropy (and corresponding information gain) to try to maximize the homogeneity of classes in each split. It turns out, we can also use decision trees for regression. Instead of splitting based on information gain, these trees split in a way that minimizes one of various residual-based meaures (commonly the mean-squared error). That is, we minimize the sum of squared differences between the actual target values and the predictions at each node, which are made of an average of the target values in that node. For a more detailed explanation of how this works, you can refer to [this article.](https://medium.com/analytics-vidhya/regression-trees-decision-tree-for-regression-machine-learning-e4d7525d8047)\n",
    "\n",
    "This is important to note because Gradient Boosting, whether used for regression or classification, uses decision tree regressors as its weak learner rather than decision tree classifiers. **Why do you think this is?**\n",
    "\n",
    "\n",
    "### **Back to Gradient Boosting Regressors**\n",
    "\n",
    "Gradient boosting Regression calculates the difference between the current prediction and the known correct target value; this difference is called a residual. Gradient boosting Regression then trains a weak model that maps features to that residual. This residual predicted by a weak model is added to the existing model input and thus this process nudges the model towards the correct target. Repeating this step again and again improves the overall model prediction."
   ]
  },
  {
   "cell_type": "markdown",
   "metadata": {
    "id": "0pW-Teuv2ltU"
   },
   "source": [
    "---\n",
    "# Gradient Boosting regression Example - Predicting Diabetes Progression\n",
    "\n",
    "This example demonstrates Gradient Boosting to produce a predictive model from an ensemble of weak predictive models. Gradient boosting can be used for regression and classification problems (for more detail on that, look [here](https://towardsdatascience.com/gradient-boosted-trees-for-classification-one-of-the-best-machine-learning-algorithms-35245dab03f2)). \n",
    "\n",
    "Here, you will train a model to tackle a diabetes regression task. Results from GradientBoostingRegressor with least squares loss and 500 regression trees of depth 4 are obtained. This example is adapted from [here](https://scikit-learn.org/stable/auto_examples/ensemble/plot_gradient_boosting_regression.html#sphx-glr-auto-examples-ensemble-plot-gradient-boosting-regression-py).\n",
    "\n",
    "We will be using the familiar Diabetes dataset, which tries to predict a quantitative measure of diabetes progression based off a variety of factors."
   ]
  },
  {
   "cell_type": "markdown",
   "metadata": {
    "id": "xpMg-ZwE7Mdr"
   },
   "source": [
    "Let's import the required packages first."
   ]
  },
  {
   "cell_type": "code",
   "execution_count": null,
   "metadata": {
    "id": "Aws5zzmH2rOR"
   },
   "outputs": [],
   "source": [
    "import matplotlib.pyplot as plt\n",
    "import numpy as np\n",
    "import pandas as pd\n",
    "from sklearn import datasets\n",
    "from sklearn.model_selection import train_test_split"
   ]
  },
  {
   "cell_type": "markdown",
   "metadata": {
    "id": "s7lrIiG82uwD"
   },
   "source": [
    "### Data loading\n",
    "Next, we need to load the data, and split it into train and test sets."
   ]
  },
  {
   "cell_type": "code",
   "execution_count": null,
   "metadata": {
    "id": "mfUl386n2u12"
   },
   "outputs": [],
   "source": [
    "diabetes = datasets.load_diabetes()\n",
    "X, y = diabetes.data, diabetes.target"
   ]
  },
  {
   "cell_type": "code",
   "execution_count": null,
   "metadata": {
    "colab": {
     "base_uri": "https://localhost:8080/",
     "height": 300
    },
    "executionInfo": {
     "elapsed": 10,
     "status": "ok",
     "timestamp": 1633512700592,
     "user": {
      "displayName": "Dan Gallagher",
      "photoUrl": "https://lh3.googleusercontent.com/a-/AOh14GiGRLAfwbuU0XQx-0HtnG-CBZuqpZRVY5mCQGcx=s64",
      "userId": "07283669060531693932"
     },
     "user_tz": 240
    },
    "id": "_Pj-geaI975s",
    "outputId": "86fcdf23-a623-49ad-e6e5-2da9d222016d"
   },
   "outputs": [
    {
     "data": {
      "text/html": [
       "<div>\n",
       "<style scoped>\n",
       "    .dataframe tbody tr th:only-of-type {\n",
       "        vertical-align: middle;\n",
       "    }\n",
       "\n",
       "    .dataframe tbody tr th {\n",
       "        vertical-align: top;\n",
       "    }\n",
       "\n",
       "    .dataframe thead th {\n",
       "        text-align: right;\n",
       "    }\n",
       "</style>\n",
       "<table border=\"1\" class=\"dataframe\">\n",
       "  <thead>\n",
       "    <tr style=\"text-align: right;\">\n",
       "      <th></th>\n",
       "      <th>0</th>\n",
       "    </tr>\n",
       "  </thead>\n",
       "  <tbody>\n",
       "    <tr>\n",
       "      <th>count</th>\n",
       "      <td>442.000000</td>\n",
       "    </tr>\n",
       "    <tr>\n",
       "      <th>mean</th>\n",
       "      <td>152.133484</td>\n",
       "    </tr>\n",
       "    <tr>\n",
       "      <th>std</th>\n",
       "      <td>77.093005</td>\n",
       "    </tr>\n",
       "    <tr>\n",
       "      <th>min</th>\n",
       "      <td>25.000000</td>\n",
       "    </tr>\n",
       "    <tr>\n",
       "      <th>25%</th>\n",
       "      <td>87.000000</td>\n",
       "    </tr>\n",
       "    <tr>\n",
       "      <th>50%</th>\n",
       "      <td>140.500000</td>\n",
       "    </tr>\n",
       "    <tr>\n",
       "      <th>75%</th>\n",
       "      <td>211.500000</td>\n",
       "    </tr>\n",
       "    <tr>\n",
       "      <th>max</th>\n",
       "      <td>346.000000</td>\n",
       "    </tr>\n",
       "  </tbody>\n",
       "</table>\n",
       "</div>"
      ],
      "text/plain": [
       "                0\n",
       "count  442.000000\n",
       "mean   152.133484\n",
       "std     77.093005\n",
       "min     25.000000\n",
       "25%     87.000000\n",
       "50%    140.500000\n",
       "75%    211.500000\n",
       "max    346.000000"
      ]
     },
     "execution_count": 3,
     "metadata": {},
     "output_type": "execute_result"
    }
   ],
   "source": [
    "pd.DataFrame(y).describe()"
   ]
  },
  {
   "cell_type": "code",
   "execution_count": null,
   "metadata": {
    "id": "f1B88SjVo_96"
   },
   "outputs": [],
   "source": [
    "# Split the data, with 90% for training\n",
    "X_train, X_test, y_train, y_test = train_test_split(\n",
    "    X, y, test_size=0.1, random_state=13)\n"
   ]
  },
  {
   "cell_type": "markdown",
   "metadata": {
    "id": "uajV5tEH20GN"
   },
   "source": [
    "###Fit regression model\n",
    "\n",
    "Now we will initiate the gradient boosting regressors and fit it with our training data. We'll also look and the mean squared error on the test data.\n",
    "\n",
    "To create our model, we will use the GradientBoostingRegressor object from the sklearn.ensemble. Let's go over some (but not all) of the important parameters. You can vary these parameters to see how the results change.\n",
    "\n",
    "*n_estimators*: the number of boosting stages that will be performed. Later, we will plot deviance against boosting iterations.\n",
    "\n",
    "*max_depth*: limits the number of nodes in the tree. The best value depends on the interaction of the input variables.\n",
    "\n",
    "*min_samples_split*: the minimum number of samples required to split an internal node.\n",
    "\n",
    "*learning_rate*: how much the contribution of each tree will shrink.\n",
    "\n",
    "*loss*: loss function to optimize. The least squares function is used in this case.."
   ]
  },
  {
   "cell_type": "code",
   "execution_count": null,
   "metadata": {
    "colab": {
     "base_uri": "https://localhost:8080/"
    },
    "executionInfo": {
     "elapsed": 763,
     "status": "ok",
     "timestamp": 1633512701349,
     "user": {
      "displayName": "Dan Gallagher",
      "photoUrl": "https://lh3.googleusercontent.com/a-/AOh14GiGRLAfwbuU0XQx-0HtnG-CBZuqpZRVY5mCQGcx=s64",
      "userId": "07283669060531693932"
     },
     "user_tz": 240
    },
    "id": "gBgvSXXt20MF",
    "outputId": "09a5b960-8ec3-4861-cb26-41b6d10ea74c"
   },
   "outputs": [
    {
     "name": "stdout",
     "output_type": "stream",
     "text": [
      "The mean squared error (MSE) on test set: 3022.4340\n"
     ]
    }
   ],
   "source": [
    "from sklearn import ensemble\n",
    "from sklearn.metrics import mean_squared_error, r2_score\n",
    "\n",
    "num_estimators = 500\n",
    "reg = ensemble.GradientBoostingRegressor(n_estimators = num_estimators,\n",
    "          max_depth = 4,\n",
    "          min_samples_split = 5,\n",
    "          learning_rate = 0.01,\n",
    "          loss = 'ls',\n",
    "          random_state= 42)\n",
    "reg.fit(X_train, y_train)\n",
    "\n",
    "mse = mean_squared_error(y_test, reg.predict(X_test))\n",
    "print(\"The mean squared error (MSE) on test set: {:.4f}\".format(mse))"
   ]
  },
  {
   "cell_type": "markdown",
   "metadata": {
    "id": "YevHmA1L24dZ"
   },
   "source": [
    "###Plot our performance\n",
    "Finally, we will visualize the results. To do that we will compute the training set and testing set deviance (loss on the in-bag sample, which in our case is the whole training/testing set since we are not using bagging) and then plot it against boosting iterations (n_estimators)."
   ]
  },
  {
   "cell_type": "code",
   "execution_count": null,
   "metadata": {
    "colab": {
     "base_uri": "https://localhost:8080/",
     "height": 441
    },
    "executionInfo": {
     "elapsed": 670,
     "status": "ok",
     "timestamp": 1633512702017,
     "user": {
      "displayName": "Dan Gallagher",
      "photoUrl": "https://lh3.googleusercontent.com/a-/AOh14GiGRLAfwbuU0XQx-0HtnG-CBZuqpZRVY5mCQGcx=s64",
      "userId": "07283669060531693932"
     },
     "user_tz": 240
    },
    "id": "lT0WONwg24n7",
    "outputId": "a6adf15c-ff1a-49c6-f234-39f2275b8644"
   },
   "outputs": [
    {
     "data": {
      "image/png": "[encoded data removed]",
      "text/plain": [
       "<Figure size 432x432 with 1 Axes>"
      ]
     },
     "metadata": {
      "needs_background": "light"
     },
     "output_type": "display_data"
    }
   ],
   "source": [
    "# Start our plot with the training deviance\n",
    "fig = plt.figure(figsize=(6, 6))\n",
    "plt.title('Deviance')\n",
    "\n",
    "# .train_score_ gives us the training deviance at each boosting iteration\n",
    "plt.plot(np.arange(num_estimators) + 1, reg.train_score_, 'b-',\n",
    "         label='Training Set Deviance')\n",
    "\n",
    "# Now let's add the plot of test deviance\n",
    "\n",
    "# We don't have an attribute for the test score like we did train_score_, so we have to make our own\n",
    "test_score = np.zeros((num_estimators,), dtype=np.float64)\n",
    "# use the staged_predict method of our GradientBoostingRegressor here to \n",
    "# test how our model performs at each stage of our X, according to the number of estimators used\n",
    "for i, y_pred in enumerate(reg.staged_predict(X_test)):\n",
    "  # Get our test loss (mean-squared error) at each stage\n",
    "    test_score[i] = reg.loss_(y_test, y_pred)\n",
    "\n",
    "plt.plot(np.arange(num_estimators) + 1, test_score, 'r-',\n",
    "         label='Test Set Deviance')\n",
    "plt.legend(loc='upper right')\n",
    "plt.xlabel('Boosting Iterations')\n",
    "plt.ylabel('Deviance')\n",
    "fig.tight_layout()\n",
    "plt.show()"
   ]
  },
  {
   "cell_type": "markdown",
   "metadata": {
    "id": "aYrf6Gxcwbui"
   },
   "source": [
    "**What does this graph tell us?**"
   ]
  },
  {
   "cell_type": "markdown",
   "metadata": {
    "id": "ZeTimde13lfI"
   },
   "source": [
    "---\n",
    "#Example 2 - Stacking with `sklearn`\n",
    "\n",
    "Stacking is a technique that takes several regression or classification models and uses their output as the input for the meta-classifier/regressor. In other words, stacking is an ensemble learning technique where the quality of prediction is improved by combining, typically, weak models. Where boosting and bagging typically use homogenous models, stacking typically uses heterogenous models, performing best when those models all have different strengths and weaknesses (and their errors are relatively uncorrelated).\n",
    "\n",
    "This example demonstrates how you can use `StackingClassifier` in `sklearn` to simplify stacking pipelines and create useful models. This is adapted from [here](https://towardsdatascience.com/stacking-made-easy-with-sklearn-e27a0793c92b). "
   ]
  },
  {
   "cell_type": "markdown",
   "metadata": {
    "id": "nR7oNgW62HLJ"
   },
   "source": [
    "---\n",
    "The first model that we are going to implement is a classifier that predicts a flower's species (the familiar iris dataset). We use a Random Forest and k-Nearest Neighbors as our base learners and a Logistic Regression as our meta learner (see image below). \n",
    "\n",
    "![picture](https://drive.google.com/uc?export=view&id=1CHHGB1RSZ1vAAwARq0dBbmJI2B5fUNoy) \n",
    "[Image source](https://towardsdatascience.com/stacking-made-easy-with-sklearn-e27a0793c92b).\n",
    "\n",
    "Coding stacking models can be quite tricky as you will have to take into account the folds that you want to generate and cross-validation at different steps. Fortunately, `sklearn` makes it possible to create the model shown above in just a few lines of code.\n"
   ]
  },
  {
   "cell_type": "code",
   "execution_count": null,
   "metadata": {
    "colab": {
     "base_uri": "https://localhost:8080/"
    },
    "executionInfo": {
     "elapsed": 666,
     "status": "ok",
     "timestamp": 1633512702680,
     "user": {
      "displayName": "Dan Gallagher",
      "photoUrl": "https://lh3.googleusercontent.com/a-/AOh14GiGRLAfwbuU0XQx-0HtnG-CBZuqpZRVY5mCQGcx=s64",
      "userId": "07283669060531693932"
     },
     "user_tz": 240
    },
    "id": "PCvJEU511HCJ",
    "outputId": "cb12c4de-fe27-4b82-f4e4-6f96a709fac8"
   },
   "outputs": [
    {
     "data": {
      "text/plain": [
       "0.9473684210526315"
      ]
     },
     "execution_count": 7,
     "metadata": {},
     "output_type": "execute_result"
    }
   ],
   "source": [
    "from sklearn.datasets import load_iris\n",
    "from sklearn.ensemble import RandomForestClassifier, StackingClassifier\n",
    "from sklearn.linear_model import LogisticRegression\n",
    "from sklearn.model_selection import train_test_split\n",
    "from sklearn.neighbors import KNeighborsClassifier\n",
    "\n",
    "X, y = load_iris(return_X_y=True)\n",
    "\n",
    "# Create Base Learners\n",
    "# Note the estimators parameter takes a list of tuples in the form of (str, estimator)\n",
    "base_learners = [\n",
    "                 ('rf_1', RandomForestClassifier(n_estimators=10, random_state=42)),\n",
    "                 ('knn_1', KNeighborsClassifier(n_neighbors=5))             \n",
    "                ]\n",
    "\n",
    "# Initialize Stacking Classifier with the Meta Learner\n",
    "\n",
    "# Estimators are fitted on the full X while final_estimator is trained using \n",
    "# cross-validated predictions of the base estimators using cross_val_predict.\n",
    "# In most cases (see documentation), when the cv parameter is None (default) it\n",
    "# is actually using 5-fold cross validation. But you can customize your cv strategy!\n",
    "\n",
    "clf = StackingClassifier(estimators=base_learners, final_estimator=LogisticRegression())\n",
    "\n",
    "# Extract score\n",
    "X_train, X_test, y_train, y_test = train_test_split(X, y, stratify=y, random_state=42)\n",
    "clf.fit(X_train, y_train).score(X_test, y_test)"
   ]
  },
  {
   "cell_type": "markdown",
   "metadata": {
    "id": "j_CMbNEE2Xta"
   },
   "source": [
    "In an attempt to improve accuracy, we can add another layer of learners to the previous model, as illustrated in this image:\n",
    "\n",
    "\n",
    "![picture](https://drive.google.com/uc?export=view&id=1nAMyUg8o918Y4w5AR0ckGx3s1jNDCi97) \n",
    "[Image source](https://towardsdatascience.com/stacking-made-easy-with-sklearn-e27a0793c92b).\n",
    "\n",
    "As shown above, we add a layer that includes two additional classifiers, namely a Decision Tree and a Random Forest. However, the `StackingClassifier` only has parameters for two layers- the base estimators and the meta estimator that will use the predictions from the base estimators. Knowing this, **how would we go about adding more layers?**\n",
    "\n",
    "(Try thinking about this before moving on)\n",
    "\n",
    "<br/>\n",
    "<br/>\n",
    "<br/>\n",
    "<br/>\n",
    "<br/>\n",
    "<br/>\n",
    "<br/>\n",
    "<br/>\n",
    "<br/>\n",
    "\n",
    "The answer is, we create two lists of estimators, one for each layer. Next, a `StackingClassifier` is created using the second layer of estimators with the final model, namely the Logistic Regression. Then, we create another `StackingClassifier` by combining the previously mentioned `StackingClassifier` with the first layer of estimators to create the full pipeline of models."
   ]
  },
  {
   "cell_type": "code",
   "execution_count": null,
   "metadata": {
    "colab": {
     "base_uri": "https://localhost:8080/"
    },
    "executionInfo": {
     "elapsed": 1932,
     "status": "ok",
     "timestamp": 1633512704610,
     "user": {
      "displayName": "Dan Gallagher",
      "photoUrl": "https://lh3.googleusercontent.com/a-/AOh14GiGRLAfwbuU0XQx-0HtnG-CBZuqpZRVY5mCQGcx=s64",
      "userId": "07283669060531693932"
     },
     "user_tz": 240
    },
    "id": "qPPzs0aQ1lXA",
    "outputId": "c1909bad-95df-4df4-d7f8-f9dde8de59af"
   },
   "outputs": [
    {
     "data": {
      "text/plain": [
       "0.9736842105263158"
      ]
     },
     "execution_count": 8,
     "metadata": {},
     "output_type": "execute_result"
    }
   ],
   "source": [
    "from sklearn.datasets import load_iris\n",
    "from sklearn.ensemble import RandomForestClassifier, StackingClassifier\n",
    "from sklearn.linear_model import LogisticRegression\n",
    "from sklearn.model_selection import train_test_split\n",
    "from sklearn.neighbors import KNeighborsClassifier\n",
    "from sklearn.tree import DecisionTreeClassifier\n",
    "\n",
    "X, y = load_iris(return_X_y=True)\n",
    "\n",
    "# Create Learners per layer\n",
    "layer_one_estimators = [\n",
    "                        ('rf_1', RandomForestClassifier(n_estimators=10, random_state=42)),\n",
    "                        ('knn_1', KNeighborsClassifier(n_neighbors=5))             \n",
    "                       ]\n",
    "layer_two_estimators = [\n",
    "                        ('dt_2', DecisionTreeClassifier()),\n",
    "                        ('rf_2', RandomForestClassifier(n_estimators=50, random_state=42)),\n",
    "                       ]\n",
    "layer_two = StackingClassifier(estimators=layer_two_estimators, final_estimator=LogisticRegression())\n",
    "\n",
    "# Create Final model by \n",
    "clf = StackingClassifier(estimators=layer_one_estimators, final_estimator=layer_two)\n",
    "\n",
    "X_train, X_test, y_train, y_test = train_test_split(X, y, stratify=y, random_state=42)\n",
    "clf.fit(X_train, y_train).score(X_test, y_test)"
   ]
  },
  {
   "cell_type": "markdown",
   "metadata": {
    "id": "qxdYqi0i3uC6"
   },
   "source": [
    "###More resources on ensemble methods (boosting, bagging, stacking):\n",
    "- https://medium.com/@rrfd/boosting-bagging-and-stacking-ensemble-methods-with-sklearn-and-mlens-a455c0c982de\n",
    "- https://www.kaggle.com/arthurtok/introduction-to-ensembling-stacking-in-python\n",
    "- https://towardsdatascience.com/ensemble-methods-bagging-boosting-and-stacking-c9214a10a205\n",
    "- https://blog.statsbot.co/ensemble-learning-d1dcd548e936"
   ]
  }
 ],
 "metadata": {
  "colab": {
   "collapsed_sections": [],
   "name": "module_06_Boosting_Stacking_worksheet.ipynb",
   "provenance": [
    {
     "file_id": "1_ETsAJ0kSOFgyeNo_c8afnFL0hFRC-_M",
     "timestamp": 1633512369074
    },
    {
     "file_id": "https://github.com/CIS-519/worksheet-dev/blob/master/module_06_Boosting_Stacking_worksheet.ipynb",
     "timestamp": 1633507567945
    }
   ]
  },
  "kernelspec": {
   "display_name": "Python 3 (ipykernel)",
   "language": "python",
   "name": "python3"
  },
  "language_info": {
   "codemirror_mode": {
    "name": "ipython",
    "version": 3
   },
   "file_extension": ".py",
   "mimetype": "text/x-python",
   "name": "python",
   "nbconvert_exporter": "python",
   "pygments_lexer": "ipython3",
   "version": "3.9.6"
  }
 },
 "nbformat": 4,
 "nbformat_minor": 0
}
