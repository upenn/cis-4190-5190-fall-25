{
 "cells": [
  {
   "cell_type": "markdown",
   "metadata": {
    "id": "w4LqKVh3i8LC"
   },
   "source": [
    "#**CIS 419/519**\n",
    "\n",
    "## Linear Regression worksheet \n",
    "\n",
    "In this worksheet, you will explore two illustrative examples for linear regression. \n",
    "\n",
    "First, you will run a simple linear regression example using the `scikit-learn` library [1]. This example uses the 'bmi' feature of the diabetes dataset to perform linear regression. More details on this dataset can be found [here](https://scikit-learn.org/stable/datasets/toy_dataset.html#diabetes-dataset). As elaborated, the first feature corresponds to the age of the subjects, in years. The targets for this dataset give a quantitative measure of diabetes progression.\n",
    "\n",
    "In the second example, you will compare the closed-form solution of ordinary leasts square (OLS) which will be covered in class, with the solution obtained by the linear regression function in the `sklearn` package.\n",
    "\n",
    "In the third example, you will get an introduction to base expansion for polynomial regression in sklearn.\n",
    "\n",
    "In the fourth example, you will learn about l2 regularization and the impacts of the lambda hyperparameter."
   ]
  },
  {
   "cell_type": "markdown",
   "metadata": {
    "id": "Zj2B3MrtkRgg"
   },
   "source": [
    "---\n",
    "#Example 1 - Running linear regression with `scikit-learn`\n",
    "\n",
    "In this example, we wish to build a linear regression model that _predicts_ diabetes progression quantitatively, based on some selection of our features. To this end, we extract the dataset from the `sklearn` library and using the `LinearRegression()` function in `linear_model` of the `sklearn` library."
   ]
  },
  {
   "cell_type": "markdown",
   "metadata": {
    "id": "mlYZLQE7kXyR"
   },
   "source": [
    "Next, we load the dataset, perform pre-processing (extract first feature and split up the dataset into training and validation sets)."
   ]
  },
  {
   "cell_type": "code",
   "execution_count": null,
   "metadata": {
    "colab": {
     "base_uri": "https://localhost:8080/",
     "height": 363
    },
    "executionInfo": {
     "elapsed": 137,
     "status": "ok",
     "timestamp": 1643854765555,
     "user": {
      "displayName": "Aadith Kumar",
      "photoUrl": "https://lh3.googleusercontent.com/a/default-user=s64",
      "userId": "11426293986469859189"
     },
     "user_tz": 300
    },
    "id": "H8Nl22UTOl0Q",
    "outputId": "d040c823-0fe3-44e1-8e1e-d558b6d01390"
   },
   "outputs": [
    {
     "data": {
      "text/html": [
       "\n",
       "  <div id=\"df-42c987dc-bcbc-48c6-97d5-175d0245e185\">\n",
       "    <div class=\"colab-df-container\">\n",
       "      <div>\n",
       "<style scoped>\n",
       "    .dataframe tbody tr th:only-of-type {\n",
       "        vertical-align: middle;\n",
       "    }\n",
       "\n",
       "    .dataframe tbody tr th {\n",
       "        vertical-align: top;\n",
       "    }\n",
       "\n",
       "    .dataframe thead th {\n",
       "        text-align: right;\n",
       "    }\n",
       "</style>\n",
       "<table border=\"1\" class=\"dataframe\">\n",
       "  <thead>\n",
       "    <tr style=\"text-align: right;\">\n",
       "      <th></th>\n",
       "      <th>age</th>\n",
       "      <th>sex</th>\n",
       "      <th>bmi</th>\n",
       "      <th>bp</th>\n",
       "      <th>s1</th>\n",
       "      <th>s2</th>\n",
       "      <th>s3</th>\n",
       "      <th>s4</th>\n",
       "      <th>s5</th>\n",
       "      <th>s6</th>\n",
       "    </tr>\n",
       "  </thead>\n",
       "  <tbody>\n",
       "    <tr>\n",
       "      <th>0</th>\n",
       "      <td>0.038076</td>\n",
       "      <td>0.050680</td>\n",
       "      <td>0.061696</td>\n",
       "      <td>0.021872</td>\n",
       "      <td>-0.044223</td>\n",
       "      <td>-0.034821</td>\n",
       "      <td>-0.043401</td>\n",
       "      <td>-0.002592</td>\n",
       "      <td>0.019908</td>\n",
       "      <td>-0.017646</td>\n",
       "    </tr>\n",
       "    <tr>\n",
       "      <th>1</th>\n",
       "      <td>-0.001882</td>\n",
       "      <td>-0.044642</td>\n",
       "      <td>-0.051474</td>\n",
       "      <td>-0.026328</td>\n",
       "      <td>-0.008449</td>\n",
       "      <td>-0.019163</td>\n",
       "      <td>0.074412</td>\n",
       "      <td>-0.039493</td>\n",
       "      <td>-0.068330</td>\n",
       "      <td>-0.092204</td>\n",
       "    </tr>\n",
       "    <tr>\n",
       "      <th>2</th>\n",
       "      <td>0.085299</td>\n",
       "      <td>0.050680</td>\n",
       "      <td>0.044451</td>\n",
       "      <td>-0.005671</td>\n",
       "      <td>-0.045599</td>\n",
       "      <td>-0.034194</td>\n",
       "      <td>-0.032356</td>\n",
       "      <td>-0.002592</td>\n",
       "      <td>0.002864</td>\n",
       "      <td>-0.025930</td>\n",
       "    </tr>\n",
       "    <tr>\n",
       "      <th>3</th>\n",
       "      <td>-0.089063</td>\n",
       "      <td>-0.044642</td>\n",
       "      <td>-0.011595</td>\n",
       "      <td>-0.036656</td>\n",
       "      <td>0.012191</td>\n",
       "      <td>0.024991</td>\n",
       "      <td>-0.036038</td>\n",
       "      <td>0.034309</td>\n",
       "      <td>0.022692</td>\n",
       "      <td>-0.009362</td>\n",
       "    </tr>\n",
       "    <tr>\n",
       "      <th>4</th>\n",
       "      <td>0.005383</td>\n",
       "      <td>-0.044642</td>\n",
       "      <td>-0.036385</td>\n",
       "      <td>0.021872</td>\n",
       "      <td>0.003935</td>\n",
       "      <td>0.015596</td>\n",
       "      <td>0.008142</td>\n",
       "      <td>-0.002592</td>\n",
       "      <td>-0.031991</td>\n",
       "      <td>-0.046641</td>\n",
       "    </tr>\n",
       "    <tr>\n",
       "      <th>5</th>\n",
       "      <td>-0.092695</td>\n",
       "      <td>-0.044642</td>\n",
       "      <td>-0.040696</td>\n",
       "      <td>-0.019442</td>\n",
       "      <td>-0.068991</td>\n",
       "      <td>-0.079288</td>\n",
       "      <td>0.041277</td>\n",
       "      <td>-0.076395</td>\n",
       "      <td>-0.041180</td>\n",
       "      <td>-0.096346</td>\n",
       "    </tr>\n",
       "    <tr>\n",
       "      <th>6</th>\n",
       "      <td>-0.045472</td>\n",
       "      <td>0.050680</td>\n",
       "      <td>-0.047163</td>\n",
       "      <td>-0.015999</td>\n",
       "      <td>-0.040096</td>\n",
       "      <td>-0.024800</td>\n",
       "      <td>0.000779</td>\n",
       "      <td>-0.039493</td>\n",
       "      <td>-0.062913</td>\n",
       "      <td>-0.038357</td>\n",
       "    </tr>\n",
       "    <tr>\n",
       "      <th>7</th>\n",
       "      <td>0.063504</td>\n",
       "      <td>0.050680</td>\n",
       "      <td>-0.001895</td>\n",
       "      <td>0.066630</td>\n",
       "      <td>0.090620</td>\n",
       "      <td>0.108914</td>\n",
       "      <td>0.022869</td>\n",
       "      <td>0.017703</td>\n",
       "      <td>-0.035817</td>\n",
       "      <td>0.003064</td>\n",
       "    </tr>\n",
       "    <tr>\n",
       "      <th>8</th>\n",
       "      <td>0.041708</td>\n",
       "      <td>0.050680</td>\n",
       "      <td>0.061696</td>\n",
       "      <td>-0.040099</td>\n",
       "      <td>-0.013953</td>\n",
       "      <td>0.006202</td>\n",
       "      <td>-0.028674</td>\n",
       "      <td>-0.002592</td>\n",
       "      <td>-0.014956</td>\n",
       "      <td>0.011349</td>\n",
       "    </tr>\n",
       "    <tr>\n",
       "      <th>9</th>\n",
       "      <td>-0.070900</td>\n",
       "      <td>-0.044642</td>\n",
       "      <td>0.039062</td>\n",
       "      <td>-0.033214</td>\n",
       "      <td>-0.012577</td>\n",
       "      <td>-0.034508</td>\n",
       "      <td>-0.024993</td>\n",
       "      <td>-0.002592</td>\n",
       "      <td>0.067736</td>\n",
       "      <td>-0.013504</td>\n",
       "    </tr>\n",
       "  </tbody>\n",
       "</table>\n",
       "</div>\n",
       "      <button class=\"colab-df-convert\" onclick=\"convertToInteractive('df-42c987dc-bcbc-48c6-97d5-175d0245e185')\"\n",
       "              title=\"Convert this dataframe to an interactive table.\"\n",
       "              style=\"display:none;\">\n",
       "        \n",
       "  <svg xmlns=\"http://www.w3.org/2000/svg\" height=\"24px\"viewBox=\"0 0 24 24\"\n",
       "       width=\"24px\">\n",
       "    <path d=\"M0 0h24v24H0V0z\" fill=\"none\"/>\n",
       "    <path d=\"M18.56 5.44l.94 2.06.94-2.06 2.06-.94-2.06-.94-.94-2.06-.94 2.06-2.06.94zm-11 1L8.5 8.5l.94-2.06 2.06-.94-2.06-.94L8.5 2.5l-.94 2.06-2.06.94zm10 10l.94 2.06.94-2.06 2.06-.94-2.06-.94-.94-2.06-.94 2.06-2.06.94z\"/><path d=\"M17.41 7.96l-1.37-1.37c-.4-.4-.92-.59-1.43-.59-.52 0-1.04.2-1.43.59L10.3 9.45l-7.72 7.72c-.78.78-.78 2.05 0 2.83L4 21.41c.39.39.9.59 1.41.59.51 0 1.02-.2 1.41-.59l7.78-7.78 2.81-2.81c.8-.78.8-2.07 0-2.86zM5.41 20L4 18.59l7.72-7.72 1.47 1.35L5.41 20z\"/>\n",
       "  </svg>\n",
       "      </button>\n",
       "      \n",
       "  <style>\n",
       "    .colab-df-container {\n",
       "      display:flex;\n",
       "      flex-wrap:wrap;\n",
       "      gap: 12px;\n",
       "    }\n",
       "\n",
       "    .colab-df-convert {\n",
       "      background-color: #E8F0FE;\n",
       "      border: none;\n",
       "      border-radius: 50%;\n",
       "      cursor: pointer;\n",
       "      display: none;\n",
       "      fill: #1967D2;\n",
       "      height: 32px;\n",
       "      padding: 0 0 0 0;\n",
       "      width: 32px;\n",
       "    }\n",
       "\n",
       "    .colab-df-convert:hover {\n",
       "      background-color: #E2EBFA;\n",
       "      box-shadow: 0px 1px 2px rgba(60, 64, 67, 0.3), 0px 1px 3px 1px rgba(60, 64, 67, 0.15);\n",
       "      fill: #174EA6;\n",
       "    }\n",
       "\n",
       "    [theme=dark] .colab-df-convert {\n",
       "      background-color: #3B4455;\n",
       "      fill: #D2E3FC;\n",
       "    }\n",
       "\n",
       "    [theme=dark] .colab-df-convert:hover {\n",
       "      background-color: #434B5C;\n",
       "      box-shadow: 0px 1px 3px 1px rgba(0, 0, 0, 0.15);\n",
       "      filter: drop-shadow(0px 1px 2px rgba(0, 0, 0, 0.3));\n",
       "      fill: #FFFFFF;\n",
       "    }\n",
       "  </style>\n",
       "\n",
       "      <script>\n",
       "        const buttonEl =\n",
       "          document.querySelector('#df-42c987dc-bcbc-48c6-97d5-175d0245e185 button.colab-df-convert');\n",
       "        buttonEl.style.display =\n",
       "          google.colab.kernel.accessAllowed ? 'block' : 'none';\n",
       "\n",
       "        async function convertToInteractive(key) {\n",
       "          const element = document.querySelector('#df-42c987dc-bcbc-48c6-97d5-175d0245e185');\n",
       "          const dataTable =\n",
       "            await google.colab.kernel.invokeFunction('convertToInteractive',\n",
       "                                                     [key], {});\n",
       "          if (!dataTable) return;\n",
       "\n",
       "          const docLinkHtml = 'Like what you see? Visit the ' +\n",
       "            '<a target=\"_blank\" href=https://colab.research.google.com/notebooks/data_table.ipynb>data table notebook</a>'\n",
       "            + ' to learn more about interactive tables.';\n",
       "          element.innerHTML = '';\n",
       "          dataTable['output_type'] = 'display_data';\n",
       "          await google.colab.output.renderOutput(dataTable, element);\n",
       "          const docLink = document.createElement('div');\n",
       "          docLink.innerHTML = docLinkHtml;\n",
       "          element.appendChild(docLink);\n",
       "        }\n",
       "      </script>\n",
       "    </div>\n",
       "  </div>\n",
       "  "
      ],
      "text/plain": [
       "        age       sex       bmi  ...        s4        s5        s6\n",
       "0  0.038076  0.050680  0.061696  ... -0.002592  0.019908 -0.017646\n",
       "1 -0.001882 -0.044642 -0.051474  ... -0.039493 -0.068330 -0.092204\n",
       "2  0.085299  0.050680  0.044451  ... -0.002592  0.002864 -0.025930\n",
       "3 -0.089063 -0.044642 -0.011595  ...  0.034309  0.022692 -0.009362\n",
       "4  0.005383 -0.044642 -0.036385  ... -0.002592 -0.031991 -0.046641\n",
       "5 -0.092695 -0.044642 -0.040696  ... -0.076395 -0.041180 -0.096346\n",
       "6 -0.045472  0.050680 -0.047163  ... -0.039493 -0.062913 -0.038357\n",
       "7  0.063504  0.050680 -0.001895  ...  0.017703 -0.035817  0.003064\n",
       "8  0.041708  0.050680  0.061696  ... -0.002592 -0.014956  0.011349\n",
       "9 -0.070900 -0.044642  0.039062  ... -0.002592  0.067736 -0.013504\n",
       "\n",
       "[10 rows x 10 columns]"
      ]
     },
     "execution_count": 102,
     "metadata": {},
     "output_type": "execute_result"
    }
   ],
   "source": [
    "# Import numpy and pandas for data processing\n",
    "import numpy as np\n",
    "import pandas as pd\n",
    "\n",
    "# Load the diabetes dataset from sklearn\n",
    "from sklearn import datasets\n",
    "# Loads as a dict with data, target, feature_names, etc.\n",
    "diabetes = datasets.load_diabetes()\n",
    "\n",
    "#Let's use dataframes so that we can easily get some descriptive statistics\n",
    "diabetes_X = pd.DataFrame(diabetes.data, columns = diabetes.feature_names)\n",
    "diabetes_y = pd.DataFrame(diabetes.target, columns = ['Disease Progression Indicator'])\n",
    "diabetes_X.head(10)"
   ]
  },
  {
   "cell_type": "code",
   "execution_count": null,
   "metadata": {
    "colab": {
     "base_uri": "https://localhost:8080/",
     "height": 300
    },
    "executionInfo": {
     "elapsed": 160,
     "status": "ok",
     "timestamp": 1643854778618,
     "user": {
      "displayName": "Aadith Kumar",
      "photoUrl": "https://lh3.googleusercontent.com/a/default-user=s64",
      "userId": "11426293986469859189"
     },
     "user_tz": 300
    },
    "id": "hmC03YzZXPo0",
    "outputId": "4e7e61bb-ddcb-4c83-bfea-57d6ba687730"
   },
   "outputs": [
    {
     "data": {
      "text/html": [
       "\n",
       "  <div id=\"df-7bc7d3fa-1f0c-471d-b1a6-6d023dc3c9bd\">\n",
       "    <div class=\"colab-df-container\">\n",
       "      <div>\n",
       "<style scoped>\n",
       "    .dataframe tbody tr th:only-of-type {\n",
       "        vertical-align: middle;\n",
       "    }\n",
       "\n",
       "    .dataframe tbody tr th {\n",
       "        vertical-align: top;\n",
       "    }\n",
       "\n",
       "    .dataframe thead th {\n",
       "        text-align: right;\n",
       "    }\n",
       "</style>\n",
       "<table border=\"1\" class=\"dataframe\">\n",
       "  <thead>\n",
       "    <tr style=\"text-align: right;\">\n",
       "      <th></th>\n",
       "      <th>Disease Progression Indicator</th>\n",
       "    </tr>\n",
       "  </thead>\n",
       "  <tbody>\n",
       "    <tr>\n",
       "      <th>count</th>\n",
       "      <td>442.000000</td>\n",
       "    </tr>\n",
       "    <tr>\n",
       "      <th>mean</th>\n",
       "      <td>152.133484</td>\n",
       "    </tr>\n",
       "    <tr>\n",
       "      <th>std</th>\n",
       "      <td>77.093005</td>\n",
       "    </tr>\n",
       "    <tr>\n",
       "      <th>min</th>\n",
       "      <td>25.000000</td>\n",
       "    </tr>\n",
       "    <tr>\n",
       "      <th>25%</th>\n",
       "      <td>87.000000</td>\n",
       "    </tr>\n",
       "    <tr>\n",
       "      <th>50%</th>\n",
       "      <td>140.500000</td>\n",
       "    </tr>\n",
       "    <tr>\n",
       "      <th>75%</th>\n",
       "      <td>211.500000</td>\n",
       "    </tr>\n",
       "    <tr>\n",
       "      <th>max</th>\n",
       "      <td>346.000000</td>\n",
       "    </tr>\n",
       "  </tbody>\n",
       "</table>\n",
       "</div>\n",
       "      <button class=\"colab-df-convert\" onclick=\"convertToInteractive('df-7bc7d3fa-1f0c-471d-b1a6-6d023dc3c9bd')\"\n",
       "              title=\"Convert this dataframe to an interactive table.\"\n",
       "              style=\"display:none;\">\n",
       "        \n",
       "  <svg xmlns=\"http://www.w3.org/2000/svg\" height=\"24px\"viewBox=\"0 0 24 24\"\n",
       "       width=\"24px\">\n",
       "    <path d=\"M0 0h24v24H0V0z\" fill=\"none\"/>\n",
       "    <path d=\"M18.56 5.44l.94 2.06.94-2.06 2.06-.94-2.06-.94-.94-2.06-.94 2.06-2.06.94zm-11 1L8.5 8.5l.94-2.06 2.06-.94-2.06-.94L8.5 2.5l-.94 2.06-2.06.94zm10 10l.94 2.06.94-2.06 2.06-.94-2.06-.94-.94-2.06-.94 2.06-2.06.94z\"/><path d=\"M17.41 7.96l-1.37-1.37c-.4-.4-.92-.59-1.43-.59-.52 0-1.04.2-1.43.59L10.3 9.45l-7.72 7.72c-.78.78-.78 2.05 0 2.83L4 21.41c.39.39.9.59 1.41.59.51 0 1.02-.2 1.41-.59l7.78-7.78 2.81-2.81c.8-.78.8-2.07 0-2.86zM5.41 20L4 18.59l7.72-7.72 1.47 1.35L5.41 20z\"/>\n",
       "  </svg>\n",
       "      </button>\n",
       "      \n",
       "  <style>\n",
       "    .colab-df-container {\n",
       "      display:flex;\n",
       "      flex-wrap:wrap;\n",
       "      gap: 12px;\n",
       "    }\n",
       "\n",
       "    .colab-df-convert {\n",
       "      background-color: #E8F0FE;\n",
       "      border: none;\n",
       "      border-radius: 50%;\n",
       "      cursor: pointer;\n",
       "      display: none;\n",
       "      fill: #1967D2;\n",
       "      height: 32px;\n",
       "      padding: 0 0 0 0;\n",
       "      width: 32px;\n",
       "    }\n",
       "\n",
       "    .colab-df-convert:hover {\n",
       "      background-color: #E2EBFA;\n",
       "      box-shadow: 0px 1px 2px rgba(60, 64, 67, 0.3), 0px 1px 3px 1px rgba(60, 64, 67, 0.15);\n",
       "      fill: #174EA6;\n",
       "    }\n",
       "\n",
       "    [theme=dark] .colab-df-convert {\n",
       "      background-color: #3B4455;\n",
       "      fill: #D2E3FC;\n",
       "    }\n",
       "\n",
       "    [theme=dark] .colab-df-convert:hover {\n",
       "      background-color: #434B5C;\n",
       "      box-shadow: 0px 1px 3px 1px rgba(0, 0, 0, 0.15);\n",
       "      filter: drop-shadow(0px 1px 2px rgba(0, 0, 0, 0.3));\n",
       "      fill: #FFFFFF;\n",
       "    }\n",
       "  </style>\n",
       "\n",
       "      <script>\n",
       "        const buttonEl =\n",
       "          document.querySelector('#df-7bc7d3fa-1f0c-471d-b1a6-6d023dc3c9bd button.colab-df-convert');\n",
       "        buttonEl.style.display =\n",
       "          google.colab.kernel.accessAllowed ? 'block' : 'none';\n",
       "\n",
       "        async function convertToInteractive(key) {\n",
       "          const element = document.querySelector('#df-7bc7d3fa-1f0c-471d-b1a6-6d023dc3c9bd');\n",
       "          const dataTable =\n",
       "            await google.colab.kernel.invokeFunction('convertToInteractive',\n",
       "                                                     [key], {});\n",
       "          if (!dataTable) return;\n",
       "\n",
       "          const docLinkHtml = 'Like what you see? Visit the ' +\n",
       "            '<a target=\"_blank\" href=https://colab.research.google.com/notebooks/data_table.ipynb>data table notebook</a>'\n",
       "            + ' to learn more about interactive tables.';\n",
       "          element.innerHTML = '';\n",
       "          dataTable['output_type'] = 'display_data';\n",
       "          await google.colab.output.renderOutput(dataTable, element);\n",
       "          const docLink = document.createElement('div');\n",
       "          docLink.innerHTML = docLinkHtml;\n",
       "          element.appendChild(docLink);\n",
       "        }\n",
       "      </script>\n",
       "    </div>\n",
       "  </div>\n",
       "  "
      ],
      "text/plain": [
       "       Disease Progression Indicator\n",
       "count                     442.000000\n",
       "mean                      152.133484\n",
       "std                        77.093005\n",
       "min                        25.000000\n",
       "25%                        87.000000\n",
       "50%                       140.500000\n",
       "75%                       211.500000\n",
       "max                       346.000000"
      ]
     },
     "execution_count": 103,
     "metadata": {},
     "output_type": "execute_result"
    }
   ],
   "source": [
    "diabetes_y.describe()"
   ]
  },
  {
   "cell_type": "markdown",
   "metadata": {
    "id": "WnhvRVXUWEpZ"
   },
   "source": [
    "**Question:** Why might it be especially important to know some of these descriptive statistics (especially for the target variable) when dealing with a regression problem?"
   ]
  },
  {
   "cell_type": "markdown",
   "metadata": {
    "id": "5JzHyE_LXmEu"
   },
   "source": [
    "For the sake of plotting simplicity, we are going to just start out using a single variable, bmi. We of course could use more predictors, but this makes our result much harder to visualize, unless we reduce the dimensionality of the data in some way. It also brings up issues of feature selection. Both of these topics will be covered later in the course."
   ]
  },
  {
   "cell_type": "code",
   "execution_count": null,
   "metadata": {
    "id": "aCfRUPrZMziY"
   },
   "outputs": [],
   "source": [
    "# Split the data into training/testing sets, using only the 'bmi' feature\n",
    "from sklearn.model_selection import train_test_split\n",
    "\n",
    "diabetes_X_train, diabetes_X_test, diabetes_y_train, diabetes_y_test = train_test_split(diabetes_X[['bmi']], diabetes_y, test_size = .33, random_state = 42)\n"
   ]
  },
  {
   "cell_type": "markdown",
   "metadata": {
    "id": "WVp0ZiEvkjXA"
   },
   "source": [
    "With the datasets, we can now train the linear regression model and make predictions."
   ]
  },
  {
   "cell_type": "code",
   "execution_count": null,
   "metadata": {
    "id": "zERNLC6mkjft"
   },
   "outputs": [],
   "source": [
    "# Import linear_model to create our regression object\n",
    "from sklearn import linear_model\n",
    "\n",
    "# Create linear regression object\n",
    "regr = linear_model.LinearRegression()\n",
    "\n",
    "# Train the model using the training sets\n",
    "regr.fit(diabetes_X_train, diabetes_y_train)\n",
    "\n",
    "# Make predictions using the testing set\n",
    "diabetes_y_pred = regr.predict(diabetes_X_test)"
   ]
  },
  {
   "cell_type": "markdown",
   "metadata": {
    "id": "o-pdOtfdktnM"
   },
   "source": [
    "Finally, we print out important output parameters and metrics, and visualize our model/predictions with plots.\n",
    "\n",
    "The straight line can be seen in the plot, illustrating how linear regression is used to draw a straight line that minimizes the residual sum of squares between the observed responses in the dataset, and the responses predicted by the linear approximation. \n",
    "\n",
    "The coefficients, residual sum of squares and the coefficient of determination are also calculated. "
   ]
  },
  {
   "cell_type": "code",
   "execution_count": null,
   "metadata": {
    "colab": {
     "base_uri": "https://localhost:8080/",
     "height": 412
    },
    "executionInfo": {
     "elapsed": 335,
     "status": "ok",
     "timestamp": 1643854814642,
     "user": {
      "displayName": "Aadith Kumar",
      "photoUrl": "https://lh3.googleusercontent.com/a/default-user=s64",
      "userId": "11426293986469859189"
     },
     "user_tz": 300
    },
    "id": "TDuaGoJWkts1",
    "outputId": "8b38b3b3-87a3-47ff-e466-6f9dcb17f2c2"
   },
   "outputs": [
    {
     "name": "stdout",
     "output_type": "stream",
     "text": [
      "Coefficients: \n",
      " [[972.87627375]]\n",
      "Intercept: \n",
      " [150.26267496]\n",
      "Mean squared error: 3934.07\n",
      "Coefficient of determination: 0.32\n"
     ]
    },
    {
     "data": {
      "text/plain": [
       "Text(0, 0.5, 'y_test')"
      ]
     },
     "execution_count": 106,
     "metadata": {},
     "output_type": "execute_result"
    },
    {
     "data": {
      "image/png": "[encoded data removed]",
      "text/plain": [
       "<Figure size 432x288 with 1 Axes>"
      ]
     },
     "metadata": {
      "needs_background": "light"
     },
     "output_type": "display_data"
    }
   ],
   "source": [
    "# Import matplotlib for plotting\n",
    "import matplotlib.pyplot as plt\n",
    "\n",
    "# Import the metrics we will use to score our model\n",
    "from sklearn.metrics import mean_squared_error, r2_score\n",
    "\n",
    "\n",
    "# The coefficients\n",
    "print('Coefficients: \\n', regr.coef_)\n",
    "# The intercept\n",
    "print('Intercept: \\n', regr.intercept_)\n",
    "# The mean squared error\n",
    "print('Mean squared error: %.2f'\n",
    "      % mean_squared_error(diabetes_y_test, diabetes_y_pred))\n",
    "# The coefficient of determination: 1 is perfect prediction\n",
    "print('Coefficient of determination: %.2f'\n",
    "      % r2_score(diabetes_y_test, diabetes_y_pred))\n",
    "\n",
    "# Plot outputs\n",
    "plt.scatter(diabetes_X_test, diabetes_y_test,  color='black')\n",
    "plt.plot(diabetes_X_test, diabetes_y_pred, color='blue', linewidth=3)\n",
    "plt.xlabel('X_test')\n",
    "plt.ylabel('y_test')\n"
   ]
  },
  {
   "cell_type": "markdown",
   "metadata": {
    "id": "abfM-TNw8dh6"
   },
   "source": [
    "### Coefficient of determination (or) $R^2$ score\n",
    "\n",
    "The coefficient of determination (or) $R^2$ is the proportion of the variation in the target/dependent variable that is predictable from the feature(s)/independent variable(s). In a dataset with $N$ datapoints, let $y_{i}$ and $\\hat{y}_{i}$ be the $i^{th}$ observation of dependent variable and its prediction respectively. $R^2$ is calculated as:\n",
    "\n",
    "> #### $R^2 = 1 - \\frac{SS_{res}}{SS_{tot}}$\n",
    "\n",
    "where\n",
    "\n",
    "*   $SS_{res} = \\sum_{i=1}^{N} (y_{i} - \\hat{y}_{i})^2$\n",
    "*   $SS_{tot} = \\sum_{i=1}^{N} (y_{i} - \\bar{y})^2$\n",
    "> *   $\\bar{y} = \\frac{\\sum_{i=1}^{N} y_{i}}{N}$\n",
    "\n",
    "### Properties of $R^2$\n",
    "\n",
    "*   $R^2 \\in (-\\infty, 1]$ \n",
    "*   $R^2 = 1$ if $SS_{res} = 0$, i.e., all the predictions match the actual values\n",
    "*   $R^2 = 0$ if $SS_{res} = SS_{tot}$, i.e., the predictions are only as good as fitting a constant value (the mean of the actual values)\n",
    "*   $R^2 < 0$ if $SS_{res} > SS_{tot}$, i.e., the predictions are worse than even fitting a constant value\n",
    "\n"
   ]
  },
  {
   "cell_type": "markdown",
   "metadata": {
    "id": "f-jinUx_l2t3"
   },
   "source": [
    "---\n",
    "\n",
    "#Example 2- Comparing closed-form solution with `scikit-learn`\n",
    "\n",
    "Next, we provide an example on how the closed-form solution for ordinary least squares compares with the linear regression module in `scikit-learn`. \n",
    "\n",
    "Observe how the `numpy` package is used to perform vector and matrix computations. Notice how the features in the dataset $x$ are **vectorized** using `numpy`, and also observe the code syntax used to compute the closed form OLS solution. This implies that with vectorization, vector and matrix computations can be made more efficient, and for and while loops are often not required for computation with respect to the values in the dataset.\n",
    "\n",
    "---"
   ]
  },
  {
   "cell_type": "markdown",
   "metadata": {
    "id": "wkhsh5NlnH3w"
   },
   "source": [
    "First, we generate a random dataset with features, $X$ and targets, $y$. We then use the closed-form solution to compute the weights of the linear regression model, $w$. Then, we predict targets $y_{est}$ based on this model. Finally, we output the norm of the prediction error and plot the features against the true and predicted targets."
   ]
  },
  {
   "cell_type": "code",
   "execution_count": null,
   "metadata": {
    "colab": {
     "base_uri": "https://localhost:8080/"
    },
    "executionInfo": {
     "elapsed": 137,
     "status": "ok",
     "timestamp": 1643854844315,
     "user": {
      "displayName": "Aadith Kumar",
      "photoUrl": "https://lh3.googleusercontent.com/a/default-user=s64",
      "userId": "11426293986469859189"
     },
     "user_tz": 300
    },
    "id": "pH-diDfRmSqn",
    "outputId": "380f5c4a-9c1d-45fe-aa50-0c71af17dc2d"
   },
   "outputs": [
    {
     "name": "stdout",
     "output_type": "stream",
     "text": [
      "0.6574732640052536\n"
     ]
    }
   ],
   "source": [
    "# Generate a dataset with random features (X) and targets (y)\n",
    "x     = np.random.random(10) \n",
    "x     = np.sort(x)\n",
    "X     = np.vstack([np.ones(len(x)), x]).T \n",
    "y     = X @ np.array([0.5,2.0]) + np.random.normal(0,0.25,len(x))\n",
    "\n",
    "# Closed-form solution for OLS\n",
    "w     = np.linalg.inv(X.T@X)@ X.T@y\n",
    "\n",
    "# Predicted targets\n",
    "y_est = X @ w\n",
    "\n",
    "# Norm of the error between the true and predicted targets\n",
    "print(np.linalg.norm(y-y_est))"
   ]
  },
  {
   "cell_type": "code",
   "execution_count": null,
   "metadata": {
    "colab": {
     "base_uri": "https://localhost:8080/"
    },
    "executionInfo": {
     "elapsed": 132,
     "status": "ok",
     "timestamp": 1643854846377,
     "user": {
      "displayName": "Aadith Kumar",
      "photoUrl": "https://lh3.googleusercontent.com/a/default-user=s64",
      "userId": "11426293986469859189"
     },
     "user_tz": 300
    },
    "id": "Ju0_PaO6yQha",
    "outputId": "972f33ab-b2f4-4c71-dc2d-d7d50888d6f3"
   },
   "outputs": [
    {
     "name": "stdout",
     "output_type": "stream",
     "text": [
      "[0.5 2. ]\n"
     ]
    }
   ],
   "source": [
    "print(np.array([0.5,2.0]))"
   ]
  },
  {
   "cell_type": "markdown",
   "metadata": {
    "id": "vaDEgCAropTw"
   },
   "source": [
    "Next, we use the linear regression module in `sklearn` to do linear regression. The yellow line gives the closed-form solution for OLS, while the black line plots the solution obtained with the `sklearn` linear regression function. As expected, we get a very similar result, as shown in the plot below. "
   ]
  },
  {
   "cell_type": "code",
   "execution_count": null,
   "metadata": {
    "colab": {
     "base_uri": "https://localhost:8080/",
     "height": 287
    },
    "executionInfo": {
     "elapsed": 388,
     "status": "ok",
     "timestamp": 1643854862721,
     "user": {
      "displayName": "Aadith Kumar",
      "photoUrl": "https://lh3.googleusercontent.com/a/default-user=s64",
      "userId": "11426293986469859189"
     },
     "user_tz": 300
    },
    "id": "7SoDHru7nH_T",
    "outputId": "806de722-2e2e-41df-9320-7a6d41b08669"
   },
   "outputs": [
    {
     "name": "stdout",
     "output_type": "stream",
     "text": [
      "0.6574732640052534\n"
     ]
    },
    {
     "data": {
      "image/png": "[encoded data removed]",
      "text/plain": [
       "<Figure size 432x288 with 1 Axes>"
      ]
     },
     "metadata": {
      "needs_background": "light"
     },
     "output_type": "display_data"
    }
   ],
   "source": [
    "ols   = linear_model.LinearRegression()\n",
    "ols.fit(X,y)\n",
    "y_est_ols = ols.predict(X)\n",
    "\n",
    "print(np.linalg.norm(y-y_est_ols))\n",
    "\n",
    "plt.plot(x, y_est_ols, 'k', linewidth=2)\n",
    "plt.plot(x, y_est, 'y--', linewidth=2)\n",
    "plt.scatter(x, y, s=30, c='red', marker='+')\n",
    "plt.grid('on')"
   ]
  },
  {
   "cell_type": "markdown",
   "metadata": {
    "id": "A54iCqgT-7Dt"
   },
   "source": [
    "## Example 3- Feature Scaling\n",
    "Often we find that the features of the data we used are not at the same scale/units so it is necessary to rescale features that have different units to have same scale/units.\n",
    "\n",
    "To test, let's look at a dataset used to analyze the chance to get admitted to a university based on various factors. Make sure to download the Admission_Predict.csv from Canvas and upload it to your Colab session before continuing!"
   ]
  },
  {
   "cell_type": "code",
   "execution_count": null,
   "metadata": {
    "colab": {
     "base_uri": "https://localhost:8080/",
     "height": 206
    },
    "executionInfo": {
     "elapsed": 134,
     "status": "ok",
     "timestamp": 1643854923134,
     "user": {
      "displayName": "Aadith Kumar",
      "photoUrl": "https://lh3.googleusercontent.com/a/default-user=s64",
      "userId": "11426293986469859189"
     },
     "user_tz": 300
    },
    "id": "EjGI-nXX4VpS",
    "outputId": "9b2a7ad4-ac1c-440d-a89a-0f67d2d9aa03"
   },
   "outputs": [
    {
     "data": {
      "text/html": [
       "\n",
       "  <div id=\"df-1a6cdf47-4f8e-4840-9eb2-534d1fb9bdad\">\n",
       "    <div class=\"colab-df-container\">\n",
       "      <div>\n",
       "<style scoped>\n",
       "    .dataframe tbody tr th:only-of-type {\n",
       "        vertical-align: middle;\n",
       "    }\n",
       "\n",
       "    .dataframe tbody tr th {\n",
       "        vertical-align: top;\n",
       "    }\n",
       "\n",
       "    .dataframe thead th {\n",
       "        text-align: right;\n",
       "    }\n",
       "</style>\n",
       "<table border=\"1\" class=\"dataframe\">\n",
       "  <thead>\n",
       "    <tr style=\"text-align: right;\">\n",
       "      <th></th>\n",
       "      <th>Serial No.</th>\n",
       "      <th>GRE Score</th>\n",
       "      <th>TOEFL Score</th>\n",
       "      <th>University Rating</th>\n",
       "      <th>SOP</th>\n",
       "      <th>LOR</th>\n",
       "      <th>CGPA</th>\n",
       "      <th>Research</th>\n",
       "      <th>Chance of Admit</th>\n",
       "    </tr>\n",
       "  </thead>\n",
       "  <tbody>\n",
       "    <tr>\n",
       "      <th>0</th>\n",
       "      <td>1</td>\n",
       "      <td>337</td>\n",
       "      <td>118</td>\n",
       "      <td>4</td>\n",
       "      <td>4.5</td>\n",
       "      <td>4.5</td>\n",
       "      <td>9.65</td>\n",
       "      <td>1</td>\n",
       "      <td>0.92</td>\n",
       "    </tr>\n",
       "    <tr>\n",
       "      <th>1</th>\n",
       "      <td>2</td>\n",
       "      <td>324</td>\n",
       "      <td>107</td>\n",
       "      <td>4</td>\n",
       "      <td>4.0</td>\n",
       "      <td>4.5</td>\n",
       "      <td>8.87</td>\n",
       "      <td>1</td>\n",
       "      <td>0.76</td>\n",
       "    </tr>\n",
       "    <tr>\n",
       "      <th>2</th>\n",
       "      <td>3</td>\n",
       "      <td>316</td>\n",
       "      <td>104</td>\n",
       "      <td>3</td>\n",
       "      <td>3.0</td>\n",
       "      <td>3.5</td>\n",
       "      <td>8.00</td>\n",
       "      <td>1</td>\n",
       "      <td>0.72</td>\n",
       "    </tr>\n",
       "    <tr>\n",
       "      <th>3</th>\n",
       "      <td>4</td>\n",
       "      <td>322</td>\n",
       "      <td>110</td>\n",
       "      <td>3</td>\n",
       "      <td>3.5</td>\n",
       "      <td>2.5</td>\n",
       "      <td>8.67</td>\n",
       "      <td>1</td>\n",
       "      <td>0.80</td>\n",
       "    </tr>\n",
       "    <tr>\n",
       "      <th>4</th>\n",
       "      <td>5</td>\n",
       "      <td>314</td>\n",
       "      <td>103</td>\n",
       "      <td>2</td>\n",
       "      <td>2.0</td>\n",
       "      <td>3.0</td>\n",
       "      <td>8.21</td>\n",
       "      <td>0</td>\n",
       "      <td>0.65</td>\n",
       "    </tr>\n",
       "  </tbody>\n",
       "</table>\n",
       "</div>\n",
       "      <button class=\"colab-df-convert\" onclick=\"convertToInteractive('df-1a6cdf47-4f8e-4840-9eb2-534d1fb9bdad')\"\n",
       "              title=\"Convert this dataframe to an interactive table.\"\n",
       "              style=\"display:none;\">\n",
       "        \n",
       "  <svg xmlns=\"http://www.w3.org/2000/svg\" height=\"24px\"viewBox=\"0 0 24 24\"\n",
       "       width=\"24px\">\n",
       "    <path d=\"M0 0h24v24H0V0z\" fill=\"none\"/>\n",
       "    <path d=\"M18.56 5.44l.94 2.06.94-2.06 2.06-.94-2.06-.94-.94-2.06-.94 2.06-2.06.94zm-11 1L8.5 8.5l.94-2.06 2.06-.94-2.06-.94L8.5 2.5l-.94 2.06-2.06.94zm10 10l.94 2.06.94-2.06 2.06-.94-2.06-.94-.94-2.06-.94 2.06-2.06.94z\"/><path d=\"M17.41 7.96l-1.37-1.37c-.4-.4-.92-.59-1.43-.59-.52 0-1.04.2-1.43.59L10.3 9.45l-7.72 7.72c-.78.78-.78 2.05 0 2.83L4 21.41c.39.39.9.59 1.41.59.51 0 1.02-.2 1.41-.59l7.78-7.78 2.81-2.81c.8-.78.8-2.07 0-2.86zM5.41 20L4 18.59l7.72-7.72 1.47 1.35L5.41 20z\"/>\n",
       "  </svg>\n",
       "      </button>\n",
       "      \n",
       "  <style>\n",
       "    .colab-df-container {\n",
       "      display:flex;\n",
       "      flex-wrap:wrap;\n",
       "      gap: 12px;\n",
       "    }\n",
       "\n",
       "    .colab-df-convert {\n",
       "      background-color: #E8F0FE;\n",
       "      border: none;\n",
       "      border-radius: 50%;\n",
       "      cursor: pointer;\n",
       "      display: none;\n",
       "      fill: #1967D2;\n",
       "      height: 32px;\n",
       "      padding: 0 0 0 0;\n",
       "      width: 32px;\n",
       "    }\n",
       "\n",
       "    .colab-df-convert:hover {\n",
       "      background-color: #E2EBFA;\n",
       "      box-shadow: 0px 1px 2px rgba(60, 64, 67, 0.3), 0px 1px 3px 1px rgba(60, 64, 67, 0.15);\n",
       "      fill: #174EA6;\n",
       "    }\n",
       "\n",
       "    [theme=dark] .colab-df-convert {\n",
       "      background-color: #3B4455;\n",
       "      fill: #D2E3FC;\n",
       "    }\n",
       "\n",
       "    [theme=dark] .colab-df-convert:hover {\n",
       "      background-color: #434B5C;\n",
       "      box-shadow: 0px 1px 3px 1px rgba(0, 0, 0, 0.15);\n",
       "      filter: drop-shadow(0px 1px 2px rgba(0, 0, 0, 0.3));\n",
       "      fill: #FFFFFF;\n",
       "    }\n",
       "  </style>\n",
       "\n",
       "      <script>\n",
       "        const buttonEl =\n",
       "          document.querySelector('#df-1a6cdf47-4f8e-4840-9eb2-534d1fb9bdad button.colab-df-convert');\n",
       "        buttonEl.style.display =\n",
       "          google.colab.kernel.accessAllowed ? 'block' : 'none';\n",
       "\n",
       "        async function convertToInteractive(key) {\n",
       "          const element = document.querySelector('#df-1a6cdf47-4f8e-4840-9eb2-534d1fb9bdad');\n",
       "          const dataTable =\n",
       "            await google.colab.kernel.invokeFunction('convertToInteractive',\n",
       "                                                     [key], {});\n",
       "          if (!dataTable) return;\n",
       "\n",
       "          const docLinkHtml = 'Like what you see? Visit the ' +\n",
       "            '<a target=\"_blank\" href=https://colab.research.google.com/notebooks/data_table.ipynb>data table notebook</a>'\n",
       "            + ' to learn more about interactive tables.';\n",
       "          element.innerHTML = '';\n",
       "          dataTable['output_type'] = 'display_data';\n",
       "          await google.colab.output.renderOutput(dataTable, element);\n",
       "          const docLink = document.createElement('div');\n",
       "          docLink.innerHTML = docLinkHtml;\n",
       "          element.appendChild(docLink);\n",
       "        }\n",
       "      </script>\n",
       "    </div>\n",
       "  </div>\n",
       "  "
      ],
      "text/plain": [
       "   Serial No.  GRE Score  TOEFL Score  ...  CGPA  Research  Chance of Admit \n",
       "0           1        337          118  ...  9.65         1              0.92\n",
       "1           2        324          107  ...  8.87         1              0.76\n",
       "2           3        316          104  ...  8.00         1              0.72\n",
       "3           4        322          110  ...  8.67         1              0.80\n",
       "4           5        314          103  ...  8.21         0              0.65\n",
       "\n",
       "[5 rows x 9 columns]"
      ]
     },
     "execution_count": 110,
     "metadata": {},
     "output_type": "execute_result"
    }
   ],
   "source": [
    "# Loading the Dataset admission prediction with the target column as chance of admit \n",
    "df = pd.read_csv(\"Admission_Predict.csv\")\n",
    "df.head()\n"
   ]
  },
  {
   "cell_type": "code",
   "execution_count": null,
   "metadata": {
    "colab": {
     "base_uri": "https://localhost:8080/",
     "height": 300
    },
    "executionInfo": {
     "elapsed": 135,
     "status": "ok",
     "timestamp": 1643854924813,
     "user": {
      "displayName": "Aadith Kumar",
      "photoUrl": "https://lh3.googleusercontent.com/a/default-user=s64",
      "userId": "11426293986469859189"
     },
     "user_tz": 300
    },
    "id": "Qo_OUMilAfIb",
    "outputId": "f0854809-a858-435f-fc62-59f27d65ad1d"
   },
   "outputs": [
    {
     "data": {
      "text/html": [
       "\n",
       "  <div id=\"df-1bae7785-1048-456b-9d82-4dcb5468299b\">\n",
       "    <div class=\"colab-df-container\">\n",
       "      <div>\n",
       "<style scoped>\n",
       "    .dataframe tbody tr th:only-of-type {\n",
       "        vertical-align: middle;\n",
       "    }\n",
       "\n",
       "    .dataframe tbody tr th {\n",
       "        vertical-align: top;\n",
       "    }\n",
       "\n",
       "    .dataframe thead th {\n",
       "        text-align: right;\n",
       "    }\n",
       "</style>\n",
       "<table border=\"1\" class=\"dataframe\">\n",
       "  <thead>\n",
       "    <tr style=\"text-align: right;\">\n",
       "      <th></th>\n",
       "      <th>Serial No.</th>\n",
       "      <th>GRE Score</th>\n",
       "      <th>TOEFL Score</th>\n",
       "      <th>University Rating</th>\n",
       "      <th>SOP</th>\n",
       "      <th>LOR</th>\n",
       "      <th>CGPA</th>\n",
       "      <th>Research</th>\n",
       "      <th>Chance of Admit</th>\n",
       "    </tr>\n",
       "  </thead>\n",
       "  <tbody>\n",
       "    <tr>\n",
       "      <th>count</th>\n",
       "      <td>400.000000</td>\n",
       "      <td>400.000000</td>\n",
       "      <td>400.000000</td>\n",
       "      <td>400.000000</td>\n",
       "      <td>400.000000</td>\n",
       "      <td>400.000000</td>\n",
       "      <td>400.000000</td>\n",
       "      <td>400.000000</td>\n",
       "      <td>400.000000</td>\n",
       "    </tr>\n",
       "    <tr>\n",
       "      <th>mean</th>\n",
       "      <td>200.500000</td>\n",
       "      <td>316.807500</td>\n",
       "      <td>107.410000</td>\n",
       "      <td>3.087500</td>\n",
       "      <td>3.400000</td>\n",
       "      <td>3.452500</td>\n",
       "      <td>8.598925</td>\n",
       "      <td>0.547500</td>\n",
       "      <td>0.724350</td>\n",
       "    </tr>\n",
       "    <tr>\n",
       "      <th>std</th>\n",
       "      <td>115.614301</td>\n",
       "      <td>11.473646</td>\n",
       "      <td>6.069514</td>\n",
       "      <td>1.143728</td>\n",
       "      <td>1.006869</td>\n",
       "      <td>0.898478</td>\n",
       "      <td>0.596317</td>\n",
       "      <td>0.498362</td>\n",
       "      <td>0.142609</td>\n",
       "    </tr>\n",
       "    <tr>\n",
       "      <th>min</th>\n",
       "      <td>1.000000</td>\n",
       "      <td>290.000000</td>\n",
       "      <td>92.000000</td>\n",
       "      <td>1.000000</td>\n",
       "      <td>1.000000</td>\n",
       "      <td>1.000000</td>\n",
       "      <td>6.800000</td>\n",
       "      <td>0.000000</td>\n",
       "      <td>0.340000</td>\n",
       "    </tr>\n",
       "    <tr>\n",
       "      <th>25%</th>\n",
       "      <td>100.750000</td>\n",
       "      <td>308.000000</td>\n",
       "      <td>103.000000</td>\n",
       "      <td>2.000000</td>\n",
       "      <td>2.500000</td>\n",
       "      <td>3.000000</td>\n",
       "      <td>8.170000</td>\n",
       "      <td>0.000000</td>\n",
       "      <td>0.640000</td>\n",
       "    </tr>\n",
       "    <tr>\n",
       "      <th>50%</th>\n",
       "      <td>200.500000</td>\n",
       "      <td>317.000000</td>\n",
       "      <td>107.000000</td>\n",
       "      <td>3.000000</td>\n",
       "      <td>3.500000</td>\n",
       "      <td>3.500000</td>\n",
       "      <td>8.610000</td>\n",
       "      <td>1.000000</td>\n",
       "      <td>0.730000</td>\n",
       "    </tr>\n",
       "    <tr>\n",
       "      <th>75%</th>\n",
       "      <td>300.250000</td>\n",
       "      <td>325.000000</td>\n",
       "      <td>112.000000</td>\n",
       "      <td>4.000000</td>\n",
       "      <td>4.000000</td>\n",
       "      <td>4.000000</td>\n",
       "      <td>9.062500</td>\n",
       "      <td>1.000000</td>\n",
       "      <td>0.830000</td>\n",
       "    </tr>\n",
       "    <tr>\n",
       "      <th>max</th>\n",
       "      <td>400.000000</td>\n",
       "      <td>340.000000</td>\n",
       "      <td>120.000000</td>\n",
       "      <td>5.000000</td>\n",
       "      <td>5.000000</td>\n",
       "      <td>5.000000</td>\n",
       "      <td>9.920000</td>\n",
       "      <td>1.000000</td>\n",
       "      <td>0.970000</td>\n",
       "    </tr>\n",
       "  </tbody>\n",
       "</table>\n",
       "</div>\n",
       "      <button class=\"colab-df-convert\" onclick=\"convertToInteractive('df-1bae7785-1048-456b-9d82-4dcb5468299b')\"\n",
       "              title=\"Convert this dataframe to an interactive table.\"\n",
       "              style=\"display:none;\">\n",
       "        \n",
       "  <svg xmlns=\"http://www.w3.org/2000/svg\" height=\"24px\"viewBox=\"0 0 24 24\"\n",
       "       width=\"24px\">\n",
       "    <path d=\"M0 0h24v24H0V0z\" fill=\"none\"/>\n",
       "    <path d=\"M18.56 5.44l.94 2.06.94-2.06 2.06-.94-2.06-.94-.94-2.06-.94 2.06-2.06.94zm-11 1L8.5 8.5l.94-2.06 2.06-.94-2.06-.94L8.5 2.5l-.94 2.06-2.06.94zm10 10l.94 2.06.94-2.06 2.06-.94-2.06-.94-.94-2.06-.94 2.06-2.06.94z\"/><path d=\"M17.41 7.96l-1.37-1.37c-.4-.4-.92-.59-1.43-.59-.52 0-1.04.2-1.43.59L10.3 9.45l-7.72 7.72c-.78.78-.78 2.05 0 2.83L4 21.41c.39.39.9.59 1.41.59.51 0 1.02-.2 1.41-.59l7.78-7.78 2.81-2.81c.8-.78.8-2.07 0-2.86zM5.41 20L4 18.59l7.72-7.72 1.47 1.35L5.41 20z\"/>\n",
       "  </svg>\n",
       "      </button>\n",
       "      \n",
       "  <style>\n",
       "    .colab-df-container {\n",
       "      display:flex;\n",
       "      flex-wrap:wrap;\n",
       "      gap: 12px;\n",
       "    }\n",
       "\n",
       "    .colab-df-convert {\n",
       "      background-color: #E8F0FE;\n",
       "      border: none;\n",
       "      border-radius: 50%;\n",
       "      cursor: pointer;\n",
       "      display: none;\n",
       "      fill: #1967D2;\n",
       "      height: 32px;\n",
       "      padding: 0 0 0 0;\n",
       "      width: 32px;\n",
       "    }\n",
       "\n",
       "    .colab-df-convert:hover {\n",
       "      background-color: #E2EBFA;\n",
       "      box-shadow: 0px 1px 2px rgba(60, 64, 67, 0.3), 0px 1px 3px 1px rgba(60, 64, 67, 0.15);\n",
       "      fill: #174EA6;\n",
       "    }\n",
       "\n",
       "    [theme=dark] .colab-df-convert {\n",
       "      background-color: #3B4455;\n",
       "      fill: #D2E3FC;\n",
       "    }\n",
       "\n",
       "    [theme=dark] .colab-df-convert:hover {\n",
       "      background-color: #434B5C;\n",
       "      box-shadow: 0px 1px 3px 1px rgba(0, 0, 0, 0.15);\n",
       "      filter: drop-shadow(0px 1px 2px rgba(0, 0, 0, 0.3));\n",
       "      fill: #FFFFFF;\n",
       "    }\n",
       "  </style>\n",
       "\n",
       "      <script>\n",
       "        const buttonEl =\n",
       "          document.querySelector('#df-1bae7785-1048-456b-9d82-4dcb5468299b button.colab-df-convert');\n",
       "        buttonEl.style.display =\n",
       "          google.colab.kernel.accessAllowed ? 'block' : 'none';\n",
       "\n",
       "        async function convertToInteractive(key) {\n",
       "          const element = document.querySelector('#df-1bae7785-1048-456b-9d82-4dcb5468299b');\n",
       "          const dataTable =\n",
       "            await google.colab.kernel.invokeFunction('convertToInteractive',\n",
       "                                                     [key], {});\n",
       "          if (!dataTable) return;\n",
       "\n",
       "          const docLinkHtml = 'Like what you see? Visit the ' +\n",
       "            '<a target=\"_blank\" href=https://colab.research.google.com/notebooks/data_table.ipynb>data table notebook</a>'\n",
       "            + ' to learn more about interactive tables.';\n",
       "          element.innerHTML = '';\n",
       "          dataTable['output_type'] = 'display_data';\n",
       "          await google.colab.output.renderOutput(dataTable, element);\n",
       "          const docLink = document.createElement('div');\n",
       "          docLink.innerHTML = docLinkHtml;\n",
       "          element.appendChild(docLink);\n",
       "        }\n",
       "      </script>\n",
       "    </div>\n",
       "  </div>\n",
       "  "
      ],
      "text/plain": [
       "       Serial No.   GRE Score  ...    Research  Chance of Admit \n",
       "count  400.000000  400.000000  ...  400.000000        400.000000\n",
       "mean   200.500000  316.807500  ...    0.547500          0.724350\n",
       "std    115.614301   11.473646  ...    0.498362          0.142609\n",
       "min      1.000000  290.000000  ...    0.000000          0.340000\n",
       "25%    100.750000  308.000000  ...    0.000000          0.640000\n",
       "50%    200.500000  317.000000  ...    1.000000          0.730000\n",
       "75%    300.250000  325.000000  ...    1.000000          0.830000\n",
       "max    400.000000  340.000000  ...    1.000000          0.970000\n",
       "\n",
       "[8 rows x 9 columns]"
      ]
     },
     "execution_count": 111,
     "metadata": {},
     "output_type": "execute_result"
    }
   ],
   "source": [
    "df.describe()"
   ]
  },
  {
   "cell_type": "code",
   "execution_count": null,
   "metadata": {
    "id": "_2irc3U64VpS"
   },
   "outputs": [],
   "source": [
    "# Let's drop serial number, as it just seems to be an id number and will hurt our model\n",
    "# We will also split our features and target\n",
    "df.drop(\"Serial No.\",axis=1, inplace=True)\n",
    "y = df['Chance of Admit ']\n",
    "x = df.drop(\"Chance of Admit \",axis=1)"
   ]
  },
  {
   "cell_type": "markdown",
   "metadata": {
    "id": "Bo9msfEqAlQq"
   },
   "source": [
    "We can see that many of our variables are on completely different scales (some wildly so). Since regression is scale-variant, something like CGPA will have basically no power when compared to the much larger absolute changes in GRE score."
   ]
  },
  {
   "cell_type": "markdown",
   "metadata": {
    "id": "EEy9FyDj4VpS"
   },
   "source": [
    "### Standardization\n",
    "Standardization is a scaling technique where the values are centered around the mean with a unit standard deviation. This means that the mean of the attribute becomes zero and the resultant distribution has a unit standard deviation. In sklearn, we do this by creating a StandardScaler() object. This object can be fit to data to learn parameters such as a column's mean and standard deviation. It can then be used to transform data through the scaler's formula."
   ]
  },
  {
   "cell_type": "code",
   "execution_count": null,
   "metadata": {
    "id": "2mF20UqO4VpS"
   },
   "outputs": [],
   "source": [
    "from sklearn.model_selection import train_test_split\n",
    "from sklearn.linear_model import LinearRegression\n",
    "from sklearn import metrics\n",
    "from sklearn.preprocessing import StandardScaler"
   ]
  },
  {
   "cell_type": "code",
   "execution_count": null,
   "metadata": {
    "colab": {
     "base_uri": "https://localhost:8080/",
     "height": 206
    },
    "executionInfo": {
     "elapsed": 167,
     "status": "ok",
     "timestamp": 1643855058858,
     "user": {
      "displayName": "Aadith Kumar",
      "photoUrl": "https://lh3.googleusercontent.com/a/default-user=s64",
      "userId": "11426293986469859189"
     },
     "user_tz": 300
    },
    "id": "QBsh5OuA4VpS",
    "outputId": "b0c5010d-cc8a-436a-b84b-bc4cf5208adc"
   },
   "outputs": [
    {
     "data": {
      "text/html": [
       "\n",
       "  <div id=\"df-6d786f99-2e49-4f13-acfc-9b5029279f7c\">\n",
       "    <div class=\"colab-df-container\">\n",
       "      <div>\n",
       "<style scoped>\n",
       "    .dataframe tbody tr th:only-of-type {\n",
       "        vertical-align: middle;\n",
       "    }\n",
       "\n",
       "    .dataframe tbody tr th {\n",
       "        vertical-align: top;\n",
       "    }\n",
       "\n",
       "    .dataframe thead th {\n",
       "        text-align: right;\n",
       "    }\n",
       "</style>\n",
       "<table border=\"1\" class=\"dataframe\">\n",
       "  <thead>\n",
       "    <tr style=\"text-align: right;\">\n",
       "      <th></th>\n",
       "      <th>GRE Score</th>\n",
       "      <th>TOEFL Score</th>\n",
       "      <th>University Rating</th>\n",
       "      <th>SOP</th>\n",
       "      <th>LOR</th>\n",
       "      <th>CGPA</th>\n",
       "      <th>Research</th>\n",
       "    </tr>\n",
       "  </thead>\n",
       "  <tbody>\n",
       "    <tr>\n",
       "      <th>0</th>\n",
       "      <td>0.457111</td>\n",
       "      <td>0.424662</td>\n",
       "      <td>-0.057308</td>\n",
       "      <td>0.127156</td>\n",
       "      <td>-1.059652</td>\n",
       "      <td>0.139866</td>\n",
       "      <td>0.927613</td>\n",
       "    </tr>\n",
       "    <tr>\n",
       "      <th>1</th>\n",
       "      <td>0.102289</td>\n",
       "      <td>0.424662</td>\n",
       "      <td>-0.057308</td>\n",
       "      <td>0.617396</td>\n",
       "      <td>-0.501940</td>\n",
       "      <td>0.361100</td>\n",
       "      <td>-1.078036</td>\n",
       "    </tr>\n",
       "    <tr>\n",
       "      <th>2</th>\n",
       "      <td>2.053813</td>\n",
       "      <td>2.085930</td>\n",
       "      <td>1.689221</td>\n",
       "      <td>1.107637</td>\n",
       "      <td>1.171194</td>\n",
       "      <td>2.250095</td>\n",
       "      <td>0.927613</td>\n",
       "    </tr>\n",
       "    <tr>\n",
       "      <th>3</th>\n",
       "      <td>0.279700</td>\n",
       "      <td>-0.572099</td>\n",
       "      <td>-0.057308</td>\n",
       "      <td>-0.363084</td>\n",
       "      <td>-1.059652</td>\n",
       "      <td>-0.030313</td>\n",
       "      <td>0.927613</td>\n",
       "    </tr>\n",
       "    <tr>\n",
       "      <th>4</th>\n",
       "      <td>-0.163828</td>\n",
       "      <td>-1.236607</td>\n",
       "      <td>-1.803837</td>\n",
       "      <td>-1.343565</td>\n",
       "      <td>-1.059652</td>\n",
       "      <td>-1.085428</td>\n",
       "      <td>-1.078036</td>\n",
       "    </tr>\n",
       "  </tbody>\n",
       "</table>\n",
       "</div>\n",
       "      <button class=\"colab-df-convert\" onclick=\"convertToInteractive('df-6d786f99-2e49-4f13-acfc-9b5029279f7c')\"\n",
       "              title=\"Convert this dataframe to an interactive table.\"\n",
       "              style=\"display:none;\">\n",
       "        \n",
       "  <svg xmlns=\"http://www.w3.org/2000/svg\" height=\"24px\"viewBox=\"0 0 24 24\"\n",
       "       width=\"24px\">\n",
       "    <path d=\"M0 0h24v24H0V0z\" fill=\"none\"/>\n",
       "    <path d=\"M18.56 5.44l.94 2.06.94-2.06 2.06-.94-2.06-.94-.94-2.06-.94 2.06-2.06.94zm-11 1L8.5 8.5l.94-2.06 2.06-.94-2.06-.94L8.5 2.5l-.94 2.06-2.06.94zm10 10l.94 2.06.94-2.06 2.06-.94-2.06-.94-.94-2.06-.94 2.06-2.06.94z\"/><path d=\"M17.41 7.96l-1.37-1.37c-.4-.4-.92-.59-1.43-.59-.52 0-1.04.2-1.43.59L10.3 9.45l-7.72 7.72c-.78.78-.78 2.05 0 2.83L4 21.41c.39.39.9.59 1.41.59.51 0 1.02-.2 1.41-.59l7.78-7.78 2.81-2.81c.8-.78.8-2.07 0-2.86zM5.41 20L4 18.59l7.72-7.72 1.47 1.35L5.41 20z\"/>\n",
       "  </svg>\n",
       "      </button>\n",
       "      \n",
       "  <style>\n",
       "    .colab-df-container {\n",
       "      display:flex;\n",
       "      flex-wrap:wrap;\n",
       "      gap: 12px;\n",
       "    }\n",
       "\n",
       "    .colab-df-convert {\n",
       "      background-color: #E8F0FE;\n",
       "      border: none;\n",
       "      border-radius: 50%;\n",
       "      cursor: pointer;\n",
       "      display: none;\n",
       "      fill: #1967D2;\n",
       "      height: 32px;\n",
       "      padding: 0 0 0 0;\n",
       "      width: 32px;\n",
       "    }\n",
       "\n",
       "    .colab-df-convert:hover {\n",
       "      background-color: #E2EBFA;\n",
       "      box-shadow: 0px 1px 2px rgba(60, 64, 67, 0.3), 0px 1px 3px 1px rgba(60, 64, 67, 0.15);\n",
       "      fill: #174EA6;\n",
       "    }\n",
       "\n",
       "    [theme=dark] .colab-df-convert {\n",
       "      background-color: #3B4455;\n",
       "      fill: #D2E3FC;\n",
       "    }\n",
       "\n",
       "    [theme=dark] .colab-df-convert:hover {\n",
       "      background-color: #434B5C;\n",
       "      box-shadow: 0px 1px 3px 1px rgba(0, 0, 0, 0.15);\n",
       "      filter: drop-shadow(0px 1px 2px rgba(0, 0, 0, 0.3));\n",
       "      fill: #FFFFFF;\n",
       "    }\n",
       "  </style>\n",
       "\n",
       "      <script>\n",
       "        const buttonEl =\n",
       "          document.querySelector('#df-6d786f99-2e49-4f13-acfc-9b5029279f7c button.colab-df-convert');\n",
       "        buttonEl.style.display =\n",
       "          google.colab.kernel.accessAllowed ? 'block' : 'none';\n",
       "\n",
       "        async function convertToInteractive(key) {\n",
       "          const element = document.querySelector('#df-6d786f99-2e49-4f13-acfc-9b5029279f7c');\n",
       "          const dataTable =\n",
       "            await google.colab.kernel.invokeFunction('convertToInteractive',\n",
       "                                                     [key], {});\n",
       "          if (!dataTable) return;\n",
       "\n",
       "          const docLinkHtml = 'Like what you see? Visit the ' +\n",
       "            '<a target=\"_blank\" href=https://colab.research.google.com/notebooks/data_table.ipynb>data table notebook</a>'\n",
       "            + ' to learn more about interactive tables.';\n",
       "          element.innerHTML = '';\n",
       "          dataTable['output_type'] = 'display_data';\n",
       "          await google.colab.output.renderOutput(dataTable, element);\n",
       "          const docLink = document.createElement('div');\n",
       "          docLink.innerHTML = docLinkHtml;\n",
       "          element.appendChild(docLink);\n",
       "        }\n",
       "      </script>\n",
       "    </div>\n",
       "  </div>\n",
       "  "
      ],
      "text/plain": [
       "   GRE Score  TOEFL Score  University Rating  ...      LOR       CGPA  Research\n",
       "0   0.457111     0.424662          -0.057308  ... -1.059652  0.139866  0.927613\n",
       "1   0.102289     0.424662          -0.057308  ... -0.501940  0.361100 -1.078036\n",
       "2   2.053813     2.085930           1.689221  ...  1.171194  2.250095  0.927613\n",
       "3   0.279700    -0.572099          -0.057308  ... -1.059652 -0.030313  0.927613\n",
       "4  -0.163828    -1.236607          -1.803837  ... -1.059652 -1.085428 -1.078036\n",
       "\n",
       "[5 rows x 7 columns]"
      ]
     },
     "execution_count": 114,
     "metadata": {},
     "output_type": "execute_result"
    }
   ],
   "source": [
    "x_train,x_test,y_train,y_test = train_test_split(x,y,test_size=0.2, random_state=42)\n",
    "\n",
    "# Create our scaler\n",
    "scaler = StandardScaler()\n",
    "\n",
    "# First, we want to fit our scaler to our training data and subsequently transform\n",
    "# that training data through our scaler. This can all be done in a single command.\n",
    "x_train_scaled = scaler.fit_transform(x_train)\n",
    "\n",
    "# Next, we want to transform the test features by using the parameters learned \n",
    "# from the training set\n",
    "x_test_scaled = scaler.transform(x_test)\n",
    "\n",
    "# Notice the values are now standardized\n",
    "columns = x.columns\n",
    "x_train_scaled_df = pd.DataFrame(x_train_scaled, columns = columns)\n",
    "x_train_scaled_df.head()"
   ]
  },
  {
   "cell_type": "markdown",
   "metadata": {
    "id": "c2_6EzVLFV_u"
   },
   "source": [
    "**Important Question:** Why is it important that we split our data before scaling and not after?"
   ]
  },
  {
   "cell_type": "code",
   "execution_count": null,
   "metadata": {
    "colab": {
     "base_uri": "https://localhost:8080/"
    },
    "executionInfo": {
     "elapsed": 153,
     "status": "ok",
     "timestamp": 1643855068575,
     "user": {
      "displayName": "Aadith Kumar",
      "photoUrl": "https://lh3.googleusercontent.com/a/default-user=s64",
      "userId": "11426293986469859189"
     },
     "user_tz": 300
    },
    "id": "pp6c0-le4VpS",
    "outputId": "49017fea-9c97-46f6-9b41-2f7ab830bba2"
   },
   "outputs": [
    {
     "name": "stdout",
     "output_type": "stream",
     "text": [
      "R2 of linear regression on test set with standardized features: 0.821\n"
     ]
    }
   ],
   "source": [
    "# fitting the linear regression model over our standardized data\n",
    "\n",
    "lr_std = LinearRegression()\n",
    "lr_std.fit(x_train_scaled,y_train)\n",
    "y_pred_scale = lr_std.predict(x_test_scaled)\n",
    "print('R2 of linear regression on test set with standardized features: {:.3f}'.format(lr_std.score(x_test_scaled, y_test)))\n"
   ]
  },
  {
   "cell_type": "markdown",
   "metadata": {
    "id": "yxbxXYesDxlb"
   },
   "source": [
    "Note: standardization is not the only way to scale data! Different scalers can be more applicable to different distributions, and we encourage you to read up on the documentation [here](https://scikit-learn.org/stable/modules/preprocessing.html#standardization-or-mean-removal-and-variance-scaling)"
   ]
  },
  {
   "cell_type": "markdown",
   "metadata": {
    "id": "GcAMFr1QGZfs"
   },
   "source": [
    "### Pipelines and Grid-search\n",
    "In general, we may often require data to go through a series of transformation (like the standard scaling we did above), and it is useful to integrate all those transforms into a 'pipeline'. These pipelines contain a set of transforms and an estimator at the end (like Sklearn's LinearRegression() estimator). \n",
    "\n",
    "Thus, by incorporating multiple transforms into a pipeline, we do not need to call the fit and transform functions for each of the transformation instances. It also allows us to treat the system as a unit and perform more complex functions like grid-search on them more easily! \n",
    "\n",
    "Moreover, if you were to perform cross-validation on X_train after processing, then when X_train is split into validation and training sets, the train sets in each of these folds will contain some information about the test as the standardization was done accounting for the entire X_train. Using a pipeline will not have this limitation.\n",
    "\n",
    "\n",
    "In the example below we will create a pipeline which does scaling and then fits the model to a Linear Regression estimator, and then performs gridsearch over some aritrary set of hyper-parameter values!"
   ]
  },
  {
   "cell_type": "code",
   "execution_count": null,
   "metadata": {
    "id": "3qILc1-3Ap6q"
   },
   "outputs": [],
   "source": []
  },
  {
   "cell_type": "code",
   "execution_count": null,
   "metadata": {
    "colab": {
     "base_uri": "https://localhost:8080/"
    },
    "executionInfo": {
     "elapsed": 157,
     "status": "ok",
     "timestamp": 1643849914245,
     "user": {
      "displayName": "Aadith Kumar",
      "photoUrl": "https://lh3.googleusercontent.com/a/default-user=s64",
      "userId": "11426293986469859189"
     },
     "user_tz": 300
    },
    "id": "lTOTfi7HGY5D",
    "outputId": "eb1c853e-0aa2-43a0-a593-b1b0f28b5a89"
   },
   "outputs": [
    {
     "data": {
      "text/plain": [
       "Pipeline(steps=[('standardscaler', StandardScaler()),\n",
       "                ('linearregression', LinearRegression())])"
      ]
     },
     "execution_count": 59,
     "metadata": {},
     "output_type": "execute_result"
    }
   ],
   "source": [
    "from sklearn.pipeline import make_pipeline\n",
    "\n",
    "# First we can use the make_pipeline( <transformations> ) function to create a pipeline\n",
    "pipeline = make_pipeline(StandardScaler(), LinearRegression()) # define the pipeline object. Note: the last in the list has to be an estimator (like DecisionTreeClassifier or LinearRegression).\n",
    "\n",
    "#Now this pipeline can be used like any estimator - it will have the fit, predict, score functions along with many more. \n",
    "pipeline.fit(x_train, y_train)\n"
   ]
  },
  {
   "cell_type": "code",
   "execution_count": null,
   "metadata": {
    "colab": {
     "base_uri": "https://localhost:8080/"
    },
    "executionInfo": {
     "elapsed": 304,
     "status": "ok",
     "timestamp": 1643855201185,
     "user": {
      "displayName": "Aadith Kumar",
      "photoUrl": "https://lh3.googleusercontent.com/a/default-user=s64",
      "userId": "11426293986469859189"
     },
     "user_tz": 300
    },
    "id": "4s74XmV5NE4B",
    "outputId": "5428d8eb-76fd-4467-9ed7-b2e5705baa8b"
   },
   "outputs": [
    {
     "name": "stdout",
     "output_type": "stream",
     "text": [
      "R2 of linear regression on test set with standardized features: 0.821\n"
     ]
    }
   ],
   "source": [
    "#we can get y_pred the same way as before\n",
    "y_pred=pipeline.predict(x_test)\n",
    "\n",
    "# Scoring function is also the same as before\n",
    "score = pipeline.score(x_test,y_test)\n",
    "print('R2 of linear regression on test set with standardized features: {:.3f}'.format(score))"
   ]
  },
  {
   "cell_type": "markdown",
   "metadata": {
    "id": "9H2Etm9NOBIF"
   },
   "source": [
    "As you can see, this is the same as what we did manually above, but more stream-lined and easier!"
   ]
  },
  {
   "cell_type": "markdown",
   "metadata": {
    "id": "aoNUmUk7IePw"
   },
   "source": [
    "## Polynomial Regression"
   ]
  },
  {
   "cell_type": "markdown",
   "metadata": {
    "id": "2z5wkS22IlpV"
   },
   "source": [
    "Sometimes, a linear trend simply doesn't describe our relationship. In those cases, it helps to use basis expansion to create a polynomial regression. Let's start with some made-up data that demonstrates our point. \n",
    "\n",
    "Note: we're just going to show how our trends fit our underlying data, so we won't be splitting this one or trying to predict unseen data. We'll do that in the next section on L2 Regularization"
   ]
  },
  {
   "cell_type": "code",
   "execution_count": null,
   "metadata": {
    "colab": {
     "base_uri": "https://localhost:8080/",
     "height": 358
    },
    "executionInfo": {
     "elapsed": 417,
     "status": "ok",
     "timestamp": 1643855210959,
     "user": {
      "displayName": "Aadith Kumar",
      "photoUrl": "https://lh3.googleusercontent.com/a/default-user=s64",
      "userId": "11426293986469859189"
     },
     "user_tz": 300
    },
    "id": "qJBgKi8GIiEh",
    "outputId": "aa703766-8e8c-40eb-89dc-2af18d84c267"
   },
   "outputs": [
    {
     "data": {
      "text/plain": [
       "Text(0, 0.5, 'Y')"
      ]
     },
     "execution_count": 118,
     "metadata": {},
     "output_type": "execute_result"
    },
    {
     "data": {
      "image/png": "[encoded data removed]",
      "text/plain": [
       "<Figure size 720x360 with 1 Axes>"
      ]
     },
     "metadata": {
      "needs_background": "light"
     },
     "output_type": "display_data"
    }
   ],
   "source": [
    "# create a dataset with 2nd degree polynomial relationship\n",
    "np.random.seed(42)\n",
    "x=10*np.random.normal(0,1,50)\n",
    "y= 5*(x**2)+ np.random.normal(-50,50,50)\n",
    "\n",
    "# Plot it!\n",
    "plt.figure(figsize=(10,5))\n",
    "plt.scatter(x,y)\n",
    "plt.xlabel('X')\n",
    "plt.ylabel('Y')"
   ]
  },
  {
   "cell_type": "code",
   "execution_count": null,
   "metadata": {
    "colab": {
     "base_uri": "https://localhost:8080/",
     "height": 377
    },
    "executionInfo": {
     "elapsed": 413,
     "status": "ok",
     "timestamp": 1643855218418,
     "user": {
      "displayName": "Aadith Kumar",
      "photoUrl": "https://lh3.googleusercontent.com/a/default-user=s64",
      "userId": "11426293986469859189"
     },
     "user_tz": 300
    },
    "id": "HtLIWdyYKWO7",
    "outputId": "9953ee3d-1804-4541-a4cc-7c1037d06f7a"
   },
   "outputs": [
    {
     "name": "stdout",
     "output_type": "stream",
     "text": [
      "R2: 0.0706116810583789\n"
     ]
    },
    {
     "data": {
      "text/plain": [
       "[<matplotlib.lines.Line2D at 0x7f767c163450>]"
      ]
     },
     "execution_count": 119,
     "metadata": {},
     "output_type": "execute_result"
    },
    {
     "data": {
      "image/png": "[encoded data removed]",
      "text/plain": [
       "<Figure size 720x360 with 1 Axes>"
      ]
     },
     "metadata": {
      "needs_background": "light"
     },
     "output_type": "display_data"
    }
   ],
   "source": [
    "from sklearn.linear_model import LinearRegression\n",
    "from sklearn import metrics\n",
    "\n",
    "# Create a linear regression to fit the data\n",
    "lr = LinearRegression()\n",
    "# Note: we reshape x and y into 2d arrays to fit sklearn's LinearRegression \n",
    "# format, but the data is essentially the same\n",
    "lr.fit(x.reshape(-1,1),y.reshape(-1,1))\n",
    "y_preds = lr.predict(x.reshape(-1,1))\n",
    "print(f'R2: {lr.score(x.reshape(-1,1),y.reshape(-1,1))}')\n",
    "\n",
    "# Plot the regression line against the data\n",
    "plt.figure(figsize=(10,5))\n",
    "plt.scatter(x,y)\n",
    "plt.xlabel('X')\n",
    "plt.ylabel('Y')\n",
    "\n",
    "plt.plot(x,y_preds, color = 'g')"
   ]
  },
  {
   "cell_type": "markdown",
   "metadata": {
    "id": "pErgqLGLMM5F"
   },
   "source": [
    "Clearly, our linear trend is not accounting for the actual relationship. Now let's try a polynomial one.\n",
    "\n",
    "We aim to fit a polynomial regression of degree 2. We achieve this by generating the polynomial features of degree 2 from the original set of features. For example, if the original features are [$x_{1}, x_{2}, x_{3}$], the transformed features would be [$x_{1}, x_{2}, x_{3}, x_{1}^2, x_{1}x_{2}, x_{1}x_{3}, x_{2}^2,  x_{2}x_{3}, x_{3}^2$].\n",
    "\n",
    "In sklearn, we can go about this by using a PolynomialFeatures transformer"
   ]
  },
  {
   "cell_type": "code",
   "execution_count": null,
   "metadata": {
    "colab": {
     "base_uri": "https://localhost:8080/",
     "height": 395
    },
    "executionInfo": {
     "elapsed": 365,
     "status": "ok",
     "timestamp": 1643855308441,
     "user": {
      "displayName": "Aadith Kumar",
      "photoUrl": "https://lh3.googleusercontent.com/a/default-user=s64",
      "userId": "11426293986469859189"
     },
     "user_tz": 300
    },
    "id": "zZwBGJLmMYnH",
    "outputId": "ae27ca8a-828b-478f-c5bc-3d74d693211c"
   },
   "outputs": [
    {
     "name": "stdout",
     "output_type": "stream",
     "text": [
      "Linear_R2: 0.0706116810583789\n",
      "Polynomial_R2: 0.9938444986968292\n"
     ]
    },
    {
     "data": {
      "text/plain": [
       "[<matplotlib.lines.Line2D at 0x7f767c0e9610>]"
      ]
     },
     "execution_count": 120,
     "metadata": {},
     "output_type": "execute_result"
    },
    {
     "data": {
      "image/png": "[encoded data removed]",
      "text/plain": [
       "<Figure size 720x360 with 1 Axes>"
      ]
     },
     "metadata": {
      "needs_background": "light"
     },
     "output_type": "display_data"
    }
   ],
   "source": [
    "from sklearn.preprocessing import PolynomialFeatures\n",
    "\n",
    "# We create a \"polynomial transformer\" that transforms the original set of features into polynomial features\n",
    "poly_transform = PolynomialFeatures(degree=2, include_bias=False)\n",
    "\n",
    "# Now fit the transformer and use it to transform our data\n",
    "x_poly = poly_transform.fit_transform(x.reshape(-1,1))\n",
    "\n",
    "# Now we simply fit a linear regression to our transformed data\n",
    "model = LinearRegression()\n",
    "model.fit(x_poly, y.reshape(-1,1))\n",
    "poly_preds = model.predict(x_poly)\n",
    "\n",
    "# Print our two models' R2 scores\n",
    "print(f'Linear_R2: {lr.score(x.reshape(-1,1),y.reshape(-1,1))}')\n",
    "print(f'Polynomial_R2: {model.score(x_poly,y.reshape(-1,1))}')\n",
    "\n",
    "# Plot both lines against the data\n",
    "plt.figure(figsize=(10,5))\n",
    "plt.scatter(x,y)\n",
    "plt.xlabel('X')\n",
    "plt.ylabel('Y')\n",
    "\n",
    "plt.plot(x,y_preds, color = 'g')\n",
    "\n",
    "# sort our predicted values with respect to x so our trend shows correctly\n",
    "sorted_zip = sorted(zip(x,poly_preds))\n",
    "x_poly, poly_preds = zip(*sorted_zip)\n",
    "\n",
    "plt.plot(x_poly,poly_preds, color = 'r')"
   ]
  },
  {
   "cell_type": "markdown",
   "metadata": {
    "id": "RXPJ52JiRH2c"
   },
   "source": [
    "What do you know? This seems to fit the underlying data much more closely!"
   ]
  },
  {
   "cell_type": "markdown",
   "metadata": {
    "id": "vNYC_vaC2Av-"
   },
   "source": [
    "## $L_{2}$ Regularization"
   ]
  },
  {
   "cell_type": "markdown",
   "metadata": {
    "id": "PflEo2eHdKql"
   },
   "source": [
    "The objective function that has to be minimized in $L_{2}$ regularization (or) ridge regression is:\n",
    "\n",
    "> $L(\\theta) = \\frac{1}{N} \\sum_{i=1}^{N} (h_{\\theta}(x_{i}) - y_{i})^2 + \\lambda \\sum_{j=1}^{D} \\theta_{j}^2$\n",
    "\n",
    "$\\lambda$ is the regularization hyperparameter and it is non-negative.\n",
    "\n",
    "We shall be using the diabetes dataset from scikit-learn for illustrating ridge regression.\n"
   ]
  },
  {
   "cell_type": "code",
   "execution_count": null,
   "metadata": {
    "id": "pfkrH3xv2K9X"
   },
   "outputs": [],
   "source": [
    "# Required imports\n",
    "\n",
    "import matplotlib.pyplot as plt\n",
    "\n",
    "import numpy as np\n",
    "\n",
    "from sklearn.datasets import load_diabetes\n",
    "from sklearn.linear_model import Ridge\n",
    "from sklearn.model_selection import train_test_split\n",
    "from sklearn.preprocessing import PolynomialFeatures, StandardScaler"
   ]
  },
  {
   "cell_type": "code",
   "execution_count": null,
   "metadata": {
    "id": "wIjIERX93mKh"
   },
   "outputs": [],
   "source": [
    "# Load the dataset and split it into train and test sets \n",
    "\n",
    "diabetes = load_diabetes()\n",
    "\n",
    "X = diabetes[\"data\"]\n",
    "y = diabetes[\"target\"]\n",
    "\n",
    "X_train, X_test, y_train, y_test = train_test_split(X, y, test_size=0.20, random_state=0)"
   ]
  },
  {
   "cell_type": "markdown",
   "metadata": {
    "id": "p5X3o4dRhDUx"
   },
   "source": [
    "We aim to fit a polynomial model of degree 2 with regularization hyperparameter ($\\lambda$) as 1000. \n",
    "\n",
    "We achieve this using the following sequence of steps:\n",
    "\n",
    "1. As we just explained above, generate the polynomial features of degree 2 from the original set of features. Reiterating the above example for convenience, if the original features are [$x_{1}, x_{2}, x_{3}$], the transformed features would be [$x_{1}, x_{2}, x_{3}, x_{1}^2, x_{1}x_{2}, x_{1}x_{3}, x_{2}^2,  x_{2}x_{3}, x_{3}^2$].\n",
    "\n",
    "2. Scale the polynomial features using standard scaling (subtracting by mean and dividing by standard deviation). Feature scaling is a mandatory step for ridge regression.\n",
    "\n",
    "3. Fit the ridge regression model with $\\lambda$ as 1000.\n",
    "\n"
   ]
  },
  {
   "cell_type": "code",
   "execution_count": null,
   "metadata": {
    "colab": {
     "base_uri": "https://localhost:8080/"
    },
    "executionInfo": {
     "elapsed": 153,
     "status": "ok",
     "timestamp": 1643855384060,
     "user": {
      "displayName": "Aadith Kumar",
      "photoUrl": "https://lh3.googleusercontent.com/a/default-user=s64",
      "userId": "11426293986469859189"
     },
     "user_tz": 300
    },
    "id": "BxSL_JkNi4ou",
    "outputId": "1aca8aa5-bd2e-466f-f1aa-027dff3537f8"
   },
   "outputs": [
    {
     "name": "stdout",
     "output_type": "stream",
     "text": [
      "Train set RMSE: 59.292\n",
      "Test set RMSE: 60.6281\n"
     ]
    }
   ],
   "source": [
    "# Step 1: Polynomial Features Generation\n",
    "\n",
    "# As in the previous section, create a \"polynomial transformer\" that transforms the original set of features into polynomial features\n",
    "poly_transform = PolynomialFeatures(degree=2, include_bias=False)\n",
    "\n",
    "# remember to transform the test data using the transformer fit to the train data!\n",
    "X_train_poly = poly_transform.fit_transform(X_train)\n",
    "X_test_poly = poly_transform.transform(X_test)\n",
    "\n",
    "# Step 2: Feature Scaling\n",
    "\n",
    "scaler = StandardScaler()\n",
    "X_train_poly_scaled = scaler.fit_transform(X_train_poly)\n",
    "\n",
    "# Important: We fit the scaler to the training set and use it to transform the test set features \n",
    "X_test_poly_scaled = scaler.transform(X_test_poly)\n",
    "\n",
    "# Step 3: Ridge Regression Fit\n",
    "\n",
    "# Note: alpha is the regularization hyperparameter value\n",
    "model = Ridge(alpha=1e3, random_state=0)\n",
    "\n",
    "model.fit(X_train_poly_scaled, y_train)\n",
    "\n",
    "# Accuracy on train set\n",
    "y_train_pred = model.predict(X_train_poly_scaled)\n",
    "train_rmse = np.mean((y_train - y_train_pred)**2)**0.5\n",
    "print(\"Train set RMSE:\", round(train_rmse, 4))\n",
    "\n",
    "# Accuracy on test set\n",
    "y_test_pred = model.predict(X_test_poly_scaled)\n",
    "test_rmse = np.mean((y_test - y_test_pred)**2)**0.5\n",
    "print(\"Test set RMSE:\", round(test_rmse, 4))"
   ]
  },
  {
   "cell_type": "markdown",
   "metadata": {
    "id": "ocrEyp3XsjJG"
   },
   "source": [
    "## Effect of regularization hyperparameter on model accuracy\n",
    "\n",
    "We shall now vary the value of $\\lambda$ and analyze the accuracy of the fit model on both train and test sets."
   ]
  },
  {
   "cell_type": "code",
   "execution_count": null,
   "metadata": {
    "id": "ocmNBRegCa37"
   },
   "outputs": [],
   "source": [
    "# Creating arrays to store rmse values\n",
    "train_rmse_arr = np.array([])\n",
    "test_rmse_arr = np.array([])\n",
    "\n",
    "# The lambda values we will use\n",
    "alphas = [10**i for i in range(-6, 7)]\n",
    "\n",
    "# For each lambda, we create a new model and store both the training and\n",
    "# test accuracies in their respective arrays\n",
    "for alpha in alphas:\n",
    "\n",
    "  model = Ridge(alpha=alpha, random_state=0)\n",
    "  model.fit(X_train_poly_scaled, y_train)         \n",
    "\n",
    "  y_train_pred = model.predict(X_train_poly_scaled)\n",
    "\n",
    "  train_rmse = np.mean((y_train - y_train_pred)**2)**0.5\n",
    "\n",
    "  train_rmse_arr = np.append(train_rmse_arr, [train_rmse])\n",
    "\n",
    "  y_test_pred = model.predict(X_test_poly_scaled)\n",
    "\n",
    "  test_rmse = np.mean((y_test - y_test_pred)**2)**0.5\n",
    "\n",
    "  test_rmse_arr = np.append(test_rmse_arr, [test_rmse])"
   ]
  },
  {
   "cell_type": "code",
   "execution_count": null,
   "metadata": {
    "colab": {
     "base_uri": "https://localhost:8080/",
     "height": 326
    },
    "executionInfo": {
     "elapsed": 630,
     "status": "ok",
     "timestamp": 1643855401494,
     "user": {
      "displayName": "Aadith Kumar",
      "photoUrl": "https://lh3.googleusercontent.com/a/default-user=s64",
      "userId": "11426293986469859189"
     },
     "user_tz": 300
    },
    "id": "ulKrlxvtGrQ0",
    "outputId": "04e0d61e-07e8-4079-f10d-2a2928688300"
   },
   "outputs": [
    {
     "data": {
      "text/plain": [
       "<matplotlib.legend.Legend at 0x7f767c212150>"
      ]
     },
     "execution_count": 125,
     "metadata": {},
     "output_type": "execute_result"
    },
    {
     "data": {
      "image/png": "[encoded data removed]",
      "text/plain": [
       "<Figure size 432x288 with 1 Axes>"
      ]
     },
     "metadata": {
      "needs_background": "light"
     },
     "output_type": "display_data"
    }
   ],
   "source": [
    "plt.rcParams.update({'font.size': 12})\n",
    "\n",
    "x_axis_range = np.arange(-6, 7)\n",
    "\n",
    "plt.plot(x_axis_range, train_rmse_arr, label=\"Train set RMSE\")\n",
    "plt.plot(x_axis_range, test_rmse_arr, label=\"Test set RMSE\")\n",
    "plt.title(\"Variation of ridge regression model accuracy with $\\lambda$\")\n",
    "plt.xlabel(\"$log_{10}(\\lambda)$\")\n",
    "plt.ylabel(\"Root Mean Square Error (RMSE)\")\n",
    "plt.legend()"
   ]
  },
  {
   "cell_type": "markdown",
   "metadata": {
    "id": "8yHF0AGmveaa"
   },
   "source": [
    "**Exercise:** Explain the reason behind the trends in the above plot."
   ]
  },
  {
   "cell_type": "markdown",
   "metadata": {
    "id": "dzobb47WUcWf"
   },
   "source": [
    "####Hyper-Parameter Selection using Grid-Search\n",
    "\n",
    "In the above program, we have taken an arbitrary 'alpha' value(regularization strength - lambda is the symbol used in class), and then plotted performance for a range of values.\n",
    "\n",
    "But there is a function that will help us choose parameter values (even for multiple different parameters using grid-search. )\n",
    "\n",
    "\n",
    "First let us make a pipeline for Ridge Regression!\n",
    "\n",
    "\n"
   ]
  },
  {
   "cell_type": "code",
   "execution_count": null,
   "metadata": {
    "colab": {
     "base_uri": "https://localhost:8080/"
    },
    "executionInfo": {
     "elapsed": 139,
     "status": "ok",
     "timestamp": 1643855515025,
     "user": {
      "displayName": "Aadith Kumar",
      "photoUrl": "https://lh3.googleusercontent.com/a/default-user=s64",
      "userId": "11426293986469859189"
     },
     "user_tz": 300
    },
    "id": "aMafhbTmUWBR",
    "outputId": "00f44971-7ff2-4341-bd20-da0234519876"
   },
   "outputs": [
    {
     "name": "stdout",
     "output_type": "stream",
     "text": [
      "Train set RMSE: 59.292\n"
     ]
    }
   ],
   "source": [
    "from sklearn.model_selection import GridSearchCV\n",
    "X = diabetes[\"data\"]\n",
    "y = diabetes[\"target\"]\n",
    "\n",
    "X_train, X_test, y_train, y_test = train_test_split(X, y, test_size=0.20, random_state=0)\n",
    "\n",
    "#Make a pipeline with all the transformations : polynomial basis transformation is also a transformation in the pipeline\n",
    "ridge_pipeline  = make_pipeline(PolynomialFeatures(degree=2, include_bias=False), StandardScaler(), Ridge(alpha=1e3, random_state=0) )\n",
    "ridge_pipeline.fit(X_train,y_train)\n",
    "\n",
    "\n",
    "# See that we get the same performance\n",
    "y_train_pred = ridge_pipeline.predict(X_train)\n",
    "train_rmse = np.mean((y_train - y_train_pred)**2)**0.5\n",
    "print(\"Train set RMSE:\", round(train_rmse, 4))"
   ]
  },
  {
   "cell_type": "code",
   "execution_count": null,
   "metadata": {
    "colab": {
     "base_uri": "https://localhost:8080/"
    },
    "executionInfo": {
     "elapsed": 508,
     "status": "ok",
     "timestamp": 1643850328789,
     "user": {
      "displayName": "Aadith Kumar",
      "photoUrl": "https://lh3.googleusercontent.com/a/default-user=s64",
      "userId": "11426293986469859189"
     },
     "user_tz": 300
    },
    "id": "C3yubVJhvrXi",
    "outputId": "9bb773fe-676e-4bb7-b8f6-efa952a030f2"
   },
   "outputs": [
    {
     "data": {
      "text/plain": [
       "{'ridge__alpha': 100}"
      ]
     },
     "execution_count": 70,
     "metadata": {},
     "output_type": "execute_result"
    }
   ],
   "source": [
    "#Now let us define our grid - or the values we want to test performance for. \n",
    "#The parameter for an estimator should be labelled as <estimator_name><2 underscores><parameter_name>\n",
    "params = {'ridge__alpha':[1,10,100,200,400,800,1000]}\n",
    "\n",
    "\n",
    "#We create a gridsearch instance, with the desired pipeline to search on!\n",
    "grid = GridSearchCV(ridge_pipeline, param_grid=params, cv=5)\n",
    "\n",
    "#Train on all the values\n",
    "grid.fit(X_train,y_train)\n",
    "\n",
    "#We can get the best paramter values (which we can verify using the graph above - least test error at approximately log(lambda) = 2, which is around 100)\n",
    "grid.best_params_"
   ]
  },
  {
   "cell_type": "markdown",
   "metadata": {
    "id": "hlrAYE09UDUF"
   },
   "source": [
    "##**References**\n",
    "\n",
    "[1]: `scikit-learn` Linear Regression Example: https://scikit-learn.org/stable/auto_examples/linear_model/plot_ols.html"
   ]
  },
  {
   "cell_type": "code",
   "execution_count": null,
   "metadata": {
    "id": "UXcPfwqscJUs"
   },
   "outputs": [],
   "source": []
  }
 ],
 "metadata": {
  "colab": {
   "provenance": []
  },
  "kernelspec": {
   "display_name": "Python 3",
   "name": "python3"
  }
 },
 "nbformat": 4,
 "nbformat_minor": 0
}
