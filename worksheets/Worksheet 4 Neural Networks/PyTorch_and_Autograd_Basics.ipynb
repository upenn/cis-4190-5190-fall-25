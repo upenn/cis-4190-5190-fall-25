{
 "cells": [
  {
   "cell_type": "markdown",
   "metadata": {
    "id": "hGrwUfxhcZCe"
   },
   "source": [
    "# **CIS 419/519**\n",
    "## PyTorch Autograd Basics\n",
    "\n",
    "\n",
    "\n"
   ]
  },
  {
   "cell_type": "markdown",
   "metadata": {
    "id": "To2_ihcAKctB"
   },
   "source": [
    "In this tutorial, we will cover:\n",
    "\n",
    "*  [PyTorch](https://pytorch.org/tutorials/beginner/blitz/tensor_tutorial.html)\n",
    "*  [Autograd](https://pytorch.org/tutorials/beginner/blitz/autograd_tutorial.html#sphx-glr-beginner-blitz-autograd-tutorial-py): Automatic Differentiation \n"
   ]
  },
  {
   "cell_type": "markdown",
   "metadata": {
    "id": "iVDsklx0M0Rf"
   },
   "source": [
    "\n",
    "\n",
    " \n",
    "**Note**: Remember to change Runtime type to GPU Hardware accelerated for leveraging GPU resources.\n",
    "```\n",
    "> Runtime > Change runtime type > Hardware accelerator > Select GPU\n",
    "```"
   ]
  },
  {
   "cell_type": "markdown",
   "metadata": {
    "id": "nYYGhYnW_LLX"
   },
   "source": [
    "\n",
    "What is PyTorch?\n",
    "================\n",
    "\n",
    "It’s a Python-based scientific computing package targeted at two sets of\n",
    "audiences:\n",
    "\n",
    "-  A replacement for NumPy to use the power of GPUs\n",
    "-  A deep learning platform that provides maximum flexibility\n",
    "   and speed\n",
    "\n",
    "At its core, PyTorch provides a few key features:\n",
    "\n",
    "- A multidimensional **Tensor** object, similar to [numpy](https://numpy.org/) but with GPU acceleration.\n",
    "- An optimized **autograd** engine for automatically computing derivatives\n",
    "- A clean, modular API for building and deploying **deep learning models**\n",
    "\n",
    "You can find more information about PyTorch by following one of the [official tutorials](https://pytorch.org/tutorials/) or by [reading the documentation](https://pytorch.org/docs/1.1.0/).\n",
    "\n",
    "\n"
   ]
  },
  {
   "cell_type": "markdown",
   "metadata": {
    "id": "iQm9fJZRWGfT"
   },
   "source": [
    "\n",
    "Getting Started\n",
    "---------------\n",
    "\n",
    "###Tensors\n",
    "\n",
    "Tensors are similar to NumPy’s ndarrays.\n"
   ]
  },
  {
   "cell_type": "code",
   "execution_count": null,
   "metadata": {
    "id": "_nuxuebR_LLY"
   },
   "outputs": [],
   "source": [
    "import torch"
   ]
  },
  {
   "cell_type": "markdown",
   "metadata": {
    "id": "F1sXjie2_LLa"
   },
   "source": [
    "Construct a 5x3 matrix, uninitialized:\n",
    "\n"
   ]
  },
  {
   "cell_type": "code",
   "execution_count": null,
   "metadata": {
    "id": "owPTQ-_i_LLc"
   },
   "outputs": [],
   "source": [
    "x = torch.empty(5, 3)\n",
    "print(x)"
   ]
  },
  {
   "cell_type": "markdown",
   "metadata": {
    "id": "wSm5Q3Kk_LLe"
   },
   "source": [
    "Construct a randomly initialized matrix:\n",
    "\n"
   ]
  },
  {
   "cell_type": "code",
   "execution_count": null,
   "metadata": {
    "id": "YUSbJtCp_LLf"
   },
   "outputs": [],
   "source": [
    "x = torch.rand(5, 3)\n",
    "print(x)"
   ]
  },
  {
   "cell_type": "markdown",
   "metadata": {
    "id": "KtmvilDg_LLh"
   },
   "source": [
    "Construct a matrix filled with zeros and of dtype long:\n",
    "\n"
   ]
  },
  {
   "cell_type": "code",
   "execution_count": null,
   "metadata": {
    "id": "2nKUNNBA_LLh"
   },
   "outputs": [],
   "source": [
    "x = torch.zeros(5, 3, dtype=torch.long)\n",
    "print(x)"
   ]
  },
  {
   "cell_type": "markdown",
   "metadata": {
    "id": "bDxsatUX_LLj"
   },
   "source": [
    "Construct a tensor directly from data:\n",
    "\n"
   ]
  },
  {
   "cell_type": "code",
   "execution_count": null,
   "metadata": {
    "id": "1dGnsDNx_LLk"
   },
   "outputs": [],
   "source": [
    "x = torch.tensor([5.5, 3])\n",
    "print(x)"
   ]
  },
  {
   "cell_type": "markdown",
   "metadata": {
    "id": "BB75YoSV_LLl"
   },
   "source": [
    "or create a tensor based on an existing tensor. These methods  \n",
    "will reuse properties of the input tensor, e.g. dtype, unless  \n",
    "new values are provided by the user.\n",
    "\n"
   ]
  },
  {
   "cell_type": "code",
   "execution_count": null,
   "metadata": {
    "id": "u0RaDsNl_LLm"
   },
   "outputs": [],
   "source": [
    "x = x.new_ones(5, 3, dtype=torch.double)      # new_* methods take in sizes\n",
    "print(x)\n",
    "\n",
    "x = torch.randn_like(x, dtype=torch.float)    # override dtype!\n",
    "print(x)                                      # result has the same size"
   ]
  },
  {
   "cell_type": "markdown",
   "metadata": {
    "id": "oZ6a_Gq__LLo"
   },
   "source": [
    "Get its size.   \n",
    "**Note**: torch.Size is a tuple, so it supports all tuple operations.\n",
    "\n",
    "\n"
   ]
  },
  {
   "cell_type": "code",
   "execution_count": null,
   "metadata": {
    "id": "WZ2fQtXh_LLp"
   },
   "outputs": [],
   "source": [
    "print(x.size())"
   ]
  },
  {
   "cell_type": "markdown",
   "metadata": {
    "id": "NA_t2w7U_LLs"
   },
   "source": [
    "###Operations\n",
    "There are multiple syntaxes for operations. In the following  \n",
    "example, we will take a look at the addition operation.\n",
    "\n",
    "Addition: Syntax 1\n",
    "\n"
   ]
  },
  {
   "cell_type": "code",
   "execution_count": null,
   "metadata": {
    "id": "7-LSd4Vr_LLs"
   },
   "outputs": [],
   "source": [
    "y = torch.rand(5, 3)\n",
    "print(x + y)"
   ]
  },
  {
   "cell_type": "markdown",
   "metadata": {
    "id": "3HwzDYtB_LLu"
   },
   "source": [
    "Addition: Syntax 2\n",
    "\n"
   ]
  },
  {
   "cell_type": "code",
   "execution_count": null,
   "metadata": {
    "id": "-HNKhMig_LLv"
   },
   "outputs": [],
   "source": [
    "print(torch.add(x, y))"
   ]
  },
  {
   "cell_type": "markdown",
   "metadata": {
    "id": "ItXUY7HN_LLw"
   },
   "source": [
    "Addition: Providing an output tensor as argument\n",
    "\n"
   ]
  },
  {
   "cell_type": "code",
   "execution_count": null,
   "metadata": {
    "id": "uOepVPIM_LLx"
   },
   "outputs": [],
   "source": [
    "result = torch.empty(5, 3)\n",
    "torch.add(x, y, out=result)\n",
    "print(result)"
   ]
  },
  {
   "cell_type": "markdown",
   "metadata": {
    "id": "QlCVqVxI_LLy"
   },
   "source": [
    "Addition: In-place\n",
    "\n"
   ]
  },
  {
   "cell_type": "code",
   "execution_count": null,
   "metadata": {
    "id": "zlrpqMPT_LLz"
   },
   "outputs": [],
   "source": [
    "# adds x to y\n",
    "y.add_(x) # _ at end means the operation mutates tensor y in-place\n",
    "print(y)"
   ]
  },
  {
   "cell_type": "markdown",
   "metadata": {
    "id": "5tqzs2m8_LL0"
   },
   "source": [
    "**Read later:**\n",
    "\n",
    "\n",
    "  100+ Tensor operations, including transposing, indexing, slicing,  \n",
    "  mathematical operations, linear algebra, random numbers, etc.,  \n",
    "  are described\n",
    "  [here](http://pytorch.org/docs/torch).\n",
    "\n",
    "\n",
    "\n",
    "\n",
    "\n",
    "\n",
    "  \n",
    "You can use standard NumPy-like indexing with all bells and whistles!\n",
    "\n"
   ]
  },
  {
   "cell_type": "code",
   "execution_count": null,
   "metadata": {
    "id": "3h8VYw6L_LL1"
   },
   "outputs": [],
   "source": [
    "print(x[:, 1])"
   ]
  },
  {
   "cell_type": "markdown",
   "metadata": {
    "id": "XyhR2UZj_LL2"
   },
   "source": [
    "If you want to resize/reshape a tensor, you can use ``torch.view``:\n",
    "\n"
   ]
  },
  {
   "cell_type": "code",
   "execution_count": null,
   "metadata": {
    "id": "w48nEEw5_LL3"
   },
   "outputs": [],
   "source": [
    "x = torch.randn(4, 4)\n",
    "y = x.view(16)\n",
    "z = x.view(-1, 8)  # the size -1 is inferred from other dimensions\n",
    "print(x.size(), y.size(), z.size())"
   ]
  },
  {
   "cell_type": "markdown",
   "metadata": {
    "id": "oJ_AMQn5_LL4"
   },
   "source": [
    "If you have a one element tensor, use ``.item()`` to get the value as a\n",
    "Python number:\n",
    "\n"
   ]
  },
  {
   "cell_type": "code",
   "execution_count": null,
   "metadata": {
    "id": "ErxUZdvw_LL5"
   },
   "outputs": [],
   "source": [
    "x = torch.randn(1)\n",
    "print(x)\n",
    "print(x.item())"
   ]
  },
  {
   "cell_type": "markdown",
   "metadata": {
    "id": "ntxyryJH_LL6"
   },
   "source": [
    "\n",
    "\n",
    "NumPy Bridge\n",
    "------------\n",
    "\n",
    "Converting a Torch Tensor to a NumPy array and vice versa is a breeze.\n",
    "\n",
    "The Torch Tensor and NumPy array will share their underlying memory  \n",
    "locations, and changing one will change the other.\n",
    "\n",
    "###Converting a Torch Tensor to a NumPy Array\n",
    "\n"
   ]
  },
  {
   "cell_type": "code",
   "execution_count": null,
   "metadata": {
    "id": "Sdu-iyie_LL7"
   },
   "outputs": [],
   "source": [
    "a = torch.ones(5)\n",
    "print(a)"
   ]
  },
  {
   "cell_type": "code",
   "execution_count": null,
   "metadata": {
    "id": "p6LVs0qn_LL-"
   },
   "outputs": [],
   "source": [
    "b = a.numpy()\n",
    "print(b)"
   ]
  },
  {
   "cell_type": "markdown",
   "metadata": {
    "id": "E6vCGNqw_LMA"
   },
   "source": [
    "See how the numpy array changed in value.\n",
    "\n"
   ]
  },
  {
   "cell_type": "code",
   "execution_count": null,
   "metadata": {
    "id": "FKzjYrMP_LMB"
   },
   "outputs": [],
   "source": [
    "a.add_(1)\n",
    "print(a)\n",
    "print(b)"
   ]
  },
  {
   "cell_type": "markdown",
   "metadata": {
    "id": "GJ9lW0_n_LMC"
   },
   "source": [
    "###Converting NumPy Array to Torch Tensor\n",
    "See how changing the np array changed the Torch Tensor automatically:\n",
    "\n"
   ]
  },
  {
   "cell_type": "code",
   "execution_count": null,
   "metadata": {
    "id": "gzUkmVlH_LMD"
   },
   "outputs": [],
   "source": [
    "import numpy as np\n",
    "a = np.ones(5)\n",
    "b = torch.from_numpy(a)\n",
    "np.add(a, 1, out=a)\n",
    "print(a)\n",
    "print(b)"
   ]
  },
  {
   "cell_type": "markdown",
   "metadata": {
    "id": "M_d52GZC_LME"
   },
   "source": [
    "All the Tensors on the CPU except a CharTensor support conversion to\n",
    "NumPy and back.\n",
    "\n",
    "CUDA Tensors\n",
    "------------\n",
    "One of the most important features of PyTorch is that it can use graphics processing units (GPUs) to accelerate its tensor operations.\n",
    "\n",
    "We can easily check whether PyTorch is configured to use GPUs:\n",
    "\n",
    "Tensors can be moved onto any device using the .to() method.\n",
    "\n",
    "\n"
   ]
  },
  {
   "cell_type": "code",
   "execution_count": null,
   "metadata": {
    "id": "cm24dXBqWsmX"
   },
   "outputs": [],
   "source": [
    "import torch\n",
    "\n",
    "if torch.cuda.is_available:\n",
    "  print('GPU is available for use')\n",
    "else:\n",
    "  print('Cannot use GPU.')"
   ]
  },
  {
   "cell_type": "code",
   "execution_count": null,
   "metadata": {
    "id": "a_MuYscD_LMF"
   },
   "outputs": [],
   "source": [
    "# let us run this cell only if CUDA is available\n",
    "# We will use ``torch.device`` objects to move tensors in and out of GPU\n",
    "if torch.cuda.is_available():\n",
    "    device = torch.device(\"cuda\")          # a CUDA device object\n",
    "    y = torch.ones_like(x, device=device)  # directly create a tensor on GPU\n",
    "    x = x.to(device)                       # or just use strings ``.to(\"cuda\")``\n",
    "    z = x + y\n",
    "    print(z)\n",
    "    print(z.to(\"cpu\", torch.double))       # ``.to`` can also change dtype together!"
   ]
  },
  {
   "cell_type": "markdown",
   "metadata": {
    "id": "5klLiRlTPkMD"
   },
   "source": [
    "# Why are Gradients important?\n",
    "\n",
    "The gradient vector can be interpreted as the \"direction and rate of fastest increase\". In deep learning, we will use the gradient to optimize all of the parameters in a model with respect to some loss function. The partial derivative defines the gradient:\n",
    "\n",
    "$$\\dfrac{\\partial loss}{\\partial x}$$ where $x$ is the parameter we're optimizing. \n",
    "\n",
    "So, what is a partial derivative? Looking back at single variable calculus, we know the ordinary derivative $\\dfrac{df}{dx}$. In this function, $df$ is interpreted as some small change in the output of $f$, and $dx$ is is interpreted a small change in $x$.\n",
    "\n",
    "However, if we have some multivariable function $f(x,y)$, $\\dfrac{df}{dx}$ doesn't show how the entire function changes, so we call it a partial derivative, and for the sake of clarity, we denote this as $\\dfrac{\\partial f}{\\partial x}$. When computing this partial derivative, we treat everything that's not what our partial derivative is with respect to as a constant. For example:\n",
    "\n",
    "Let's compute the partial derivative $\\dfrac{\\partial f}{\\partial x}$ of \n",
    "$$f(x,y) = x^2y^3$$. We treat $y$ as a constant while doing this, so this is as simple as invoking the exponent rule from single variable calculus:\n",
    "\n",
    "$$\\dfrac{\\partial f}{\\partial x} = 2xy^3$$"
   ]
  },
  {
   "cell_type": "markdown",
   "metadata": {
    "id": "VpFNj0_WwVfq"
   },
   "source": [
    "## Now, work out a few partial derivatives to get the hang of it\n",
    "\n",
    "#### Given $f(x,y) = x^2 - xy$, find \n",
    "\n",
    "\n",
    "1.   $\\frac{\\partial f}{\\partial x}$\n",
    "\n",
    "2.   $\\frac{\\partial f}{\\partial y}$\n",
    "\n",
    "#### Given $f(x, y, z) = x - xy + z^2$, find \n",
    "\n",
    "\n",
    "1.   $\\frac{\\partial f}{\\partial x}$\n",
    "\n",
    "2.   $\\frac{\\partial f}{\\partial y}$\n",
    "\n",
    "3.   $\\frac{\\partial f}{\\partial z}$\n",
    "\n",
    "\n",
    "#### Given $f(x, y) = x e^{-2y} + x^2y$, find the **second** derivatives\n",
    "\n",
    "1.   $\\frac{\\partial ^2f}{\\partial x^2}$\n",
    "\n",
    "2.   $\\frac{\\partial ^2f}{\\partial y^2}$\n",
    "\n",
    "3.   $\\frac{\\partial ^2f}{\\partial x \\partial y}$\n",
    "\n",
    "4.   $\\frac{\\partial ^2f}{\\partial y \\partial x}$\n",
    "\n",
    "\n",
    "\n",
    "\n"
   ]
  },
  {
   "cell_type": "markdown",
   "metadata": {
    "id": "0uAykVi7_SMn"
   },
   "source": [
    "\n",
    "Autograd: Automatic Differentiation\n",
    "===================================\n",
    "\n",
    "Central to all neural networks in PyTorch is the ``autograd`` package.  \n",
    "Let’s first briefly visit this. We will train our\n",
    "first neural network in another Worksheet.\n",
    "\n",
    "\n",
    "The ``autograd`` package provides automatic differentiation for all operations\n",
    "on Tensors. It is a define-by-run framework, which means that your backprop is\n",
    "defined by how your code is run, and that every single iteration can be\n",
    "different.\n",
    "\n",
    "Let us see this in more simple terms with some examples.\n",
    "\n",
    "Tensor\n",
    "--------\n",
    "\n",
    "``torch.Tensor`` is the central class of the package. If you set its attribute\n",
    "``.requires_grad`` as ``True``, it starts to track all operations on it. When  \n",
    "you finish your computation you can call ``.backward()`` and have all the\n",
    "gradients computed automatically. The gradient for this tensor will be accumulated into ``.grad`` attribute.\n",
    "\n",
    "To stop a tensor from tracking history, you can call ``.detach()`` to detach\n",
    "it from the computation history, and to prevent future computation from being\n",
    "tracked.\n",
    "\n",
    "To prevent tracking history (and use of memory), you can also wrap the code block\n",
    "in ``with torch.no_grad():``. This can be particularly helpful when evaluating a\n",
    "model because the model may have trainable parameters with `requires_grad=True`,\n",
    "but for which we don't need the gradients.\n",
    "\n",
    "There’s one more class which is very important for autograd implementation - a ``Function``.  \n",
    "\n",
    "<img src=\"https://miro.medium.com/max/1536/1*wE1f2i7L8QRw8iuVx5mOpw.png\" alt=\"Function\" width=\"600\"/>\n",
    "\n",
    "``Tensor`` and ``Function`` are interconnected and build up an acyclic\n",
    "graph, that encodes a complete history of computation. Each tensor has  \n",
    "a ``.grad_fn`` attribute that references a ``Function`` that has created\n",
    "the ``Tensor`` (except for Tensors created by the user - their  \n",
    "``grad_fn is None``).\n",
    "\n",
    "<img src=\"https://miro.medium.com/max/1684/1*FDL9Se9otGzz83F3rofQuA.png\" alt=\"Computation Graph\" width=\"500\"/>\n",
    "\n",
    "If you want to compute the derivatives, you can call ``.backward()`` on\n",
    "a ``Tensor``. If ``Tensor`` is a scalar (i.e. it holds a one element  \n",
    "data), you don’t need to specify any arguments to ``backward()``,\n",
    "however if it has more elements, you need to specify a ``gradient``  \n",
    "argument that is a tensor of matching shape.\n",
    "\n",
    "<img src=\"https://miro.medium.com/max/1684/1*EWpoG5KayZSqkWmwM_wMFQ.png\" alt=\"Computation Graph with Gradients\" width=\"500\"/>"
   ]
  },
  {
   "cell_type": "code",
   "execution_count": null,
   "metadata": {
    "id": "6BPRyvT__SMo"
   },
   "outputs": [],
   "source": [
    "import torch"
   ]
  },
  {
   "cell_type": "markdown",
   "metadata": {
    "id": "WOV1ONxp_SMp"
   },
   "source": [
    "Create a tensor and set requires_grad=True to track computation with it:\n",
    "\n"
   ]
  },
  {
   "cell_type": "code",
   "execution_count": null,
   "metadata": {
    "id": "oy4yu9BO_SMq"
   },
   "outputs": [],
   "source": [
    "x = torch.ones(2, 2, requires_grad=True)\n",
    "print(x)"
   ]
  },
  {
   "cell_type": "markdown",
   "metadata": {
    "id": "CFGCV-Ku_SMr"
   },
   "source": [
    "Do an operation of tensor:\n",
    "\n"
   ]
  },
  {
   "cell_type": "code",
   "execution_count": null,
   "metadata": {
    "id": "Ly8h4Eue_SMs"
   },
   "outputs": [],
   "source": [
    "y = x + 2\n",
    "print(y)"
   ]
  },
  {
   "cell_type": "markdown",
   "metadata": {
    "id": "QseU9J4u_SMt"
   },
   "source": [
    "``y`` was created as a result of an operation, so it has a ``grad_fn``.\n",
    "\n"
   ]
  },
  {
   "cell_type": "code",
   "execution_count": null,
   "metadata": {
    "id": "qdW2vLpD_SMu"
   },
   "outputs": [],
   "source": [
    "print(y.grad_fn)"
   ]
  },
  {
   "cell_type": "markdown",
   "metadata": {
    "id": "tLrPxNEL_SMw"
   },
   "source": [
    "Do more operations on y:\n",
    "\n"
   ]
  },
  {
   "cell_type": "code",
   "execution_count": null,
   "metadata": {
    "id": "t7OT_PJF_SMw"
   },
   "outputs": [],
   "source": [
    "z = y * y * 3\n",
    "out = z.mean()\n",
    "\n",
    "print(z, out)"
   ]
  },
  {
   "cell_type": "markdown",
   "metadata": {
    "id": "RwQqBYkl_SMy"
   },
   "source": [
    "``.requires_grad_( ... )`` changes an existing Tensor's ``requires_grad``\n",
    "flag in-place. The input flag defaults to ``False`` if not given.\n",
    "\n"
   ]
  },
  {
   "cell_type": "code",
   "execution_count": null,
   "metadata": {
    "id": "UmLT9jQW_SMy"
   },
   "outputs": [],
   "source": [
    "a = torch.randn(2, 2)\n",
    "a = ((a * 3) / (a - 1))\n",
    "print(a.requires_grad)\n",
    "a.requires_grad_(True)\n",
    "print(a.requires_grad)\n",
    "b = (a * a).sum()\n",
    "print(b.grad_fn)"
   ]
  },
  {
   "cell_type": "markdown",
   "metadata": {
    "id": "xIOCut2q_SM0"
   },
   "source": [
    "Gradients\n",
    "---------\n",
    "Let's do backprop now.\n",
    "Because ``out`` contains a single scalar, ``out.backward()`` is\n",
    "equivalent to ``out.backward(torch.tensor(1))``.\n",
    "\n"
   ]
  },
  {
   "cell_type": "code",
   "execution_count": null,
   "metadata": {
    "id": "cirFNii__SM1"
   },
   "outputs": [],
   "source": [
    "out.backward()"
   ]
  },
  {
   "cell_type": "markdown",
   "metadata": {
    "id": "VJD3QRXu_SM3"
   },
   "source": [
    "Print gradients d(out)/dx:\n",
    "\n",
    "\n"
   ]
  },
  {
   "cell_type": "code",
   "execution_count": null,
   "metadata": {
    "id": "owYJV2YJ_SM5"
   },
   "outputs": [],
   "source": [
    "print(x.grad)"
   ]
  },
  {
   "cell_type": "markdown",
   "metadata": {
    "id": "DtoxVdoh_SM7"
   },
   "source": [
    "You should have gotten a matrix of ``4.5``. Let’s call the ``out``\n",
    "*Tensor* “$o$”.  \n",
    "We have that $o = \\frac{1}{4}\\sum_i z_i$,  \n",
    "$z_i = 3(x_i+2)^2$ and $z_i\\bigr\\rvert_{x_i=1} = 27$.  \n",
    "Therefore,  \n",
    "$\\frac{\\partial o}{\\partial x_i} = \\frac{3}{2}(x_i+2)$, hence  \n",
    "$\\frac{\\partial o}{\\partial x_i}\\bigr\\rvert_{x_i=1} = \\frac{9}{2} = 4.5$.\n",
    "\n"
   ]
  },
  {
   "cell_type": "markdown",
   "metadata": {
    "id": "0XRYgvUP_SM8"
   },
   "source": [
    "You can do many crazy things with autograd!\n",
    "\n"
   ]
  },
  {
   "cell_type": "code",
   "execution_count": null,
   "metadata": {
    "id": "epiw0-Jg_SM8"
   },
   "outputs": [],
   "source": [
    "x = torch.randn(3, requires_grad=True)\n",
    "\n",
    "y = x * 2\n",
    "while y.data.norm() < 1000:\n",
    "    y = y * 2\n",
    "\n",
    "print(y)"
   ]
  },
  {
   "cell_type": "code",
   "execution_count": null,
   "metadata": {
    "id": "KQQqn3nc_SM-"
   },
   "outputs": [],
   "source": [
    "gradients = torch.tensor([0.1, 1.0, 0.0001], dtype=torch.float)\n",
    "y.backward(gradients)\n",
    "\n",
    "print(x.grad)"
   ]
  },
  {
   "cell_type": "markdown",
   "metadata": {
    "id": "FQNia9mB_SNB"
   },
   "source": [
    "You can also stop autograd from tracking history on Tensors\n",
    "with ``.requires_grad=True`` by wrapping the code block in\n",
    "``with torch.no_grad()``:\n",
    "\n"
   ]
  },
  {
   "cell_type": "code",
   "execution_count": null,
   "metadata": {
    "id": "7b0W4gN0_SNB"
   },
   "outputs": [],
   "source": [
    "print(x.requires_grad)\n",
    "print((x ** 2).requires_grad)\n",
    "\n",
    "with torch.no_grad():\n",
    "\tprint((x ** 2).requires_grad)"
   ]
  },
  {
   "cell_type": "markdown",
   "metadata": {
    "id": "18aAQFk7_SNC"
   },
   "source": [
    "**Read Later:**\n",
    "\n",
    "Documentation of ``autograd`` and ``Function`` is at\n",
    "http://pytorch.org/docs/autograd\n",
    "\n"
   ]
  },
  {
   "cell_type": "markdown",
   "metadata": {
    "id": "MKHhCh3PURYF"
   },
   "source": [
    "**References:**<br>\n",
    "- Adapted from CIS 520 Fall 2020 at the University of Pennsylvania \n",
    "\n",
    "- [Pytorch official tutorials](https://pytorch.org/tutorials/beginner/deep_learning_60min_blitz.html).<br>\n",
    "\n",
    "- [CIS 522 Spring '20](https://www.seas.upenn.edu/~cis522/index.html) Course Material"
   ]
  }
 ],
 "metadata": {
  "accelerator": "GPU",
  "colab": {
   "collapsed_sections": [],
   "name": "PyTorch_and_Autograd_Basics.ipynb",
   "provenance": [
    {
     "file_id": "https://github.com/CIS-519/worksheet-dev/blob/master/week8_PyTorch_Autograd_Basics_Worksheet2.ipynb",
     "timestamp": 1634682478956
    }
   ],
   "toc_visible": true
  },
  "kernelspec": {
   "display_name": "Python 3",
   "name": "python3"
  }
 },
 "nbformat": 4,
 "nbformat_minor": 0
}
