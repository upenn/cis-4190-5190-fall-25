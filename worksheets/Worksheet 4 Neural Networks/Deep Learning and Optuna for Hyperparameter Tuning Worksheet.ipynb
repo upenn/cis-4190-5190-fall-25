{
 "cells": [
  {
   "cell_type": "markdown",
   "metadata": {
    "id": "MO4THNbM4hr8"
   },
   "source": [
    "#**CIS 419/519**\n",
    "\n",
    "## Deep Learning and Optuna worksheet \n",
    "\n",
    "In this worksheet, we use PyTorch libraries and packages to construct a simple neural network that classifies the handwritten digits in the MNIST dataset, a very common toy dataset for image classification. \n",
    "\n",
    "Our main goal will be to introduce you to Optuna, a library that will help you tune your hyperparameters.\n",
    "\n",
    "---\n",
    "\n",
    "###Pytorch Review\n",
    "PyTorch is a Python-based scientific computing package serving two broad purposes:\n",
    "*   Provide automatic differentiation in order to make it easy to implement neural networks.\n",
    "*   Provide NumPy-like syntax with support for GPUs and other accelerator hardware in order to speed up these operators while making it easy for new users.\n",
    "\n",
    "For more information and tutorials on PyTorch, go to:\n",
    "https://pytorch.org/tutorials/beginner/deep_learning_60min_blitz.html\n",
    "\n",
    "https://pytorch.org/tutorials/\n",
    "\n",
    "---\n",
    "\n"
   ]
  },
  {
   "cell_type": "markdown",
   "metadata": {
    "id": "Ww7gwZd58ig1"
   },
   "source": [
    "First, we import the required packages and libraries. Remember to change the runtime type to 'GPU' for faster runtime and fully utilize the power of PyTorch!"
   ]
  },
  {
   "cell_type": "code",
   "execution_count": null,
   "metadata": {
    "id": "tYnZYHXaOy6K"
   },
   "outputs": [],
   "source": [
    "# Import torch libraries\n",
    "import torch\n",
    "import torch.nn as nn\n",
    "import torch.optim as optim\n",
    "import torchvision as thv\n",
    "from torchvision.transforms import ToTensor\n",
    "from torch.utils.data import DataLoader, TensorDataset\n",
    "\n",
    "# Import matplotlib for plotting\n",
    "import matplotlib.pyplot as plt\n",
    " \n",
    "device      = torch.device(\"cuda:0\" if torch.cuda.is_available() else \"cpu\")"
   ]
  },
  {
   "cell_type": "markdown",
   "metadata": {
    "id": "v_Qwfwyx5P4F"
   },
   "source": [
    "Here, we load the MNIST dataset obtained from torchvision. Note that we can use the ToTensor() transformation on our downloaded data, which converts our data to a tensor, where the pixel values (0, 255) are scaled down to (0,1). However, we are going to do the same thing by hand to show you what's happening behind the scenes"
   ]
  },
  {
   "cell_type": "code",
   "execution_count": null,
   "metadata": {
    "id": "dLd7gf8bFK7s"
   },
   "outputs": [],
   "source": [
    "# Load the MNIST dataset from torchvision\n",
    "train       = thv.datasets.MNIST('./', download=True, train=True)\n",
    "val         = thv.datasets.MNIST('./', download=True, train=False)\n",
    "\n",
    "# where we would include any transformations\n",
    "# train       = thv.datasets.MNIST('./', download=True, train=True, transform= ToTensor())\n",
    "# val         = thv.datasets.MNIST('./', download=True, train=False, transform= ToTensor())"
   ]
  },
  {
   "cell_type": "markdown",
   "metadata": {
    "id": "wLi54BVofgKL"
   },
   "source": [
    "Let's visualize one of the images, just to remind ourselves of what we are working with. As we see, each item is a 28x28 pixel picture of a handwritten digit (from 0-9)."
   ]
  },
  {
   "cell_type": "code",
   "execution_count": null,
   "metadata": {
    "colab": {
     "base_uri": "https://localhost:8080/",
     "height": 281
    },
    "executionInfo": {
     "elapsed": 7,
     "status": "ok",
     "timestamp": 1634752163854,
     "user": {
      "displayName": "Kelly Feng",
      "photoUrl": "https://lh3.googleusercontent.com/a-/AOh14GiE_zqw1wGgtnqrMNNYVIn3LXnFSdlpXcozSv-W=s64",
      "userId": "05766461114990380038"
     },
     "user_tz": 240
    },
    "id": "OHDSOigPq9bT",
    "outputId": "de056736-ba94-4620-acb8-dd8142be1d45"
   },
   "outputs": [
    {
     "data": {
      "image/png": "[encoded data removed]",
      "text/plain": [
       "<Figure size 432x288 with 1 Axes>"
      ]
     },
     "metadata": {
      "needs_background": "light"
     },
     "output_type": "display_data"
    }
   ],
   "source": [
    "import matplotlib.pyplot as plt\n",
    "plt.imshow(train.data[0], cmap='gray')\n",
    "plt.title('%i' % train.targets[0])\n",
    "plt.show()"
   ]
  },
  {
   "cell_type": "markdown",
   "metadata": {
    "id": "pJCCKnaj5V9N"
   },
   "source": [
    "We perform pre-processing of the training and validation datasets, which include reshaping and normalization."
   ]
  },
  {
   "cell_type": "code",
   "execution_count": null,
   "metadata": {
    "id": "4jYGj1z9sLqN"
   },
   "outputs": [],
   "source": [
    "# Reshape training and validation features from (batch_size,28,28) to (batch_size,28*28) and attach to GPU\n",
    "# Note that the -1 means we are inferring that value from the other dimensions\n",
    "xtrain            = train.data.view(-1, 28*28).to(device)\n",
    "xval              = val.data.view(-1, 28*28).to(device)\n",
    "\n",
    "# Normalize training and validation features from [0,255] to [0,1] \n",
    "xtrain            = xtrain/255.0\n",
    "xval              = xval/255.0\n",
    "\n",
    "# Attach training and validation labels to GPU\n",
    "ytrain            = train.targets.to(device)\n",
    "yval              = val.targets.to(device)\n",
    "\n",
    "# Set training and validation dataloaders \n",
    "train_dataset     = TensorDataset(xtrain, ytrain)\n",
    "train_dataloader  = DataLoader(train_dataset, batch_size=32, shuffle=True)\n",
    "\n",
    "val_dataset       = TensorDataset(xval, yval)\n",
    "val_dataloader    = DataLoader(val_dataset, batch_size=32, shuffle=False)"
   ]
  },
  {
   "cell_type": "markdown",
   "metadata": {
    "id": "D_gDHEe55gcp"
   },
   "source": [
    "Next, we construct our neural network (NN). As an example, we use a 1-linear layer NN with ReLU activation functions."
   ]
  },
  {
   "cell_type": "code",
   "execution_count": null,
   "metadata": {
    "id": "VtECZ9w35fvn"
   },
   "outputs": [],
   "source": [
    "torch.manual_seed(1)\n",
    "step          = 0\n",
    "D_in, D_out   = 784, 10\n",
    "\n",
    "# Neural network\n",
    "model = torch.nn.Sequential(\n",
    "    torch.nn.Linear(D_in, D_out),\n",
    "    torch.nn.ReLU(),\n",
    ").to(device) # Remember to attach your model to GPU"
   ]
  },
  {
   "cell_type": "markdown",
   "metadata": {
    "id": "FogJS8we5uGJ"
   },
   "source": [
    "As the performance metric/objective function, we use the cross entropy loss and we use stochastic gradient descent (SGD) as the optimization algorithm. The learning rate is set at `0.08` and we train for `25` epochs (full passes through the training data).\n",
    "\n"
   ]
  },
  {
   "cell_type": "code",
   "execution_count": null,
   "metadata": {
    "colab": {
     "base_uri": "https://localhost:8080/"
    },
    "executionInfo": {
     "elapsed": 88815,
     "status": "ok",
     "timestamp": 1634752267339,
     "user": {
      "displayName": "Kelly Feng",
      "photoUrl": "https://lh3.googleusercontent.com/a-/AOh14GiE_zqw1wGgtnqrMNNYVIn3LXnFSdlpXcozSv-W=s64",
      "userId": "05766461114990380038"
     },
     "user_tz": 240
    },
    "id": "7l4Ja3KcPHjQ",
    "outputId": "4516129b-1f33-4efb-efab-60e9e051e55a"
   },
   "outputs": [
    {
     "name": "stdout",
     "output_type": "stream",
     "text": [
      "No.: 0  Training Loss: 2.256822347640991  Training Accuracy: 21.875  Validation Loss: 2.271984100341797  Validation Accuracy: 17.540000915527344\n",
      "No.: 500  Training Loss: 0.8649508357048035  Training Accuracy: 76.1601791381836  Validation Loss: 0.6369289755821228  Validation Accuracy: 81.25\n",
      "No.: 1000  Training Loss: 0.7417502999305725  Training Accuracy: 78.68069458007812  Validation Loss: 0.5823625922203064  Validation Accuracy: 81.80000305175781\n",
      "No.: 1500  Training Loss: 0.690576434135437  Training Accuracy: 79.69270324707031  Validation Loss: 0.5548501014709473  Validation Accuracy: 82.31999969482422\n",
      "No.: 2000  Training Loss: 0.6623077392578125  Training Accuracy: 80.14273834228516  Validation Loss: 0.5376133322715759  Validation Accuracy: 82.70999908447266\n",
      "No.: 2500  Training Loss: 0.6411467790603638  Training Accuracy: 80.53653717041016  Validation Loss: 0.5288902521133423  Validation Accuracy: 83.01000213623047\n",
      "No.: 3000  Training Loss: 0.6249848008155823  Training Accuracy: 80.8334732055664  Validation Loss: 0.5236652493476868  Validation Accuracy: 82.93000030517578\n",
      "No.: 3500  Training Loss: 0.612209677696228  Training Accuracy: 81.14199829101562  Validation Loss: 0.3518098294734955  Validation Accuracy: 91.26000213623047\n",
      "No.: 4000  Training Loss: 0.5756851434707642  Training Accuracy: 82.42236328125  Validation Loss: 0.30185365676879883  Validation Accuracy: 91.62000274658203\n",
      "No.: 4500  Training Loss: 0.5472750663757324  Training Accuracy: 83.39466094970703  Validation Loss: 0.29779818654060364  Validation Accuracy: 91.77999877929688\n",
      "No.: 5000  Training Loss: 0.5232246518135071  Training Accuracy: 84.20191192626953  Validation Loss: 0.2907191216945648  Validation Accuracy: 92.02999877929688\n",
      "No.: 5500  Training Loss: 0.5033949613571167  Training Accuracy: 84.86071014404297  Validation Loss: 0.28903818130493164  Validation Accuracy: 91.97000122070312\n",
      "No.: 6000  Training Loss: 0.48594096302986145  Training Accuracy: 85.44930267333984  Validation Loss: 0.2864954173564911  Validation Accuracy: 92.16000366210938\n",
      "No.: 6500  Training Loss: 0.47111934423446655  Training Accuracy: 85.93004608154297  Validation Loss: 0.2854048013687134  Validation Accuracy: 91.93000030517578\n",
      "No.: 7000  Training Loss: 0.4590139091014862  Training Accuracy: 86.32472229003906  Validation Loss: 0.2810468375682831  Validation Accuracy: 92.16000366210938\n",
      "No.: 7500  Training Loss: 0.4477044641971588  Training Accuracy: 86.69718933105469  Validation Loss: 0.2829486131668091  Validation Accuracy: 92.02999877929688\n",
      "No.: 8000  Training Loss: 0.4376237690448761  Training Accuracy: 87.03599548339844  Validation Loss: 0.2818989157676697  Validation Accuracy: 92.0199966430664\n",
      "No.: 8500  Training Loss: 0.42884305119514465  Training Accuracy: 87.31656646728516  Validation Loss: 0.28182199597358704  Validation Accuracy: 92.05999755859375\n",
      "No.: 9000  Training Loss: 0.4208517372608185  Training Accuracy: 87.58332061767578  Validation Loss: 0.2777332365512848  Validation Accuracy: 92.0999984741211\n",
      "No.: 9500  Training Loss: 0.413798451423645  Training Accuracy: 87.8154296875  Validation Loss: 0.2767951488494873  Validation Accuracy: 92.31999969482422\n",
      "No.: 10000  Training Loss: 0.4074036478996277  Training Accuracy: 88.0308837890625  Validation Loss: 0.277999609708786  Validation Accuracy: 92.13999938964844\n",
      "No.: 10500  Training Loss: 0.4005015194416046  Training Accuracy: 88.24993133544922  Validation Loss: 0.27665379643440247  Validation Accuracy: 92.19999694824219\n",
      "No.: 11000  Training Loss: 0.39508262276649475  Training Accuracy: 88.42179107666016  Validation Loss: 0.27312034368515015  Validation Accuracy: 92.23999786376953\n",
      "No.: 11500  Training Loss: 0.39036908745765686  Training Accuracy: 88.58088684082031  Validation Loss: 0.274361252784729  Validation Accuracy: 92.26000213623047\n",
      "No.: 12000  Training Loss: 0.3855939209461212  Training Accuracy: 88.74312591552734  Validation Loss: 0.27225056290626526  Validation Accuracy: 92.31999969482422\n",
      "No.: 12500  Training Loss: 0.3811327815055847  Training Accuracy: 88.88764190673828  Validation Loss: 0.2735424041748047  Validation Accuracy: 92.51000213623047\n",
      "No.: 13000  Training Loss: 0.3771132528781891  Training Accuracy: 89.0157470703125  Validation Loss: 0.27153030037879944  Validation Accuracy: 92.33999633789062\n",
      "No.: 13500  Training Loss: 0.3732425272464752  Training Accuracy: 89.13992309570312  Validation Loss: 0.27190589904785156  Validation Accuracy: 92.33999633789062\n",
      "No.: 14000  Training Loss: 0.3695657551288605  Training Accuracy: 89.25880432128906  Validation Loss: 0.2743414342403412  Validation Accuracy: 92.11000061035156\n",
      "No.: 14500  Training Loss: 0.36623796820640564  Training Accuracy: 89.36711120605469  Validation Loss: 0.27182528376579285  Validation Accuracy: 92.18000030517578\n",
      "No.: 15000  Training Loss: 0.36297938227653503  Training Accuracy: 89.47174072265625  Validation Loss: 0.2689252197742462  Validation Accuracy: 92.45999908447266\n",
      "No.: 15500  Training Loss: 0.3600882291793823  Training Accuracy: 89.56620025634766  Validation Loss: 0.2745353579521179  Validation Accuracy: 92.22000122070312\n",
      "No.: 16000  Training Loss: 0.3571101725101471  Training Accuracy: 89.65201568603516  Validation Loss: 0.2665516436100006  Validation Accuracy: 92.58000183105469\n",
      "No.: 16500  Training Loss: 0.354330837726593  Training Accuracy: 89.74607849121094  Validation Loss: 0.2637827694416046  Validation Accuracy: 92.4000015258789\n",
      "No.: 17000  Training Loss: 0.3517599403858185  Training Accuracy: 89.82909393310547  Validation Loss: 0.2706589996814728  Validation Accuracy: 92.2300033569336\n",
      "No.: 17500  Training Loss: 0.3492722511291504  Training Accuracy: 89.9093246459961  Validation Loss: 0.266760915517807  Validation Accuracy: 92.45999908447266\n",
      "No.: 18000  Training Loss: 0.3468158543109894  Training Accuracy: 89.98701477050781  Validation Loss: 0.2664265036582947  Validation Accuracy: 92.38999938964844\n",
      "No.: 18500  Training Loss: 0.34469765424728394  Training Accuracy: 90.05425262451172  Validation Loss: 0.2666419446468353  Validation Accuracy: 92.36000061035156\n",
      "No.: 19000  Training Loss: 0.3426186144351959  Training Accuracy: 90.12338256835938  Validation Loss: 0.2646636366844177  Validation Accuracy: 92.55999755859375\n",
      "No.: 19500  Training Loss: 0.34033480286598206  Training Accuracy: 90.18848419189453  Validation Loss: 0.2676982879638672  Validation Accuracy: 92.41999816894531\n",
      "No.: 20000  Training Loss: 0.33861973881721497  Training Accuracy: 90.24127197265625  Validation Loss: 0.2665867805480957  Validation Accuracy: 92.41999816894531\n",
      "No.: 20500  Training Loss: 0.3367307782173157  Training Accuracy: 90.29757690429688  Validation Loss: 0.2627336382865906  Validation Accuracy: 92.61000061035156\n",
      "No.: 21000  Training Loss: 0.3350151777267456  Training Accuracy: 90.35700988769531  Validation Loss: 0.2633301615715027  Validation Accuracy: 92.36000061035156\n",
      "No.: 21500  Training Loss: 0.33329537510871887  Training Accuracy: 90.41585540771484  Validation Loss: 0.26308152079582214  Validation Accuracy: 92.58999633789062\n",
      "No.: 22000  Training Loss: 0.33173829317092896  Training Accuracy: 90.46435546875  Validation Loss: 0.26429620385169983  Validation Accuracy: 92.36000061035156\n",
      "No.: 22500  Training Loss: 0.33013689517974854  Training Accuracy: 90.51167297363281  Validation Loss: 0.2627130150794983  Validation Accuracy: 92.44999694824219\n",
      "No.: 23000  Training Loss: 0.3284701704978943  Training Accuracy: 90.55951690673828  Validation Loss: 0.2644338607788086  Validation Accuracy: 92.47000122070312\n",
      "No.: 23500  Training Loss: 0.32709357142448425  Training Accuracy: 90.60398864746094  Validation Loss: 0.26142287254333496  Validation Accuracy: 92.61000061035156\n",
      "No.: 24000  Training Loss: 0.32560595870018005  Training Accuracy: 90.65208435058594  Validation Loss: 0.2627510130405426  Validation Accuracy: 92.51000213623047\n",
      "No.: 24500  Training Loss: 0.3243752717971802  Training Accuracy: 90.69247436523438  Validation Loss: 0.2591420114040375  Validation Accuracy: 92.63999938964844\n",
      "No.: 25000  Training Loss: 0.3229954242706299  Training Accuracy: 90.73761749267578  Validation Loss: 0.25938642024993896  Validation Accuracy: 92.66999816894531\n",
      "No.: 25500  Training Loss: 0.3216440975666046  Training Accuracy: 90.78002166748047  Validation Loss: 0.2623498737812042  Validation Accuracy: 92.44999694824219\n",
      "No.: 26000  Training Loss: 0.3204641342163086  Training Accuracy: 90.81645965576172  Validation Loss: 0.26439982652664185  Validation Accuracy: 92.22000122070312\n",
      "No.: 26500  Training Loss: 0.3190917670726776  Training Accuracy: 90.85906982421875  Validation Loss: 0.2605961263179779  Validation Accuracy: 92.5199966430664\n",
      "No.: 27000  Training Loss: 0.3180043399333954  Training Accuracy: 90.8905029296875  Validation Loss: 0.26072224974632263  Validation Accuracy: 92.61000061035156\n",
      "No.: 27500  Training Loss: 0.31707754731178284  Training Accuracy: 90.91817474365234  Validation Loss: 0.26058751344680786  Validation Accuracy: 92.69000244140625\n",
      "No.: 28000  Training Loss: 0.31585073471069336  Training Accuracy: 90.95869445800781  Validation Loss: 0.2594871520996094  Validation Accuracy: 92.5\n",
      "No.: 28500  Training Loss: 0.31463056802749634  Training Accuracy: 90.99713897705078  Validation Loss: 0.25898444652557373  Validation Accuracy: 92.55999755859375\n",
      "No.: 29000  Training Loss: 0.3135695457458496  Training Accuracy: 91.02919006347656  Validation Loss: 0.25950688123703003  Validation Accuracy: 92.70999908447266\n",
      "No.: 29500  Training Loss: 0.3126238286495209  Training Accuracy: 91.05792999267578  Validation Loss: 0.25696128606796265  Validation Accuracy: 92.55999755859375\n",
      "No.: 30000  Training Loss: 0.3116185963153839  Training Accuracy: 91.08988189697266  Validation Loss: 0.25894731283187866  Validation Accuracy: 92.66999816894531\n",
      "No.: 30500  Training Loss: 0.31055960059165955  Training Accuracy: 91.12242126464844  Validation Loss: 0.26058846712112427  Validation Accuracy: 92.69999694824219\n",
      "No.: 31000  Training Loss: 0.309746652841568  Training Accuracy: 91.14595031738281  Validation Loss: 0.2570313811302185  Validation Accuracy: 92.66000366210938\n",
      "No.: 31500  Training Loss: 0.3088430166244507  Training Accuracy: 91.17240142822266  Validation Loss: 0.26094043254852295  Validation Accuracy: 92.62000274658203\n",
      "No.: 32000  Training Loss: 0.30786022543907166  Training Accuracy: 91.20555114746094  Validation Loss: 0.2609929144382477  Validation Accuracy: 92.51000213623047\n",
      "No.: 32500  Training Loss: 0.3071368336677551  Training Accuracy: 91.2318115234375  Validation Loss: 0.2593211233615875  Validation Accuracy: 92.68000030517578\n",
      "No.: 33000  Training Loss: 0.306307852268219  Training Accuracy: 91.25774383544922  Validation Loss: 0.2584652602672577  Validation Accuracy: 92.54000091552734\n",
      "No.: 33500  Training Loss: 0.3054177761077881  Training Accuracy: 91.28468322753906  Validation Loss: 0.25960347056388855  Validation Accuracy: 92.66999816894531\n",
      "No.: 34000  Training Loss: 0.30447500944137573  Training Accuracy: 91.31192779541016  Validation Loss: 0.25814899802207947  Validation Accuracy: 92.62999725341797\n",
      "No.: 34500  Training Loss: 0.30383098125457764  Training Accuracy: 91.33240509033203  Validation Loss: 0.2577084004878998  Validation Accuracy: 92.73999786376953\n",
      "No.: 35000  Training Loss: 0.30304190516471863  Training Accuracy: 91.35828399658203  Validation Loss: 0.2577269375324249  Validation Accuracy: 92.58999633789062\n",
      "No.: 35500  Training Loss: 0.3023044764995575  Training Accuracy: 91.38140106201172  Validation Loss: 0.2569447159767151  Validation Accuracy: 92.54000091552734\n",
      "No.: 36000  Training Loss: 0.30147480964660645  Training Accuracy: 91.40805053710938  Validation Loss: 0.2641330659389496  Validation Accuracy: 92.44000244140625\n",
      "No.: 36500  Training Loss: 0.30075564980506897  Training Accuracy: 91.43045806884766  Validation Loss: 0.2586146891117096  Validation Accuracy: 92.69999694824219\n",
      "No.: 37000  Training Loss: 0.30010902881622314  Training Accuracy: 91.45040130615234  Validation Loss: 0.2583104968070984  Validation Accuracy: 92.54000091552734\n",
      "No.: 37500  Training Loss: 0.2994152903556824  Training Accuracy: 91.47197723388672  Validation Loss: 0.2563847303390503  Validation Accuracy: 92.70999908447266\n",
      "No.: 38000  Training Loss: 0.2987994849681854  Training Accuracy: 91.4919204711914  Validation Loss: 0.25644537806510925  Validation Accuracy: 92.83999633789062\n",
      "No.: 38500  Training Loss: 0.29813942313194275  Training Accuracy: 91.51028442382812  Validation Loss: 0.2552393674850464  Validation Accuracy: 92.7300033569336\n",
      "No.: 39000  Training Loss: 0.2975047528743744  Training Accuracy: 91.52970123291016  Validation Loss: 0.25626304745674133  Validation Accuracy: 92.77999877929688\n",
      "No.: 39500  Training Loss: 0.2968102991580963  Training Accuracy: 91.55298614501953  Validation Loss: 0.2579124867916107  Validation Accuracy: 92.5999984741211\n",
      "No.: 40000  Training Loss: 0.2961736023426056  Training Accuracy: 91.57169342041016  Validation Loss: 0.26303404569625854  Validation Accuracy: 92.55999755859375\n",
      "No.: 40500  Training Loss: 0.2953723967075348  Training Accuracy: 91.5965805053711  Validation Loss: 0.2597428560256958  Validation Accuracy: 92.58999633789062\n",
      "No.: 41000  Training Loss: 0.2948780059814453  Training Accuracy: 91.61331176757812  Validation Loss: 0.25937342643737793  Validation Accuracy: 92.37999725341797\n",
      "No.: 41500  Training Loss: 0.29437702894210815  Training Accuracy: 91.62957000732422  Validation Loss: 0.2551536560058594  Validation Accuracy: 92.76000213623047\n",
      "No.: 42000  Training Loss: 0.2937368154525757  Training Accuracy: 91.64781951904297  Validation Loss: 0.2561827301979065  Validation Accuracy: 92.7300033569336\n",
      "No.: 42500  Training Loss: 0.2932623326778412  Training Accuracy: 91.66255187988281  Validation Loss: 0.256503164768219  Validation Accuracy: 92.66000366210938\n",
      "No.: 43000  Training Loss: 0.2927263081073761  Training Accuracy: 91.6813735961914  Validation Loss: 0.25762617588043213  Validation Accuracy: 92.6500015258789\n",
      "No.: 43500  Training Loss: 0.2921498715877533  Training Accuracy: 91.69961547851562  Validation Loss: 0.2563733756542206  Validation Accuracy: 92.58000183105469\n",
      "No.: 44000  Training Loss: 0.29158324003219604  Training Accuracy: 91.71553039550781  Validation Loss: 0.25701650977134705  Validation Accuracy: 92.66000366210938\n",
      "No.: 44500  Training Loss: 0.2911728620529175  Training Accuracy: 91.7294692993164  Validation Loss: 0.25873318314552307  Validation Accuracy: 92.5199966430664\n",
      "No.: 45000  Training Loss: 0.2905890941619873  Training Accuracy: 91.7464370727539  Validation Loss: 0.2555732727050781  Validation Accuracy: 92.63999938964844\n",
      "No.: 45500  Training Loss: 0.2901098430156708  Training Accuracy: 91.76158142089844  Validation Loss: 0.2573451101779938  Validation Accuracy: 92.62000274658203\n",
      "No.: 46000  Training Loss: 0.28956666588783264  Training Accuracy: 91.7756576538086  Validation Loss: 0.2554316222667694  Validation Accuracy: 92.73999786376953\n",
      "No.: 46500  Training Loss: 0.28913766145706177  Training Accuracy: 91.78922271728516  Validation Loss: 0.25599655508995056  Validation Accuracy: 92.7699966430664\n"
     ]
    }
   ],
   "source": [
    "\n",
    "torch.manual_seed(1)\n",
    "\n",
    "# Initialization of training hyperparameters, cost function and optimizer\n",
    "num_epochs    = 25\n",
    "learning_rate = 0.08\n",
    "criterion     = nn.CrossEntropyLoss()\n",
    "optimizer     = torch.optim.SGD(model.parameters(), lr=learning_rate)\n",
    "\n",
    "train_loss    = 0.0\n",
    "val_loss      = 0.0\n",
    "total         = 0.0\n",
    "num_correct   = 0.0\n",
    "train_out     = torch.zeros(size=(num_epochs*len(train_dataloader), 2))\n",
    "val_out       = torch.zeros(size=(torch.ceil(torch.mul(num_epochs*len(train_dataloader),0.002)).type(torch.int32), 2))\n",
    "val_step      = 0\n",
    "\n",
    "# Main training loop\n",
    "for t in range(num_epochs):\n",
    "  for idx, (x, y) in enumerate(train_dataloader, 0):\n",
    "    # if we hadn't already flattened our data, we would do so before calling .to(device) on x\n",
    "    x, y    = x.to(device), y.to(device) # Remember to attach your data to GPU\n",
    "\n",
    "    # Required to zero gradient for each iteration\n",
    "    optimizer.zero_grad()      \n",
    "    # Get predicted label based on current model\n",
    "    y_pred  = model(x)\n",
    "    # Compute cost\n",
    "    loss    = criterion(y_pred, y)\n",
    "    # Do backpropagation\n",
    "    loss.backward()\n",
    "\n",
    "    # Compute average running training loss and accuracy\n",
    "    total               += y.size(0)\n",
    "    train_loss          += loss.item()*y.size(0)\n",
    "    num_correct         += (torch.argmax(y_pred, dim=1) == y).sum().item()\n",
    "    train_out[step,0]   = train_loss/total\n",
    "    train_out[step,1]   = (num_correct/total)*100\n",
    "\n",
    "    # Do validation once every 500 weight updates during training\n",
    "    if step % 500 == 0:\n",
    "      with torch.no_grad():\n",
    "        val_loss            = 0.0\n",
    "        total_val           = 0.0\n",
    "        num_correct_val     = 0.0\n",
    "        for idx, (x, y) in enumerate(val_dataloader, 0):\n",
    "          x, y                  = x.to(device), y.to(device)\n",
    "          y_pred                = model(x)\n",
    "          loss                  = criterion(y_pred, y)   \n",
    "\n",
    "          # Compute average running validation loss and accuracy       \n",
    "          val_loss              += loss.item()*y.size(0)\n",
    "          num_correct_val       += (torch.argmax(y_pred, dim=1) == y).sum().item()          \n",
    "          total_val             += y.size(0)\n",
    "          val_out[val_step,0]   = val_loss/total_val\n",
    "          val_out[val_step,1]   = (num_correct_val/total_val)*100\n",
    "\n",
    "        # Print some parameters for diagnosis\n",
    "        print('No.:', step, \n",
    "                      ' Training Loss:', train_out[step,0].item(), ' Training Accuracy:', train_out[step,1].item(), \n",
    "                      ' Validation Loss:', val_out[val_step,0].item(), ' Validation Accuracy:', val_out[val_step,1].item())\n",
    "        val_step               += 1\n",
    "\n",
    "    optimizer.step()\n",
    "\n",
    "    step    += 1"
   ]
  },
  {
   "cell_type": "markdown",
   "metadata": {
    "id": "VWSNdH2C6S85"
   },
   "source": [
    "Finally, we plot the training and validation losses and accuracies as a function of the number of weight updates (iterations of training)."
   ]
  },
  {
   "cell_type": "code",
   "execution_count": null,
   "metadata": {
    "colab": {
     "base_uri": "https://localhost:8080/",
     "height": 973
    },
    "executionInfo": {
     "elapsed": 1526,
     "status": "ok",
     "timestamp": 1634752268849,
     "user": {
      "displayName": "Kelly Feng",
      "photoUrl": "https://lh3.googleusercontent.com/a-/AOh14GiE_zqw1wGgtnqrMNNYVIn3LXnFSdlpXcozSv-W=s64",
      "userId": "05766461114990380038"
     },
     "user_tz": 240
    },
    "id": "DYJS-U-lPJ2h",
    "outputId": "7b9a4abf-301f-4a6b-917b-2ee1a706c620"
   },
   "outputs": [
    {
     "data": {
      "image/png": "[encoded data removed]",
      "text/plain": [
       "<Figure size 504x576 with 1 Axes>"
      ]
     },
     "metadata": {
      "needs_background": "light"
     },
     "output_type": "display_data"
    },
    {
     "data": {
      "image/png": "[encoded data removed]",
      "text/plain": [
       "<Figure size 504x576 with 1 Axes>"
      ]
     },
     "metadata": {
      "needs_background": "light"
     },
     "output_type": "display_data"
    }
   ],
   "source": [
    "t_train       = torch.arange(train_out.shape[0])\n",
    "t_val         = torch.arange(val_out.shape[0])\n",
    "\n",
    "fig = plt.figure(figsize=(18, 7))\n",
    "ax1 = fig.add_axes((0.0, 0.2, 1.8, 0.7))\n",
    "ax1.plot(t_train, train_out[:,0], lw=2)\n",
    "ax1.plot(t_val*500, val_out[:,0], lw=2)\n",
    "ax1.grid('on')\n",
    "ax1.set_yticks(torch.arange(0, 2, step=0.2)) \n",
    "ax1.set_ylim(bottom=0, top=2)\n",
    "ax1.legend(['Train','Validation'], fontsize=12)\n",
    "# center text\n",
    "fig.text(.85, .1, 'Training and Validation Losses against No. of Weight Updates', ha='center', size=15)\n",
    "fig.set_size_inches(7, 8, forward=True)\n",
    "\n",
    "fig = plt.figure(figsize=(18, 7))\n",
    "ax1 = fig.add_axes((0.0, 0.2, 1.8, 0.7))\n",
    "ax1.plot(t_train, train_out[:,1], lw=2)\n",
    "ax1.plot(t_val*500, val_out[:,1], lw=2)\n",
    "ax1.grid('on')\n",
    "ax1.set_xticks(torch.arange(0, 48000, step=5000)) \n",
    "ax1.set_yticks(torch.arange(50, 100, step=5)) \n",
    "ax1.set_ylim(bottom=50, top=100)\n",
    "ax1.legend(['Training','Validation'], fontsize=12)\n",
    "# center text\n",
    "fig.text(.85, .1, 'Training and Validation Accuracy [%] against No. of Weight Updates', ha='center', size=15)\n",
    "fig.set_size_inches(7, 8, forward=True)\n",
    "\n",
    "plt.show()\n"
   ]
  },
  {
   "cell_type": "markdown",
   "metadata": {
    "id": "I_SUecQOCwqO"
   },
   "source": [
    "## Hyperparameter Tuning- Can we do better than Grid Search?\n",
    "\n",
    "Hyperparameter tuning can be one of the most impactful (and computationally expensive) processes on a machine learning model's performance. So far, we mainly think of hyperparameter tuning in terms of nested loops, or a grid, in a sense. In this method, we might feed our model a few reasonable options for different hyperparameters and train our model for each combination, ultimately choosing the combination that results in best performance.\n",
    "\n",
    "This is certainly a useful method, but can be inefficient, particularly when some areas of our hyperparameter distribution have a low likelihood of performing well. We have to re-evaluate the objective function for each combination, so while this method could be useful for simple models with few hyperparameter options, it starts to scale poorly when our models become more complex and when we introduce more hyperparameters.\n",
    "\n",
    "### Enter Bayesian Optimization \n",
    "\n",
    "In this method, instead of simply looping through arrays of hyperparameters, we build a probability model (called a surrogate) mapping the probability of different sets of hyperparameters achieving various scores on our objective function. It's important to note that while this model might not be very accurate on the first try, we will iterate on it to make it better.\n",
    "\n",
    "Instead of evaluating hyperparameters on the objective function, we evaluate some sort of selection criterion on the surrogate, which is much easier to compute. An example of a commonly used selection criteria is Expected Improvement:\n",
    "<br><br>\n",
    "\n",
    "$EI_{y^*}(x) = \\int_{-\\infty}^{y^*}(y^*-y)p(y|x)dy$,\n",
    "\n",
    "<br>\n",
    "\n",
    "where $y^*$ corresponds to some threshold value of the objective function, $x$ is the proposed set of hyperparameters, $y$ is the actual value of the objective function using hyperparameters $x$, and $p(y|x)$ is the surrogate probability model expressing the probability of $y$ given $x$. You can tell by looking at the equation that this function will be higher when we have higher probabilities for smaller values of $y$. When this function is high, it represents greater expected improvement, and thus **we aim to maximize it.** \n",
    "\n",
    "When we have chosen our best set of hyperparameters for the surrogate, we evaluate on the real objective function. We then keep iterating on our surrogate based on our history of these scores, to make our surrogate more closely spproximate our actual objective function.\n",
    "\n",
    "The key to Bayesian Optimization is that, with each iteration, **we are using our prior knowledge to help select better sets of hyperparameters.** Thus, while we spend more time selecting each set of hyperparameters, we are selecting better hyperparameters, and thus **can minimize our error with fewer calls of the objective function.** When calling the objective function involves training a complicated neural network, the extra time spent selecting each hyperparameter set becomes negligible when compared to the time saved by training the actual model fewer times.\n",
    "\n",
    "For a deeper dive into Bayesian Optimization, we highly recommend you check out [this tutorial](https://towardsdatascience.com/a-conceptual-explanation-of-bayesian-model-based-hyperparameter-optimization-for-machine-learning-b8172278050f).\n",
    "\n",
    "## Bayesian Optimization in Practice With Optuna\n",
    "\n",
    "As fun as implementing the above Bayesian Optimization technique from scratch sounds, other people have actually already done it for us! \n",
    "\n",
    "Using Optuna, we create a study based off parameter distributions we choose and a study length we choose (which we can specify in number of trials or in seconds). Optuna then uses a Bayesian sampler to choose the best hyperparameters within our given distributions and ultimatley give us the best hyperparameter set it can find. The default sampler is the Tree-structured Parzen Estimator, which is demonstrated in the above linked tutorial, but we can choose a different sampler if we wish. \n",
    "\n",
    "To use Optuna, we should familiarize ourselves with the ideas of suggested parameter distributions, trials, and pruning.\n",
    "\n",
    "**Suggested parameter distributions** allow us to define our search space via a minimum, maximum, and probability distribution. Optuna allows us to use any of the following distributions:\n",
    "\n",
    "\n",
    "*   uniform — float values\n",
    "*   log-uniform — float values\n",
    "*   discrete uniform — float values with intervals\n",
    "*   integer — integer values\n",
    "*   categorical — categorical values from a list\n",
    "\n",
    "\n",
    "We can use these distributions to constrict our search spaces to ones that make sense for each parameter. For instance, if we wanted to tune the depth of a decision tree, it wouldn't make sense to include floats like 3.7 in our search space, so constain it to integers.\n",
    "\n",
    "For perhaps a less obvious example, we can look at learning rate. Based on prior knowledge, we know that an efficient way of tuning learning rate is to follow a log-normal distribution over several orders of magnitude; we generally want to change the learning rate by multiplying it by a value rather than adding a value ([source](https://www.kdnuggets.com/2017/11/estimating-optimal-learning-rate-deep-neural-network.html)). Thus, while it would not necessarily be nonsensical to simply pick from a uniform distribution of floats, it could be much more effective to pick from a log-uniform distribution.\n",
    "\n",
    "**Trials** simply refer to every time the objective function is called. So, for each trial, we use our Bayesian sampler to select a set of hyperparameters, then evaluate that set on our actual data (usually through cross-validation).\n",
    "\n",
    "**Pruning** refers to Optuna stopping trials early based on some measure that suggests it might not perform well. After a certain number of trials, we can tell Optuna to start looking at the intermediate values of our trials and compare them to past trials, stopping early if they compare poorly (based on some measure we set). This helps speed up the process, as we spend less time on trials that might have little impact. We define the type of pruner when we create our study, the default being the Median Pruner, where a trial is pruned if its best intermediate result is worse than median of intermediate results of previous trials at the same step. To enable pruning, we simply call the report() and should_prune() methods after each step of the training.\n"
   ]
  },
  {
   "cell_type": "code",
   "execution_count": null,
   "metadata": {
    "colab": {
     "base_uri": "https://localhost:8080/"
    },
    "executionInfo": {
     "elapsed": 10029,
     "status": "ok",
     "timestamp": 1634752278869,
     "user": {
      "displayName": "Kelly Feng",
      "photoUrl": "https://lh3.googleusercontent.com/a-/AOh14GiE_zqw1wGgtnqrMNNYVIn3LXnFSdlpXcozSv-W=s64",
      "userId": "05766461114990380038"
     },
     "user_tz": 240
    },
    "id": "RVZC1x5Eoq5J",
    "outputId": "a7996859-33ab-46ae-e6c9-8337eebac8b4"
   },
   "outputs": [
    {
     "name": "stdout",
     "output_type": "stream",
     "text": [
      "Collecting optuna\n",
      "  Downloading optuna-2.10.0-py3-none-any.whl (308 kB)\n",
      "\u001b[K     |████████████████████████████████| 308 kB 5.4 MB/s \n",
      "\u001b[?25hCollecting alembic\n",
      "  Downloading alembic-1.7.4-py3-none-any.whl (209 kB)\n",
      "\u001b[K     |████████████████████████████████| 209 kB 46.5 MB/s \n",
      "\u001b[?25hCollecting colorlog\n",
      "  Downloading colorlog-6.5.0-py2.py3-none-any.whl (11 kB)\n",
      "Requirement already satisfied: scipy!=1.4.0 in /usr/local/lib/python3.7/dist-packages (from optuna) (1.4.1)\n",
      "Requirement already satisfied: sqlalchemy>=1.1.0 in /usr/local/lib/python3.7/dist-packages (from optuna) (1.4.25)\n",
      "Requirement already satisfied: numpy in /usr/local/lib/python3.7/dist-packages (from optuna) (1.19.5)\n",
      "Collecting cmaes>=0.8.2\n",
      "  Downloading cmaes-0.8.2-py3-none-any.whl (15 kB)\n",
      "Requirement already satisfied: packaging>=20.0 in /usr/local/lib/python3.7/dist-packages (from optuna) (21.0)\n",
      "Collecting cliff\n",
      "  Downloading cliff-3.9.0-py3-none-any.whl (80 kB)\n",
      "\u001b[K     |████████████████████████████████| 80 kB 9.2 MB/s \n",
      "\u001b[?25hRequirement already satisfied: tqdm in /usr/local/lib/python3.7/dist-packages (from optuna) (4.62.3)\n",
      "Requirement already satisfied: PyYAML in /usr/local/lib/python3.7/dist-packages (from optuna) (3.13)\n",
      "Requirement already satisfied: pyparsing>=2.0.2 in /usr/local/lib/python3.7/dist-packages (from packaging>=20.0->optuna) (2.4.7)\n",
      "Requirement already satisfied: greenlet!=0.4.17 in /usr/local/lib/python3.7/dist-packages (from sqlalchemy>=1.1.0->optuna) (1.1.2)\n",
      "Requirement already satisfied: importlib-metadata in /usr/local/lib/python3.7/dist-packages (from sqlalchemy>=1.1.0->optuna) (4.8.1)\n",
      "Collecting Mako\n",
      "  Downloading Mako-1.1.5-py2.py3-none-any.whl (75 kB)\n",
      "\u001b[K     |████████████████████████████████| 75 kB 4.3 MB/s \n",
      "\u001b[?25hRequirement already satisfied: importlib-resources in /usr/local/lib/python3.7/dist-packages (from alembic->optuna) (5.2.2)\n",
      "Collecting pbr!=2.1.0,>=2.0.0\n",
      "  Downloading pbr-5.6.0-py2.py3-none-any.whl (111 kB)\n",
      "\u001b[K     |████████████████████████████████| 111 kB 49.2 MB/s \n",
      "\u001b[?25hCollecting cmd2>=1.0.0\n",
      "  Downloading cmd2-2.2.0-py3-none-any.whl (144 kB)\n",
      "\u001b[K     |████████████████████████████████| 144 kB 49.0 MB/s \n",
      "\u001b[?25hCollecting autopage>=0.4.0\n",
      "  Downloading autopage-0.4.0-py3-none-any.whl (20 kB)\n",
      "Requirement already satisfied: PrettyTable>=0.7.2 in /usr/local/lib/python3.7/dist-packages (from cliff->optuna) (2.2.1)\n",
      "Collecting stevedore>=2.0.1\n",
      "  Downloading stevedore-3.5.0-py3-none-any.whl (49 kB)\n",
      "\u001b[K     |████████████████████████████████| 49 kB 6.2 MB/s \n",
      "\u001b[?25hRequirement already satisfied: wcwidth>=0.1.7 in /usr/local/lib/python3.7/dist-packages (from cmd2>=1.0.0->cliff->optuna) (0.2.5)\n",
      "Collecting pyperclip>=1.6\n",
      "  Downloading pyperclip-1.8.2.tar.gz (20 kB)\n",
      "Collecting colorama>=0.3.7\n",
      "  Downloading colorama-0.4.4-py2.py3-none-any.whl (16 kB)\n",
      "Requirement already satisfied: attrs>=16.3.0 in /usr/local/lib/python3.7/dist-packages (from cmd2>=1.0.0->cliff->optuna) (21.2.0)\n",
      "Requirement already satisfied: typing-extensions in /usr/local/lib/python3.7/dist-packages (from cmd2>=1.0.0->cliff->optuna) (3.7.4.3)\n",
      "Requirement already satisfied: zipp>=0.5 in /usr/local/lib/python3.7/dist-packages (from importlib-metadata->sqlalchemy>=1.1.0->optuna) (3.6.0)\n",
      "Requirement already satisfied: MarkupSafe>=0.9.2 in /usr/local/lib/python3.7/dist-packages (from Mako->alembic->optuna) (2.0.1)\n",
      "Building wheels for collected packages: pyperclip\n",
      "  Building wheel for pyperclip (setup.py) ... \u001b[?25l\u001b[?25hdone\n",
      "  Created wheel for pyperclip: filename=pyperclip-1.8.2-py3-none-any.whl size=11136 sha256=d1c4679447350df63c4e7e5e9bd7f090c707e69d59bee9449ff628da2cff8b32\n",
      "  Stored in directory: /root/.cache/pip/wheels/9f/18/84/8f69f8b08169c7bae2dde6bd7daf0c19fca8c8e500ee620a28\n",
      "Successfully built pyperclip\n",
      "Installing collected packages: pyperclip, pbr, colorama, stevedore, Mako, cmd2, autopage, colorlog, cmaes, cliff, alembic, optuna\n",
      "Successfully installed Mako-1.1.5 alembic-1.7.4 autopage-0.4.0 cliff-3.9.0 cmaes-0.8.2 cmd2-2.2.0 colorama-0.4.4 colorlog-6.5.0 optuna-2.10.0 pbr-5.6.0 pyperclip-1.8.2 stevedore-3.5.0\n"
     ]
    }
   ],
   "source": [
    "import os\n",
    "\n",
    "!pip install optuna\n",
    "import optuna\n",
    "from optuna.trial import TrialState\n",
    "import torch\n",
    "import torch.nn as nn\n",
    "import torch.nn.functional as F\n",
    "import torch.optim as optim\n",
    "import torch.utils.data\n",
    "from torchvision import datasets\n",
    "from torchvision import transforms"
   ]
  },
  {
   "cell_type": "code",
   "execution_count": null,
   "metadata": {
    "id": "EzWa5GSHoVxH"
   },
   "outputs": [],
   "source": [
    "DEVICE = device\n",
    "CLASSES = 10\n",
    "EPOCHS = 10"
   ]
  },
  {
   "cell_type": "code",
   "execution_count": null,
   "metadata": {
    "id": "1flFGdvL3oTt"
   },
   "outputs": [],
   "source": [
    "def define_model(trial):\n",
    "    # We optimize the number of layers and hidden units in each layer.\n",
    "    # We give Optuna the distibution to sample from using \"suggest\"\n",
    "    n_layers = trial.suggest_int(\"n_layers\", 1, 3)\n",
    "    layers = []\n",
    "\n",
    "    in_features = 28 * 28\n",
    "    for i in range(n_layers):\n",
    "        out_features = trial.suggest_int(\"n_units_l{}\".format(i), 16, 32)\n",
    "        layers.append(nn.Linear(in_features, out_features))\n",
    "        layers.append(nn.ReLU())\n",
    "\n",
    "        in_features = out_features\n",
    "    layers.append(nn.Linear(in_features, CLASSES))\n",
    "    layers.append(nn.LogSoftmax(dim=1))\n",
    "\n",
    "    return nn.Sequential(*layers)"
   ]
  },
  {
   "cell_type": "code",
   "execution_count": null,
   "metadata": {
    "id": "qRJzi7gH52TD"
   },
   "outputs": [],
   "source": [
    "def objective(trial):\n",
    "\n",
    "    # Generate the model.\n",
    "    model = define_model(trial).to(DEVICE)\n",
    "\n",
    "    # Generate the optimizers.\n",
    "    optimizer_name = trial.suggest_categorical(\"optimizer\", [\"Adam\", \"RMSprop\", \"SGD\"])\n",
    "    lr = trial.suggest_loguniform(\"lr\", 1e-5, 1e-1)\n",
    "    optimizer = getattr(optim, optimizer_name)(model.parameters(), lr=lr)\n",
    "\n",
    "    train_loader, valid_loader = train_dataloader, val_dataloader\n",
    "\n",
    "    # Training of the model.\n",
    "    for epoch in range(EPOCHS):\n",
    "        model.train()\n",
    "        for batch_idx, (data, target) in enumerate(train_loader):            \n",
    "            data, target = data.view(data.shape[0], -1).to(DEVICE), target.to(DEVICE)\n",
    "\n",
    "            optimizer.zero_grad()\n",
    "            output = model(data)\n",
    "            loss = F.nll_loss(output, target)\n",
    "            loss.backward()\n",
    "            optimizer.step()\n",
    "\n",
    "        # Validation of the model.\n",
    "        model.eval()\n",
    "        correct = 0\n",
    "        with torch.no_grad():\n",
    "            for batch_idx, (data, target) in enumerate(valid_loader):\n",
    "                data, target = data.view(data.shape[0], -1).to(DEVICE), target.to(DEVICE)\n",
    "                output = model(data)\n",
    "                # Get the index of the max log-probability.\n",
    "                pred = output.argmax(dim=1, keepdim=True)\n",
    "                correct += pred.eq(target.view_as(pred)).sum().item()\n",
    "                \n",
    "        accuracy = correct / len(valid_loader.dataset)\n",
    "\n",
    "        trial.report(accuracy, epoch)\n",
    "\n",
    "        # Handle pruning based on the intermediate value.\n",
    "        # The rule used for pruning is defined in the create_study function \n",
    "        # in the next cell, where the default uses a Median pruner, which stops \n",
    "        # the trial if the trial’s best intermediate result is worse than the \n",
    "        # median of intermediate results of previous trials at the same step\n",
    "        if trial.should_prune():\n",
    "            raise optuna.exceptions.TrialPruned()\n",
    "\n",
    "    return accuracy"
   ]
  },
  {
   "cell_type": "code",
   "execution_count": null,
   "metadata": {
    "colab": {
     "base_uri": "https://localhost:8080/"
    },
    "executionInfo": {
     "elapsed": 318125,
     "status": "ok",
     "timestamp": 1634752597144,
     "user": {
      "displayName": "Kelly Feng",
      "photoUrl": "https://lh3.googleusercontent.com/a-/AOh14GiE_zqw1wGgtnqrMNNYVIn3LXnFSdlpXcozSv-W=s64",
      "userId": "05766461114990380038"
     },
     "user_tz": 240
    },
    "id": "ZF9PZEUV54U-",
    "outputId": "b896f1e5-1260-4491-ed78-fd9cefd9f3bd"
   },
   "outputs": [
    {
     "name": "stderr",
     "output_type": "stream",
     "text": [
      "\u001b[32m[I 2021-10-20 17:51:18,719]\u001b[0m A new study created in memory with name: no-name-33d4cf39-f2d2-4a06-a564-a223caea7674\u001b[0m\n",
      "\u001b[32m[I 2021-10-20 17:52:13,205]\u001b[0m Trial 0 finished with value: 0.9561 and parameters: {'n_layers': 3, 'n_units_l0': 19, 'n_units_l1': 28, 'n_units_l2': 24, 'optimizer': 'Adam', 'lr': 0.00048174552663188047}. Best is trial 0 with value: 0.9561.\u001b[0m\n",
      "\u001b[32m[I 2021-10-20 17:52:46,442]\u001b[0m Trial 1 finished with value: 0.9382 and parameters: {'n_layers': 1, 'n_units_l0': 16, 'optimizer': 'RMSprop', 'lr': 0.008410522136014864}. Best is trial 0 with value: 0.9561.\u001b[0m\n",
      "\u001b[32m[I 2021-10-20 17:53:19,559]\u001b[0m Trial 2 finished with value: 0.9465 and parameters: {'n_layers': 1, 'n_units_l0': 31, 'optimizer': 'RMSprop', 'lr': 0.00020009870263194748}. Best is trial 0 with value: 0.9561.\u001b[0m\n",
      "\u001b[32m[I 2021-10-20 17:54:07,206]\u001b[0m Trial 3 finished with value: 0.9394 and parameters: {'n_layers': 3, 'n_units_l0': 31, 'n_units_l1': 29, 'n_units_l2': 24, 'optimizer': 'RMSprop', 'lr': 0.0001149716951007059}. Best is trial 0 with value: 0.9561.\u001b[0m\n",
      "\u001b[32m[I 2021-10-20 17:54:35,545]\u001b[0m Trial 4 finished with value: 0.6009 and parameters: {'n_layers': 1, 'n_units_l0': 21, 'optimizer': 'SGD', 'lr': 0.00014467563256860262}. Best is trial 0 with value: 0.9561.\u001b[0m\n",
      "\u001b[32m[I 2021-10-20 17:54:38,368]\u001b[0m Trial 5 pruned. \u001b[0m\n",
      "\u001b[32m[I 2021-10-20 17:55:16,858]\u001b[0m Trial 6 finished with value: 0.9576 and parameters: {'n_layers': 3, 'n_units_l0': 20, 'n_units_l1': 27, 'n_units_l2': 17, 'optimizer': 'SGD', 'lr': 0.04209902493872645}. Best is trial 6 with value: 0.9576.\u001b[0m\n",
      "\u001b[32m[I 2021-10-20 17:55:20,786]\u001b[0m Trial 7 pruned. \u001b[0m\n",
      "\u001b[32m[I 2021-10-20 17:55:24,621]\u001b[0m Trial 8 pruned. \u001b[0m\n",
      "\u001b[32m[I 2021-10-20 17:55:30,138]\u001b[0m Trial 9 pruned. \u001b[0m\n",
      "\u001b[32m[I 2021-10-20 17:56:03,552]\u001b[0m Trial 10 finished with value: 0.9579 and parameters: {'n_layers': 2, 'n_units_l0': 16, 'n_units_l1': 24, 'optimizer': 'SGD', 'lr': 0.08266189923068824}. Best is trial 10 with value: 0.9579.\u001b[0m\n",
      "\u001b[32m[I 2021-10-20 17:56:36,978]\u001b[0m Trial 11 finished with value: 0.9539 and parameters: {'n_layers': 2, 'n_units_l0': 16, 'n_units_l1': 24, 'optimizer': 'SGD', 'lr': 0.09808976731515116}. Best is trial 10 with value: 0.9579.\u001b[0m\n"
     ]
    },
    {
     "name": "stdout",
     "output_type": "stream",
     "text": [
      "Study statistics: \n",
      "  Number of finished trials:  12\n",
      "  Number of pruned trials:  4\n",
      "  Number of complete trials:  8\n",
      "Best trial:\n",
      "  Value:  0.9579\n",
      "  Params: \n",
      "    n_layers: 2\n",
      "    n_units_l0: 16\n",
      "    n_units_l1: 24\n",
      "    optimizer: SGD\n",
      "    lr: 0.08266189923068824\n"
     ]
    }
   ],
   "source": [
    "# We are returning accuracy, so we want to maximize it\n",
    "study = optuna.create_study(direction=\"maximize\")\n",
    "# Set our study to stop after either 100 trials or 300 seconds\n",
    "study.optimize(objective, n_trials=100, timeout=300)\n",
    "\n",
    "pruned_trials = study.get_trials(deepcopy=False, states=[TrialState.PRUNED])\n",
    "complete_trials = study.get_trials(deepcopy=False, states=[TrialState.COMPLETE])\n",
    "\n",
    "print(\"Study statistics: \")\n",
    "print(\"  Number of finished trials: \", len(study.trials))\n",
    "print(\"  Number of pruned trials: \", len(pruned_trials))\n",
    "print(\"  Number of complete trials: \", len(complete_trials))\n",
    "\n",
    "print(\"Best trial:\")\n",
    "trial = study.best_trial\n",
    "\n",
    "print(\"  Value: \", trial.value)\n",
    "\n",
    "print(\"  Params: \")\n",
    "for key, value in trial.params.items():\n",
    "    print(\"    {}: {}\".format(key, value))"
   ]
  },
  {
   "cell_type": "markdown",
   "metadata": {
    "id": "Sy14mcExph6e"
   },
   "source": [
    "Once we finish our study, Optuna provides some handy convenience functions. We can select our best parameters, and even view our trials as a pandas dataframe!"
   ]
  },
  {
   "cell_type": "code",
   "execution_count": null,
   "metadata": {
    "colab": {
     "base_uri": "https://localhost:8080/",
     "height": 645
    },
    "executionInfo": {
     "elapsed": 11,
     "status": "ok",
     "timestamp": 1634752597230,
     "user": {
      "displayName": "Kelly Feng",
      "photoUrl": "https://lh3.googleusercontent.com/a-/AOh14GiE_zqw1wGgtnqrMNNYVIn3LXnFSdlpXcozSv-W=s64",
      "userId": "05766461114990380038"
     },
     "user_tz": 240
    },
    "id": "jpzigiwvpuYm",
    "outputId": "00f0a590-422b-41d1-cf68-65ca67e1a90f"
   },
   "outputs": [
    {
     "data": {
      "text/html": [
       "<div>\n",
       "<style scoped>\n",
       "    .dataframe tbody tr th:only-of-type {\n",
       "        vertical-align: middle;\n",
       "    }\n",
       "\n",
       "    .dataframe tbody tr th {\n",
       "        vertical-align: top;\n",
       "    }\n",
       "\n",
       "    .dataframe thead th {\n",
       "        text-align: right;\n",
       "    }\n",
       "</style>\n",
       "<table border=\"1\" class=\"dataframe\">\n",
       "  <thead>\n",
       "    <tr style=\"text-align: right;\">\n",
       "      <th></th>\n",
       "      <th>number</th>\n",
       "      <th>value</th>\n",
       "      <th>datetime_start</th>\n",
       "      <th>datetime_complete</th>\n",
       "      <th>duration</th>\n",
       "      <th>params_lr</th>\n",
       "      <th>params_n_layers</th>\n",
       "      <th>params_n_units_l0</th>\n",
       "      <th>params_n_units_l1</th>\n",
       "      <th>params_n_units_l2</th>\n",
       "      <th>params_optimizer</th>\n",
       "      <th>state</th>\n",
       "    </tr>\n",
       "  </thead>\n",
       "  <tbody>\n",
       "    <tr>\n",
       "      <th>0</th>\n",
       "      <td>0</td>\n",
       "      <td>0.9561</td>\n",
       "      <td>2021-10-20 17:51:18.723246</td>\n",
       "      <td>2021-10-20 17:52:13.204965</td>\n",
       "      <td>0 days 00:00:54.481719</td>\n",
       "      <td>0.000482</td>\n",
       "      <td>3</td>\n",
       "      <td>19</td>\n",
       "      <td>28.0</td>\n",
       "      <td>24.0</td>\n",
       "      <td>Adam</td>\n",
       "      <td>COMPLETE</td>\n",
       "    </tr>\n",
       "    <tr>\n",
       "      <th>1</th>\n",
       "      <td>1</td>\n",
       "      <td>0.9382</td>\n",
       "      <td>2021-10-20 17:52:13.207569</td>\n",
       "      <td>2021-10-20 17:52:46.442287</td>\n",
       "      <td>0 days 00:00:33.234718</td>\n",
       "      <td>0.008411</td>\n",
       "      <td>1</td>\n",
       "      <td>16</td>\n",
       "      <td>NaN</td>\n",
       "      <td>NaN</td>\n",
       "      <td>RMSprop</td>\n",
       "      <td>COMPLETE</td>\n",
       "    </tr>\n",
       "    <tr>\n",
       "      <th>2</th>\n",
       "      <td>2</td>\n",
       "      <td>0.9465</td>\n",
       "      <td>2021-10-20 17:52:46.445529</td>\n",
       "      <td>2021-10-20 17:53:19.558758</td>\n",
       "      <td>0 days 00:00:33.113229</td>\n",
       "      <td>0.000200</td>\n",
       "      <td>1</td>\n",
       "      <td>31</td>\n",
       "      <td>NaN</td>\n",
       "      <td>NaN</td>\n",
       "      <td>RMSprop</td>\n",
       "      <td>COMPLETE</td>\n",
       "    </tr>\n",
       "    <tr>\n",
       "      <th>3</th>\n",
       "      <td>3</td>\n",
       "      <td>0.9394</td>\n",
       "      <td>2021-10-20 17:53:19.560999</td>\n",
       "      <td>2021-10-20 17:54:07.205859</td>\n",
       "      <td>0 days 00:00:47.644860</td>\n",
       "      <td>0.000115</td>\n",
       "      <td>3</td>\n",
       "      <td>31</td>\n",
       "      <td>29.0</td>\n",
       "      <td>24.0</td>\n",
       "      <td>RMSprop</td>\n",
       "      <td>COMPLETE</td>\n",
       "    </tr>\n",
       "    <tr>\n",
       "      <th>4</th>\n",
       "      <td>4</td>\n",
       "      <td>0.6009</td>\n",
       "      <td>2021-10-20 17:54:07.208417</td>\n",
       "      <td>2021-10-20 17:54:35.545007</td>\n",
       "      <td>0 days 00:00:28.336590</td>\n",
       "      <td>0.000145</td>\n",
       "      <td>1</td>\n",
       "      <td>21</td>\n",
       "      <td>NaN</td>\n",
       "      <td>NaN</td>\n",
       "      <td>SGD</td>\n",
       "      <td>COMPLETE</td>\n",
       "    </tr>\n",
       "    <tr>\n",
       "      <th>5</th>\n",
       "      <td>5</td>\n",
       "      <td>0.1562</td>\n",
       "      <td>2021-10-20 17:54:35.547037</td>\n",
       "      <td>2021-10-20 17:54:38.368935</td>\n",
       "      <td>0 days 00:00:02.821898</td>\n",
       "      <td>0.000041</td>\n",
       "      <td>1</td>\n",
       "      <td>20</td>\n",
       "      <td>NaN</td>\n",
       "      <td>NaN</td>\n",
       "      <td>SGD</td>\n",
       "      <td>PRUNED</td>\n",
       "    </tr>\n",
       "    <tr>\n",
       "      <th>6</th>\n",
       "      <td>6</td>\n",
       "      <td>0.9576</td>\n",
       "      <td>2021-10-20 17:54:38.370816</td>\n",
       "      <td>2021-10-20 17:55:16.857636</td>\n",
       "      <td>0 days 00:00:38.486820</td>\n",
       "      <td>0.042099</td>\n",
       "      <td>3</td>\n",
       "      <td>20</td>\n",
       "      <td>27.0</td>\n",
       "      <td>17.0</td>\n",
       "      <td>SGD</td>\n",
       "      <td>COMPLETE</td>\n",
       "    </tr>\n",
       "    <tr>\n",
       "      <th>7</th>\n",
       "      <td>7</td>\n",
       "      <td>0.1135</td>\n",
       "      <td>2021-10-20 17:55:16.860062</td>\n",
       "      <td>2021-10-20 17:55:20.786726</td>\n",
       "      <td>0 days 00:00:03.926664</td>\n",
       "      <td>0.000212</td>\n",
       "      <td>3</td>\n",
       "      <td>26</td>\n",
       "      <td>16.0</td>\n",
       "      <td>18.0</td>\n",
       "      <td>SGD</td>\n",
       "      <td>PRUNED</td>\n",
       "    </tr>\n",
       "    <tr>\n",
       "      <th>8</th>\n",
       "      <td>8</td>\n",
       "      <td>0.0965</td>\n",
       "      <td>2021-10-20 17:55:20.788570</td>\n",
       "      <td>2021-10-20 17:55:24.621792</td>\n",
       "      <td>0 days 00:00:03.833222</td>\n",
       "      <td>0.000027</td>\n",
       "      <td>3</td>\n",
       "      <td>25</td>\n",
       "      <td>31.0</td>\n",
       "      <td>16.0</td>\n",
       "      <td>SGD</td>\n",
       "      <td>PRUNED</td>\n",
       "    </tr>\n",
       "    <tr>\n",
       "      <th>9</th>\n",
       "      <td>9</td>\n",
       "      <td>0.8736</td>\n",
       "      <td>2021-10-20 17:55:24.624985</td>\n",
       "      <td>2021-10-20 17:55:30.138505</td>\n",
       "      <td>0 days 00:00:05.513520</td>\n",
       "      <td>0.000174</td>\n",
       "      <td>3</td>\n",
       "      <td>32</td>\n",
       "      <td>21.0</td>\n",
       "      <td>25.0</td>\n",
       "      <td>Adam</td>\n",
       "      <td>PRUNED</td>\n",
       "    </tr>\n",
       "    <tr>\n",
       "      <th>10</th>\n",
       "      <td>10</td>\n",
       "      <td>0.9579</td>\n",
       "      <td>2021-10-20 17:55:30.140259</td>\n",
       "      <td>2021-10-20 17:56:03.552358</td>\n",
       "      <td>0 days 00:00:33.412099</td>\n",
       "      <td>0.082662</td>\n",
       "      <td>2</td>\n",
       "      <td>16</td>\n",
       "      <td>24.0</td>\n",
       "      <td>NaN</td>\n",
       "      <td>SGD</td>\n",
       "      <td>COMPLETE</td>\n",
       "    </tr>\n",
       "    <tr>\n",
       "      <th>11</th>\n",
       "      <td>11</td>\n",
       "      <td>0.9539</td>\n",
       "      <td>2021-10-20 17:56:03.554497</td>\n",
       "      <td>2021-10-20 17:56:36.977600</td>\n",
       "      <td>0 days 00:00:33.423103</td>\n",
       "      <td>0.098090</td>\n",
       "      <td>2</td>\n",
       "      <td>16</td>\n",
       "      <td>24.0</td>\n",
       "      <td>NaN</td>\n",
       "      <td>SGD</td>\n",
       "      <td>COMPLETE</td>\n",
       "    </tr>\n",
       "  </tbody>\n",
       "</table>\n",
       "</div>"
      ],
      "text/plain": [
       "    number   value  ... params_optimizer     state\n",
       "0        0  0.9561  ...             Adam  COMPLETE\n",
       "1        1  0.9382  ...          RMSprop  COMPLETE\n",
       "2        2  0.9465  ...          RMSprop  COMPLETE\n",
       "3        3  0.9394  ...          RMSprop  COMPLETE\n",
       "4        4  0.6009  ...              SGD  COMPLETE\n",
       "5        5  0.1562  ...              SGD    PRUNED\n",
       "6        6  0.9576  ...              SGD  COMPLETE\n",
       "7        7  0.1135  ...              SGD    PRUNED\n",
       "8        8  0.0965  ...              SGD    PRUNED\n",
       "9        9  0.8736  ...             Adam    PRUNED\n",
       "10      10  0.9579  ...              SGD  COMPLETE\n",
       "11      11  0.9539  ...              SGD  COMPLETE\n",
       "\n",
       "[12 rows x 12 columns]"
      ]
     },
     "execution_count": 17,
     "metadata": {},
     "output_type": "execute_result"
    }
   ],
   "source": [
    "study.trials_dataframe()"
   ]
  },
  {
   "cell_type": "code",
   "execution_count": null,
   "metadata": {
    "colab": {
     "base_uri": "https://localhost:8080/"
    },
    "executionInfo": {
     "elapsed": 18,
     "status": "ok",
     "timestamp": 1634752597239,
     "user": {
      "displayName": "Kelly Feng",
      "photoUrl": "https://lh3.googleusercontent.com/a-/AOh14GiE_zqw1wGgtnqrMNNYVIn3LXnFSdlpXcozSv-W=s64",
      "userId": "05766461114990380038"
     },
     "user_tz": 240
    },
    "id": "FluGT13Kp-C2",
    "outputId": "45b3ad4f-3f73-4411-ac80-d175ffcbf41c"
   },
   "outputs": [
    {
     "data": {
      "text/plain": [
       "{'lr': 0.08266189923068824,\n",
       " 'n_layers': 2,\n",
       " 'n_units_l0': 16,\n",
       " 'n_units_l1': 24,\n",
       " 'optimizer': 'SGD'}"
      ]
     },
     "execution_count": 18,
     "metadata": {},
     "output_type": "execute_result"
    }
   ],
   "source": [
    "study.best_params"
   ]
  },
  {
   "cell_type": "markdown",
   "metadata": {
    "id": "KPfD1-R_oqTj"
   },
   "source": [
    "\n",
    "For more information about Optuna, refer to [this tutorial](https://towardsdatascience.com/how-to-make-your-model-awesome-with-optuna-b56d490368af) or [Optuna's documentation](https://optuna.readthedocs.io/en/stable/tutorial/index.html)."
   ]
  },
  {
   "cell_type": "code",
   "execution_count": null,
   "metadata": {
    "id": "sWTgPMW1E6n3"
   },
   "outputs": [],
   "source": []
  }
 ],
 "metadata": {
  "accelerator": "GPU",
  "colab": {
   "collapsed_sections": [],
   "name": "Deep Learning and Optuna for Hyperparameter Tuning Worksheet.ipynb",
   "provenance": [
    {
     "file_id": "https://github.com/CIS-519/worksheet-dev/blob/master/Deep_Learning_and_Optuna_for_Hyperparameter_Tuning_Worksheet.ipynb",
     "timestamp": 1634696617034
    }
   ]
  },
  "kernelspec": {
   "display_name": "Python 3",
   "name": "python3"
  }
 },
 "nbformat": 4,
 "nbformat_minor": 0
}
